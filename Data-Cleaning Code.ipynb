{
 "cells": [
  {
   "cell_type": "markdown",
   "id": "37d340ca-a222-4597-91a0-966507fe1663",
   "metadata": {},
   "source": [
    "# Loading Required Librarys"
   ]
  },
  {
   "cell_type": "code",
   "execution_count": 2,
   "id": "9e572bd1-f1a0-426c-8722-f79006817118",
   "metadata": {},
   "outputs": [],
   "source": [
    "import pandas as pd \n",
    "import numpy as np\n",
    "\n",
    "import matplotlib.pyplot as plt\n",
    "import seaborn as sns\n",
    "import plotly.express as px\n",
    "import plotly.graph_objects as go\n",
    "\n",
    "import bar_chart_race as bcr\n",
    "from IPython.display import Image,display\n",
    "\n",
    "from IPython.core.interactiveshell import InteractiveShell\n",
    "InteractiveShell.ast_node_interactivity = 'all'\n",
    "\n",
    "import warnings\n",
    "warnings.filterwarnings('ignore')\n",
    "sns.set(style='darkgrid')"
   ]
  },
  {
   "cell_type": "markdown",
   "id": "8b179c01-eb43-44ab-82b6-be49abc7caa8",
   "metadata": {},
   "source": [
    "## Load The Data Set"
   ]
  },
  {
   "cell_type": "code",
   "execution_count": 4,
   "id": "b0a116d7-85eb-4551-b5a9-7bed10773959",
   "metadata": {},
   "outputs": [],
   "source": [
    "# Load the dataset \n",
    "df = pd.read_csv(r\"C:\\Project\\Engineering_colleges.csv\")"
   ]
  },
  {
   "cell_type": "code",
   "execution_count": 5,
   "id": "7b706100-a7ab-49b2-b7ac-d603bc1df0ff",
   "metadata": {},
   "outputs": [
    {
     "data": {
      "text/html": [
       "<div>\n",
       "<style scoped>\n",
       "    .dataframe tbody tr th:only-of-type {\n",
       "        vertical-align: middle;\n",
       "    }\n",
       "\n",
       "    .dataframe tbody tr th {\n",
       "        vertical-align: top;\n",
       "    }\n",
       "\n",
       "    .dataframe thead th {\n",
       "        text-align: right;\n",
       "    }\n",
       "</style>\n",
       "<table border=\"1\" class=\"dataframe\">\n",
       "  <thead>\n",
       "    <tr style=\"text-align: right;\">\n",
       "      <th></th>\n",
       "      <th>Colleges</th>\n",
       "      <th>Rating</th>\n",
       "      <th>Reviews</th>\n",
       "      <th>NIRF_Ranking</th>\n",
       "      <th>City</th>\n",
       "      <th>State</th>\n",
       "      <th>Ownership</th>\n",
       "      <th>Fees</th>\n",
       "      <th>BTech_Courses</th>\n",
       "      <th>MTech_Courses</th>\n",
       "    </tr>\n",
       "  </thead>\n",
       "  <tbody>\n",
       "    <tr>\n",
       "      <th>0</th>\n",
       "      <td>IIT Madras - Indian Institute of Technology Ma...</td>\n",
       "      <td>4.7</td>\n",
       "      <td>114.0</td>\n",
       "      <td>1</td>\n",
       "      <td>Chennai</td>\n",
       "      <td>Tamil Nadu</td>\n",
       "      <td>Public/Govt</td>\n",
       "      <td>₹8.58 Lakhs</td>\n",
       "      <td>11.0</td>\n",
       "      <td>30.0</td>\n",
       "    </tr>\n",
       "    <tr>\n",
       "      <th>1</th>\n",
       "      <td>IIT Delhi - Indian Institute of Technology Delhi</td>\n",
       "      <td>4.6</td>\n",
       "      <td>265.0</td>\n",
       "      <td>2</td>\n",
       "      <td>New Delhi</td>\n",
       "      <td>Delhi</td>\n",
       "      <td>Public/Govt</td>\n",
       "      <td>₹8.58 Lakhs</td>\n",
       "      <td>14.0</td>\n",
       "      <td>48.0</td>\n",
       "    </tr>\n",
       "    <tr>\n",
       "      <th>2</th>\n",
       "      <td>IIT Bombay - Indian Institute of Technology Bo...</td>\n",
       "      <td>4.6</td>\n",
       "      <td>161.0</td>\n",
       "      <td>3</td>\n",
       "      <td>Mumbai</td>\n",
       "      <td>Maharashtra</td>\n",
       "      <td>Public/Govt</td>\n",
       "      <td>₹8.69 Lakhs</td>\n",
       "      <td>11.0</td>\n",
       "      <td>42.0</td>\n",
       "    </tr>\n",
       "    <tr>\n",
       "      <th>3</th>\n",
       "      <td>IIT Kanpur - Indian Institute of Technology Ka...</td>\n",
       "      <td>4.4</td>\n",
       "      <td>156.0</td>\n",
       "      <td>4</td>\n",
       "      <td>Kanpur</td>\n",
       "      <td>Uttar Pradesh</td>\n",
       "      <td>Public/Govt</td>\n",
       "      <td>₹11.67 Lakhs</td>\n",
       "      <td>9.0</td>\n",
       "      <td>40.0</td>\n",
       "    </tr>\n",
       "    <tr>\n",
       "      <th>4</th>\n",
       "      <td>IIT Kharagpur - Indian Institute of Technology...</td>\n",
       "      <td>4.7</td>\n",
       "      <td>323.0</td>\n",
       "      <td>5</td>\n",
       "      <td>Kharagpur</td>\n",
       "      <td>West Bengal</td>\n",
       "      <td>Public/Govt</td>\n",
       "      <td>₹10.42 Lakhs</td>\n",
       "      <td>16.0</td>\n",
       "      <td>62.0</td>\n",
       "    </tr>\n",
       "  </tbody>\n",
       "</table>\n",
       "</div>"
      ],
      "text/plain": [
       "                                            Colleges  Rating  Reviews  \\\n",
       "0  IIT Madras - Indian Institute of Technology Ma...     4.7    114.0   \n",
       "1   IIT Delhi - Indian Institute of Technology Delhi     4.6    265.0   \n",
       "2  IIT Bombay - Indian Institute of Technology Bo...     4.6    161.0   \n",
       "3  IIT Kanpur - Indian Institute of Technology Ka...     4.4    156.0   \n",
       "4  IIT Kharagpur - Indian Institute of Technology...     4.7    323.0   \n",
       "\n",
       "  NIRF_Ranking        City          State    Ownership          Fees  \\\n",
       "0            1     Chennai     Tamil Nadu  Public/Govt   ₹8.58 Lakhs   \n",
       "1            2   New Delhi          Delhi  Public/Govt   ₹8.58 Lakhs   \n",
       "2            3      Mumbai    Maharashtra  Public/Govt   ₹8.69 Lakhs   \n",
       "3            4      Kanpur  Uttar Pradesh  Public/Govt  ₹11.67 Lakhs   \n",
       "4            5   Kharagpur    West Bengal  Public/Govt  ₹10.42 Lakhs   \n",
       "\n",
       "   BTech_Courses  MTech_Courses  \n",
       "0           11.0           30.0  \n",
       "1           14.0           48.0  \n",
       "2           11.0           42.0  \n",
       "3            9.0           40.0  \n",
       "4           16.0           62.0  "
      ]
     },
     "execution_count": 5,
     "metadata": {},
     "output_type": "execute_result"
    }
   ],
   "source": [
    "df.head() # Check top 5 observations"
   ]
  },
  {
   "cell_type": "code",
   "execution_count": 6,
   "id": "c045f7a4-4fa1-4952-91da-6f72a1c9ba72",
   "metadata": {
    "scrolled": true
   },
   "outputs": [
    {
     "data": {
      "text/html": [
       "<div>\n",
       "<style scoped>\n",
       "    .dataframe tbody tr th:only-of-type {\n",
       "        vertical-align: middle;\n",
       "    }\n",
       "\n",
       "    .dataframe tbody tr th {\n",
       "        vertical-align: top;\n",
       "    }\n",
       "\n",
       "    .dataframe thead th {\n",
       "        text-align: right;\n",
       "    }\n",
       "</style>\n",
       "<table border=\"1\" class=\"dataframe\">\n",
       "  <thead>\n",
       "    <tr style=\"text-align: right;\">\n",
       "      <th></th>\n",
       "      <th>Colleges</th>\n",
       "      <th>Rating</th>\n",
       "      <th>Reviews</th>\n",
       "      <th>NIRF_Ranking</th>\n",
       "      <th>City</th>\n",
       "      <th>State</th>\n",
       "      <th>Ownership</th>\n",
       "      <th>Fees</th>\n",
       "      <th>BTech_Courses</th>\n",
       "      <th>MTech_Courses</th>\n",
       "    </tr>\n",
       "  </thead>\n",
       "  <tbody>\n",
       "    <tr>\n",
       "      <th>545</th>\n",
       "      <td>Canning Government Polytechnic, South 24 Parganas</td>\n",
       "      <td>NaN</td>\n",
       "      <td>NaN</td>\n",
       "      <td>Not Mentioned</td>\n",
       "      <td>South 24 Parganas</td>\n",
       "      <td>West Bengal</td>\n",
       "      <td>Public/Govt</td>\n",
       "      <td>NaN</td>\n",
       "      <td>NaN</td>\n",
       "      <td>NaN</td>\n",
       "    </tr>\n",
       "    <tr>\n",
       "      <th>546</th>\n",
       "      <td>Central Calcutta Polytechnic, Kolkata</td>\n",
       "      <td>3.0</td>\n",
       "      <td>1.0</td>\n",
       "      <td>Not Mentioned</td>\n",
       "      <td>Kolkata</td>\n",
       "      <td>West Bengal</td>\n",
       "      <td>Public/Govt</td>\n",
       "      <td>NaN</td>\n",
       "      <td>NaN</td>\n",
       "      <td>NaN</td>\n",
       "    </tr>\n",
       "    <tr>\n",
       "      <th>547</th>\n",
       "      <td>Springfields Engineering College, Hyderabad</td>\n",
       "      <td>NaN</td>\n",
       "      <td>NaN</td>\n",
       "      <td>Not Mentioned</td>\n",
       "      <td>Hyderabad</td>\n",
       "      <td>Telangana</td>\n",
       "      <td>Private</td>\n",
       "      <td>NaN</td>\n",
       "      <td>NaN</td>\n",
       "      <td>NaN</td>\n",
       "    </tr>\n",
       "    <tr>\n",
       "      <th>548</th>\n",
       "      <td>Itahar Government Polytechnic, Uttar Dinajpur</td>\n",
       "      <td>NaN</td>\n",
       "      <td>NaN</td>\n",
       "      <td>Not Mentioned</td>\n",
       "      <td>North Dinajpur</td>\n",
       "      <td>West Bengal</td>\n",
       "      <td>Public/Govt</td>\n",
       "      <td>NaN</td>\n",
       "      <td>NaN</td>\n",
       "      <td>NaN</td>\n",
       "    </tr>\n",
       "    <tr>\n",
       "      <th>549</th>\n",
       "      <td>GRD Polytechnic, Dehradun</td>\n",
       "      <td>NaN</td>\n",
       "      <td>NaN</td>\n",
       "      <td>Not Mentioned</td>\n",
       "      <td>Dehradun</td>\n",
       "      <td>Uttarakhand</td>\n",
       "      <td>Private</td>\n",
       "      <td>₹1.85 Lakhs</td>\n",
       "      <td>NaN</td>\n",
       "      <td>NaN</td>\n",
       "    </tr>\n",
       "  </tbody>\n",
       "</table>\n",
       "</div>"
      ],
      "text/plain": [
       "                                              Colleges  Rating  Reviews  \\\n",
       "545  Canning Government Polytechnic, South 24 Parganas     NaN      NaN   \n",
       "546              Central Calcutta Polytechnic, Kolkata     3.0      1.0   \n",
       "547        Springfields Engineering College, Hyderabad     NaN      NaN   \n",
       "548      Itahar Government Polytechnic, Uttar Dinajpur     NaN      NaN   \n",
       "549                          GRD Polytechnic, Dehradun     NaN      NaN   \n",
       "\n",
       "      NIRF_Ranking                City        State    Ownership         Fees  \\\n",
       "545  Not Mentioned   South 24 Parganas  West Bengal  Public/Govt          NaN   \n",
       "546  Not Mentioned             Kolkata  West Bengal  Public/Govt          NaN   \n",
       "547  Not Mentioned           Hyderabad    Telangana      Private          NaN   \n",
       "548  Not Mentioned      North Dinajpur  West Bengal  Public/Govt          NaN   \n",
       "549  Not Mentioned            Dehradun  Uttarakhand      Private  ₹1.85 Lakhs   \n",
       "\n",
       "     BTech_Courses  MTech_Courses  \n",
       "545            NaN            NaN  \n",
       "546            NaN            NaN  \n",
       "547            NaN            NaN  \n",
       "548            NaN            NaN  \n",
       "549            NaN            NaN  "
      ]
     },
     "execution_count": 6,
     "metadata": {},
     "output_type": "execute_result"
    }
   ],
   "source": [
    "df.tail() # Check bottom 5 observations"
   ]
  },
  {
   "cell_type": "code",
   "execution_count": 7,
   "id": "bb3b4753-e892-4a9d-88fe-22597e8a1abd",
   "metadata": {},
   "outputs": [
    {
     "data": {
      "text/plain": [
       "array([11., 14.,  9., 16., 13., 12., 15., 18., 54.,  8., 10.,  7.,  5.,\n",
       "       21., 31., 35., 28.,  6.,  2.,  3., 26., 41., 19., nan, 29., 24.,\n",
       "       17., 40., 39., 25., 48., 53., 37.,  4., 30., 22., 23., 20., 34.])"
      ]
     },
     "execution_count": 7,
     "metadata": {},
     "output_type": "execute_result"
    }
   ],
   "source": [
    "df['BTech_Courses'].unique()"
   ]
  },
  {
   "cell_type": "code",
   "execution_count": 8,
   "id": "854f57c0-06af-457e-a735-2743ba02582b",
   "metadata": {},
   "outputs": [
    {
     "data": {
      "text/plain": [
       "(550, 10)"
      ]
     },
     "execution_count": 8,
     "metadata": {},
     "output_type": "execute_result"
    }
   ],
   "source": [
    "df.shape # check the shape of the datatset"
   ]
  },
  {
   "cell_type": "code",
   "execution_count": 9,
   "id": "dcb5a524-d684-4a08-9034-5ce3529f0386",
   "metadata": {},
   "outputs": [
    {
     "data": {
      "text/plain": [
       "Index(['Colleges', 'Rating', 'Reviews', 'NIRF_Ranking', 'City', 'State',\n",
       "       'Ownership', 'Fees', 'BTech_Courses', 'MTech_Courses'],\n",
       "      dtype='object')"
      ]
     },
     "execution_count": 9,
     "metadata": {},
     "output_type": "execute_result"
    }
   ],
   "source": [
    "df.columns # print the column names "
   ]
  },
  {
   "cell_type": "code",
   "execution_count": 10,
   "id": "a51ab856-7e92-4820-acc9-f1828b19dbfe",
   "metadata": {},
   "outputs": [
    {
     "name": "stdout",
     "output_type": "stream",
     "text": [
      "<class 'pandas.core.frame.DataFrame'>\n",
      "RangeIndex: 550 entries, 0 to 549\n",
      "Data columns (total 10 columns):\n",
      " #   Column         Non-Null Count  Dtype  \n",
      "---  ------         --------------  -----  \n",
      " 0   Colleges       550 non-null    object \n",
      " 1   Rating         375 non-null    float64\n",
      " 2   Reviews        375 non-null    float64\n",
      " 3   NIRF_Ranking   532 non-null    object \n",
      " 4   City           550 non-null    object \n",
      " 5   State          550 non-null    object \n",
      " 6   Ownership      550 non-null    object \n",
      " 7   Fees           310 non-null    object \n",
      " 8   BTech_Courses  335 non-null    float64\n",
      " 9   MTech_Courses  231 non-null    float64\n",
      "dtypes: float64(4), object(6)\n",
      "memory usage: 43.1+ KB\n"
     ]
    }
   ],
   "source": [
    "df.info() # Check the dataset information"
   ]
  },
  {
   "cell_type": "code",
   "execution_count": 11,
   "id": "8925eb76-7287-4023-941c-922045182c60",
   "metadata": {},
   "outputs": [
    {
     "data": {
      "text/plain": [
       "Colleges          object\n",
       "Rating           float64\n",
       "Reviews          float64\n",
       "NIRF_Ranking      object\n",
       "City              object\n",
       "State             object\n",
       "Ownership         object\n",
       "Fees              object\n",
       "BTech_Courses    float64\n",
       "MTech_Courses    float64\n",
       "dtype: object"
      ]
     },
     "execution_count": 11,
     "metadata": {},
     "output_type": "execute_result"
    },
    {
     "data": {
      "text/plain": [
       "object     6\n",
       "float64    4\n",
       "Name: count, dtype: int64"
      ]
     },
     "execution_count": 11,
     "metadata": {},
     "output_type": "execute_result"
    }
   ],
   "source": [
    "df.dtypes # check the dtypes of columns\n",
    "df.dtypes.value_counts() # check the count of dtypes in the dataset"
   ]
  },
  {
   "cell_type": "markdown",
   "id": "9da7ad13-ef51-4827-b6da-3aa1bf819e7e",
   "metadata": {},
   "source": [
    "## Changing the dtypes in DataFrame"
   ]
  },
  {
   "cell_type": "code",
   "execution_count": 13,
   "id": "591f5638-5848-475f-a4b8-aebab41da9f5",
   "metadata": {},
   "outputs": [
    {
     "data": {
      "text/plain": [
       "11.498507462686566"
      ]
     },
     "execution_count": 13,
     "metadata": {},
     "output_type": "execute_result"
    }
   ],
   "source": [
    "df[\"BTech_Courses\"].mean()"
   ]
  },
  {
   "cell_type": "code",
   "execution_count": 14,
   "id": "a5e6858d-20fa-49d8-ae9e-9293248b165f",
   "metadata": {},
   "outputs": [],
   "source": [
    "# We can substitute NaN values/missing values in BTech courses column with average courses offered by an engineering college\n",
    "\n",
    "df[\"BTech_Courses\"].replace(np.nan, 11 , inplace=True)"
   ]
  },
  {
   "cell_type": "code",
   "execution_count": 15,
   "id": "8c56f7fb-9455-4740-ad92-1b0fb9acf7d0",
   "metadata": {},
   "outputs": [],
   "source": [
    "df[\"BTech_Courses\"] = df[\"BTech_Courses\"].astype(\"int64\")"
   ]
  },
  {
   "cell_type": "code",
   "execution_count": 16,
   "id": "ae91e4b2-eab5-4e11-869d-65f864bb0056",
   "metadata": {},
   "outputs": [],
   "source": [
    "df[\"MTech_Courses\"] = df[\"MTech_Courses\"].fillna(0).astype(\"int64\") # replace MTech courses without values with zero"
   ]
  },
  {
   "cell_type": "code",
   "execution_count": 17,
   "id": "b21e8deb-3c6a-4010-8148-0c72e673a778",
   "metadata": {},
   "outputs": [],
   "source": [
    "df[\"Reviews\"] = df[\"Reviews\"].fillna(0).astype(\"int64\")"
   ]
  },
  {
   "cell_type": "code",
   "execution_count": 18,
   "id": "1f3d33b6-9164-4b54-a944-32bfda6c0371",
   "metadata": {},
   "outputs": [
    {
     "data": {
      "text/plain": [
       "Colleges          object\n",
       "Rating           float64\n",
       "Reviews            int64\n",
       "NIRF_Ranking      object\n",
       "City              object\n",
       "State             object\n",
       "Ownership         object\n",
       "Fees              object\n",
       "BTech_Courses      int64\n",
       "MTech_Courses      int64\n",
       "dtype: object"
      ]
     },
     "execution_count": 18,
     "metadata": {},
     "output_type": "execute_result"
    },
    {
     "data": {
      "text/plain": [
       "object     6\n",
       "int64      3\n",
       "float64    1\n",
       "Name: count, dtype: int64"
      ]
     },
     "execution_count": 18,
     "metadata": {},
     "output_type": "execute_result"
    }
   ],
   "source": [
    "df.dtypes # check the dtypes of columns\n",
    "df.dtypes.value_counts() # check the count of dtypes in the dataset"
   ]
  },
  {
   "cell_type": "code",
   "execution_count": 19,
   "id": "1f324214-b2af-4e17-aad4-12d636ae004e",
   "metadata": {},
   "outputs": [
    {
     "data": {
      "text/html": [
       "<div>\n",
       "<style scoped>\n",
       "    .dataframe tbody tr th:only-of-type {\n",
       "        vertical-align: middle;\n",
       "    }\n",
       "\n",
       "    .dataframe tbody tr th {\n",
       "        vertical-align: top;\n",
       "    }\n",
       "\n",
       "    .dataframe thead th {\n",
       "        text-align: right;\n",
       "    }\n",
       "</style>\n",
       "<table border=\"1\" class=\"dataframe\">\n",
       "  <thead>\n",
       "    <tr style=\"text-align: right;\">\n",
       "      <th></th>\n",
       "      <th>Colleges</th>\n",
       "      <th>Rating</th>\n",
       "      <th>Reviews</th>\n",
       "      <th>NIRF_Ranking</th>\n",
       "      <th>City</th>\n",
       "      <th>State</th>\n",
       "      <th>Ownership</th>\n",
       "      <th>Fees</th>\n",
       "      <th>BTech_Courses</th>\n",
       "      <th>MTech_Courses</th>\n",
       "    </tr>\n",
       "  </thead>\n",
       "  <tbody>\n",
       "    <tr>\n",
       "      <th>0</th>\n",
       "      <td>IIT Madras - Indian Institute of Technology Ma...</td>\n",
       "      <td>4.7</td>\n",
       "      <td>114</td>\n",
       "      <td>1</td>\n",
       "      <td>Chennai</td>\n",
       "      <td>Tamil Nadu</td>\n",
       "      <td>Public/Govt</td>\n",
       "      <td>₹8.58 Lakhs</td>\n",
       "      <td>11</td>\n",
       "      <td>30</td>\n",
       "    </tr>\n",
       "    <tr>\n",
       "      <th>1</th>\n",
       "      <td>IIT Delhi - Indian Institute of Technology Delhi</td>\n",
       "      <td>4.6</td>\n",
       "      <td>265</td>\n",
       "      <td>2</td>\n",
       "      <td>New Delhi</td>\n",
       "      <td>Delhi</td>\n",
       "      <td>Public/Govt</td>\n",
       "      <td>₹8.58 Lakhs</td>\n",
       "      <td>14</td>\n",
       "      <td>48</td>\n",
       "    </tr>\n",
       "    <tr>\n",
       "      <th>2</th>\n",
       "      <td>IIT Bombay - Indian Institute of Technology Bo...</td>\n",
       "      <td>4.6</td>\n",
       "      <td>161</td>\n",
       "      <td>3</td>\n",
       "      <td>Mumbai</td>\n",
       "      <td>Maharashtra</td>\n",
       "      <td>Public/Govt</td>\n",
       "      <td>₹8.69 Lakhs</td>\n",
       "      <td>11</td>\n",
       "      <td>42</td>\n",
       "    </tr>\n",
       "    <tr>\n",
       "      <th>3</th>\n",
       "      <td>IIT Kanpur - Indian Institute of Technology Ka...</td>\n",
       "      <td>4.4</td>\n",
       "      <td>156</td>\n",
       "      <td>4</td>\n",
       "      <td>Kanpur</td>\n",
       "      <td>Uttar Pradesh</td>\n",
       "      <td>Public/Govt</td>\n",
       "      <td>₹11.67 Lakhs</td>\n",
       "      <td>9</td>\n",
       "      <td>40</td>\n",
       "    </tr>\n",
       "    <tr>\n",
       "      <th>4</th>\n",
       "      <td>IIT Kharagpur - Indian Institute of Technology...</td>\n",
       "      <td>4.7</td>\n",
       "      <td>323</td>\n",
       "      <td>5</td>\n",
       "      <td>Kharagpur</td>\n",
       "      <td>West Bengal</td>\n",
       "      <td>Public/Govt</td>\n",
       "      <td>₹10.42 Lakhs</td>\n",
       "      <td>16</td>\n",
       "      <td>62</td>\n",
       "    </tr>\n",
       "    <tr>\n",
       "      <th>...</th>\n",
       "      <td>...</td>\n",
       "      <td>...</td>\n",
       "      <td>...</td>\n",
       "      <td>...</td>\n",
       "      <td>...</td>\n",
       "      <td>...</td>\n",
       "      <td>...</td>\n",
       "      <td>...</td>\n",
       "      <td>...</td>\n",
       "      <td>...</td>\n",
       "    </tr>\n",
       "    <tr>\n",
       "      <th>545</th>\n",
       "      <td>Canning Government Polytechnic, South 24 Parganas</td>\n",
       "      <td>NaN</td>\n",
       "      <td>0</td>\n",
       "      <td>Not Mentioned</td>\n",
       "      <td>South 24 Parganas</td>\n",
       "      <td>West Bengal</td>\n",
       "      <td>Public/Govt</td>\n",
       "      <td>NaN</td>\n",
       "      <td>11</td>\n",
       "      <td>0</td>\n",
       "    </tr>\n",
       "    <tr>\n",
       "      <th>546</th>\n",
       "      <td>Central Calcutta Polytechnic, Kolkata</td>\n",
       "      <td>3.0</td>\n",
       "      <td>1</td>\n",
       "      <td>Not Mentioned</td>\n",
       "      <td>Kolkata</td>\n",
       "      <td>West Bengal</td>\n",
       "      <td>Public/Govt</td>\n",
       "      <td>NaN</td>\n",
       "      <td>11</td>\n",
       "      <td>0</td>\n",
       "    </tr>\n",
       "    <tr>\n",
       "      <th>547</th>\n",
       "      <td>Springfields Engineering College, Hyderabad</td>\n",
       "      <td>NaN</td>\n",
       "      <td>0</td>\n",
       "      <td>Not Mentioned</td>\n",
       "      <td>Hyderabad</td>\n",
       "      <td>Telangana</td>\n",
       "      <td>Private</td>\n",
       "      <td>NaN</td>\n",
       "      <td>11</td>\n",
       "      <td>0</td>\n",
       "    </tr>\n",
       "    <tr>\n",
       "      <th>548</th>\n",
       "      <td>Itahar Government Polytechnic, Uttar Dinajpur</td>\n",
       "      <td>NaN</td>\n",
       "      <td>0</td>\n",
       "      <td>Not Mentioned</td>\n",
       "      <td>North Dinajpur</td>\n",
       "      <td>West Bengal</td>\n",
       "      <td>Public/Govt</td>\n",
       "      <td>NaN</td>\n",
       "      <td>11</td>\n",
       "      <td>0</td>\n",
       "    </tr>\n",
       "    <tr>\n",
       "      <th>549</th>\n",
       "      <td>GRD Polytechnic, Dehradun</td>\n",
       "      <td>NaN</td>\n",
       "      <td>0</td>\n",
       "      <td>Not Mentioned</td>\n",
       "      <td>Dehradun</td>\n",
       "      <td>Uttarakhand</td>\n",
       "      <td>Private</td>\n",
       "      <td>₹1.85 Lakhs</td>\n",
       "      <td>11</td>\n",
       "      <td>0</td>\n",
       "    </tr>\n",
       "  </tbody>\n",
       "</table>\n",
       "<p>550 rows × 10 columns</p>\n",
       "</div>"
      ],
      "text/plain": [
       "                                              Colleges  Rating  Reviews  \\\n",
       "0    IIT Madras - Indian Institute of Technology Ma...     4.7      114   \n",
       "1     IIT Delhi - Indian Institute of Technology Delhi     4.6      265   \n",
       "2    IIT Bombay - Indian Institute of Technology Bo...     4.6      161   \n",
       "3    IIT Kanpur - Indian Institute of Technology Ka...     4.4      156   \n",
       "4    IIT Kharagpur - Indian Institute of Technology...     4.7      323   \n",
       "..                                                 ...     ...      ...   \n",
       "545  Canning Government Polytechnic, South 24 Parganas     NaN        0   \n",
       "546              Central Calcutta Polytechnic, Kolkata     3.0        1   \n",
       "547        Springfields Engineering College, Hyderabad     NaN        0   \n",
       "548      Itahar Government Polytechnic, Uttar Dinajpur     NaN        0   \n",
       "549                          GRD Polytechnic, Dehradun     NaN        0   \n",
       "\n",
       "      NIRF_Ranking                City          State    Ownership  \\\n",
       "0                1             Chennai     Tamil Nadu  Public/Govt   \n",
       "1                2           New Delhi          Delhi  Public/Govt   \n",
       "2                3              Mumbai    Maharashtra  Public/Govt   \n",
       "3                4              Kanpur  Uttar Pradesh  Public/Govt   \n",
       "4                5           Kharagpur    West Bengal  Public/Govt   \n",
       "..             ...                 ...            ...          ...   \n",
       "545  Not Mentioned   South 24 Parganas    West Bengal  Public/Govt   \n",
       "546  Not Mentioned             Kolkata    West Bengal  Public/Govt   \n",
       "547  Not Mentioned           Hyderabad      Telangana      Private   \n",
       "548  Not Mentioned      North Dinajpur    West Bengal  Public/Govt   \n",
       "549  Not Mentioned            Dehradun    Uttarakhand      Private   \n",
       "\n",
       "             Fees  BTech_Courses  MTech_Courses  \n",
       "0     ₹8.58 Lakhs             11             30  \n",
       "1     ₹8.58 Lakhs             14             48  \n",
       "2     ₹8.69 Lakhs             11             42  \n",
       "3    ₹11.67 Lakhs              9             40  \n",
       "4    ₹10.42 Lakhs             16             62  \n",
       "..            ...            ...            ...  \n",
       "545           NaN             11              0  \n",
       "546           NaN             11              0  \n",
       "547           NaN             11              0  \n",
       "548           NaN             11              0  \n",
       "549   ₹1.85 Lakhs             11              0  \n",
       "\n",
       "[550 rows x 10 columns]"
      ]
     },
     "execution_count": 19,
     "metadata": {},
     "output_type": "execute_result"
    }
   ],
   "source": [
    "df"
   ]
  },
  {
   "cell_type": "code",
   "execution_count": 20,
   "id": "f5a73adb-87de-4d17-91ca-2bddb8d9eeff",
   "metadata": {},
   "outputs": [
    {
     "data": {
      "text/plain": [
       "array(['₹8.58 Lakhs', '₹8.69 Lakhs', '₹11.67 Lakhs', '₹10.42 Lakhs',\n",
       "       '₹8.90 Lakhs', '₹11.99 Lakhs', '₹9.08 Lakhs', '₹6.30 Lakhs', nan,\n",
       "       '₹11 Lakhs', '₹2.20 Lakhs', '₹10.95 Lakhs', '₹5.72 Lakhs',\n",
       "       '₹8.67 Lakhs', '₹6.28 Lakhs', '₹22.32 Lakhs', '₹5.74 Lakhs',\n",
       "       '₹9.36 Lakhs', '₹24 Lakhs', '₹64.60 K', '₹6.23 Lakhs',\n",
       "       '₹11.05 Lakhs', '₹10.25 Lakhs', '₹20.15 Lakhs', '₹8.64 Lakhs',\n",
       "       '₹8.63 Lakhs', '₹10.75 Lakhs', '₹9.85 Lakhs', '₹9.95 Lakhs',\n",
       "       '₹5.31 Lakhs', '₹14.91 Lakhs', '₹5.50 Lakhs', '₹6.00 Lakhs',\n",
       "       '₹7.20 Lakhs', '₹6.17 Lakhs', '₹6.25 Lakhs', '₹6.58 Lakhs',\n",
       "       '₹16 Lakhs', '₹15.74 Lakhs', '₹5.44 Lakhs', '₹16.36 Lakhs',\n",
       "       '₹5.48 Lakhs', '₹16.74 Lakhs', '₹8.94 Lakhs', '₹6.02 Lakhs',\n",
       "       '₹19.48 Lakhs', '₹9.38 Lakhs', '₹6.36 Lakhs', '₹5.83 Lakhs',\n",
       "       '₹6.52 Lakhs', '₹8.19 Lakhs', '₹1.44 Lakhs', '₹15.02 Lakhs',\n",
       "       '₹8.93 Lakhs', '₹5.78 Lakhs', '₹10 Lakhs', '₹2.64 Lakhs',\n",
       "       '₹5.49 Lakhs', '₹5.73 Lakhs', '₹8.92 Lakhs', '₹9.20 Lakhs',\n",
       "       '₹4.49 Lakhs', '₹2.83 Lakhs', '₹2.62 Lakhs', '₹6.16 Lakhs',\n",
       "       '₹5.92 Lakhs', '₹6.57 Lakhs', '₹6.60 Lakhs', '₹5.63 Lakhs',\n",
       "       '₹2.25 Lakhs', '₹3.32 Lakhs', '₹8 Lakhs', '₹11.60 Lakhs',\n",
       "       '₹7.25 Lakhs', '₹7.44 Lakhs', '₹10.60 Lakhs', '₹3.60 Lakhs',\n",
       "       '₹9.45 Lakhs', '₹9 Lakhs', '₹12.05 Lakhs', '₹9.14 Lakhs',\n",
       "       '₹5.40 Lakhs', '₹4.55 Lakhs', '₹3.86 Lakhs', '₹4.02 Lakhs',\n",
       "       '₹2.79 Lakhs', '₹11.84 Lakhs', '₹5.45 Lakhs', '₹6.21 Lakhs',\n",
       "       '₹1.10 Lakhs', '₹5.77 Lakhs', '₹1.04 Lakhs', '₹6.94 Lakhs',\n",
       "       '₹12.76 Lakhs', '₹12.39 Lakhs', '₹3.18 Lakhs', '₹19.30 Lakhs',\n",
       "       '₹9.99 Lakhs', '₹14.20 Lakhs', '₹6.45 Lakhs', '₹14.93 Lakhs',\n",
       "       '₹3.34 Lakhs', '₹2.01 Lakhs', '₹9.06 Lakhs', '₹4.11 Lakhs',\n",
       "       '₹5.70 Lakhs', '₹6.70 Lakhs', '₹20 Lakhs', '₹7.91 Lakhs',\n",
       "       '₹1.13 Lakhs', '₹5.35 Lakhs', '₹4.90 Lakhs', '₹14.67 Lakhs',\n",
       "       '₹5.46 Lakhs', '₹5.36 Lakhs', '₹5.62 Lakhs', '₹4.32 Lakhs',\n",
       "       '₹12.40 Lakhs', '₹4.48 Lakhs', '₹1.67 Lakhs', '₹6.67 Lakhs',\n",
       "       '₹1.50 Lakhs', '₹4 Lakhs', '₹6.46 Lakhs', '₹66.70 K',\n",
       "       '₹4.04 Lakhs', '₹3.91 Lakhs', '₹2.18 Lakhs', '₹5.60 Lakhs',\n",
       "       '₹7.68 Lakhs', '₹12 Lakhs', '₹4.35 Lakhs', '₹14.35 Lakhs',\n",
       "       '₹7.76 Lakhs', '₹50.73 K', '₹5.61 Lakhs', '₹5.71 Lakhs',\n",
       "       '₹2 Lakhs', '₹8.53 Lakhs', '₹12.47 Lakhs', '₹2.12 Lakhs',\n",
       "       '₹4.79 Lakhs', '₹13.60 Lakhs', '₹4.60 Lakhs', '₹5.67 Lakhs',\n",
       "       '₹7.08 Lakhs', '₹2.35 Lakhs', '₹4.64 Lakhs', '₹4.62 Lakhs',\n",
       "       '₹64 K', '₹5 Lakhs', '₹41.32 K', '₹3.20 Lakhs', '₹68.60 K',\n",
       "       '₹4.40 Lakhs', '₹2.66 Lakhs', '₹5.16 Lakhs', '₹5.21 Lakhs',\n",
       "       '₹4.20 Lakhs', '₹18.68 Lakhs', '₹6.42 Lakhs', '₹7.26 Lakhs',\n",
       "       '₹4.82 Lakhs', '₹8.62 Lakhs', '₹4.80 Lakhs', '₹1.60 Lakhs',\n",
       "       '₹19.06 Lakhs', '₹4.00 Lakhs', '₹7.84 Lakhs', '₹2.69 Lakhs',\n",
       "       '₹2.63 Lakhs', '₹3.07 Lakhs', '₹6.38 Lakhs', '₹4.86 Lakhs',\n",
       "       '₹5.20 Lakhs', '₹1.92 Lakhs', '₹8.80 Lakhs', '₹3.04 Lakhs',\n",
       "       '₹2.80 Lakhs', '₹7.00 Lakhs', '₹2.78 Lakhs', '₹5.93 Lakhs',\n",
       "       '₹1.53 Lakhs', '₹6.18 Lakhs', '₹1.33 Lakhs', '₹4.36 Lakhs',\n",
       "       '₹1.40 Lakhs', '₹3.96 Lakhs', '₹2.40 Lakhs', '₹2.55 Lakhs',\n",
       "       '₹4.24 Lakhs', '₹11.70 Lakhs', '₹36.73 K', '₹6.80 Lakhs',\n",
       "       '₹1.11 Lakhs', '₹4.26 Lakhs', '₹3.45 Lakhs', '₹4.88 Lakhs',\n",
       "       '₹1.76 Lakhs', '₹85.76 K', '₹8.40 Lakhs', '₹4.10 Lakhs',\n",
       "       '₹2.04 Lakhs', '₹12.24 Lakhs', '₹1.63 Lakhs', '₹2.09 Lakhs',\n",
       "       '₹83.24 K', '₹11.21 K', '₹37.50 K', '₹62.27 K', '₹1.72 Lakhs',\n",
       "       '₹14.90 Lakhs', '₹4.59 Lakhs', '₹3.08 Lakhs', '₹90.45 K',\n",
       "       '₹1.00 Lakhs', '₹11.75 Lakhs', '₹6 Lakhs', '₹50 K', '₹1 Lakhs',\n",
       "       '₹10.32 Lakhs', '₹8.96 Lakhs', '₹3 Lakhs', '₹10.80 Lakhs',\n",
       "       '₹1.52 Lakhs', '₹84 K', '₹1.58 Lakhs', '₹12.60 K', '₹2.41 Lakhs',\n",
       "       '₹15.60 Lakhs', '₹4.70 Lakhs', '₹31.80 K', '₹1.74 Lakhs',\n",
       "       '₹1.64 Lakhs', '₹1.46 Lakhs', '₹99.42 K', '₹26.54 K', '₹80 K',\n",
       "       '₹1.85 Lakhs', '₹79.05 K', '₹79.20 K', '₹1.90 Lakhs',\n",
       "       '₹1.05 Lakhs', '₹87.45 K', '₹94.57 K', '₹8.55 K', '₹93.17 K',\n",
       "       '₹81 K', '₹90 K', '₹66 K', '₹4.30 Lakhs', '₹3.14 Lakhs',\n",
       "       '₹42.86 K'], dtype=object)"
      ]
     },
     "execution_count": 20,
     "metadata": {},
     "output_type": "execute_result"
    }
   ],
   "source": [
    "df[\"Fees\"].unique()"
   ]
  },
  {
   "cell_type": "code",
   "execution_count": 21,
   "id": "ab6c8f31-5b4d-468c-8727-ce83f103adb9",
   "metadata": {},
   "outputs": [],
   "source": [
    "def convert_fees(Fees):\n",
    "    fee_str = str(Fees)  # Ensure we are working with a string\n",
    "    if 'K' in fee_str:\n",
    "        # Remove currency symbol and convert to float\n",
    "        value = float(fee_str.replace('₹', '').replace(' K', '').strip())\n",
    "        return f\"{value / 100:.2f} Lakhs\"  # Convert K to Lakhs\n",
    "    return fee_str  # Return as is if it's already in Lakhs"
   ]
  },
  {
   "cell_type": "code",
   "execution_count": 22,
   "id": "781b9b2e-8613-43ac-8f1b-85cd660810f2",
   "metadata": {},
   "outputs": [],
   "source": [
    "df['Fees'] = df['Fees'].apply(convert_fees)"
   ]
  },
  {
   "cell_type": "code",
   "execution_count": 23,
   "id": "ea20c059-8b3c-4bd6-b2b4-79178f23a668",
   "metadata": {},
   "outputs": [
    {
     "data": {
      "text/html": [
       "<div>\n",
       "<style scoped>\n",
       "    .dataframe tbody tr th:only-of-type {\n",
       "        vertical-align: middle;\n",
       "    }\n",
       "\n",
       "    .dataframe tbody tr th {\n",
       "        vertical-align: top;\n",
       "    }\n",
       "\n",
       "    .dataframe thead th {\n",
       "        text-align: right;\n",
       "    }\n",
       "</style>\n",
       "<table border=\"1\" class=\"dataframe\">\n",
       "  <thead>\n",
       "    <tr style=\"text-align: right;\">\n",
       "      <th></th>\n",
       "      <th>Colleges</th>\n",
       "      <th>Rating</th>\n",
       "      <th>Reviews</th>\n",
       "      <th>NIRF_Ranking</th>\n",
       "      <th>City</th>\n",
       "      <th>State</th>\n",
       "      <th>Ownership</th>\n",
       "      <th>Fees</th>\n",
       "      <th>BTech_Courses</th>\n",
       "      <th>MTech_Courses</th>\n",
       "    </tr>\n",
       "  </thead>\n",
       "  <tbody>\n",
       "    <tr>\n",
       "      <th>0</th>\n",
       "      <td>IIT Madras - Indian Institute of Technology Ma...</td>\n",
       "      <td>4.7</td>\n",
       "      <td>114</td>\n",
       "      <td>1</td>\n",
       "      <td>Chennai</td>\n",
       "      <td>Tamil Nadu</td>\n",
       "      <td>Public/Govt</td>\n",
       "      <td>₹8.58 Lakhs</td>\n",
       "      <td>11</td>\n",
       "      <td>30</td>\n",
       "    </tr>\n",
       "    <tr>\n",
       "      <th>1</th>\n",
       "      <td>IIT Delhi - Indian Institute of Technology Delhi</td>\n",
       "      <td>4.6</td>\n",
       "      <td>265</td>\n",
       "      <td>2</td>\n",
       "      <td>New Delhi</td>\n",
       "      <td>Delhi</td>\n",
       "      <td>Public/Govt</td>\n",
       "      <td>₹8.58 Lakhs</td>\n",
       "      <td>14</td>\n",
       "      <td>48</td>\n",
       "    </tr>\n",
       "    <tr>\n",
       "      <th>2</th>\n",
       "      <td>IIT Bombay - Indian Institute of Technology Bo...</td>\n",
       "      <td>4.6</td>\n",
       "      <td>161</td>\n",
       "      <td>3</td>\n",
       "      <td>Mumbai</td>\n",
       "      <td>Maharashtra</td>\n",
       "      <td>Public/Govt</td>\n",
       "      <td>₹8.69 Lakhs</td>\n",
       "      <td>11</td>\n",
       "      <td>42</td>\n",
       "    </tr>\n",
       "    <tr>\n",
       "      <th>3</th>\n",
       "      <td>IIT Kanpur - Indian Institute of Technology Ka...</td>\n",
       "      <td>4.4</td>\n",
       "      <td>156</td>\n",
       "      <td>4</td>\n",
       "      <td>Kanpur</td>\n",
       "      <td>Uttar Pradesh</td>\n",
       "      <td>Public/Govt</td>\n",
       "      <td>₹11.67 Lakhs</td>\n",
       "      <td>9</td>\n",
       "      <td>40</td>\n",
       "    </tr>\n",
       "    <tr>\n",
       "      <th>4</th>\n",
       "      <td>IIT Kharagpur - Indian Institute of Technology...</td>\n",
       "      <td>4.7</td>\n",
       "      <td>323</td>\n",
       "      <td>5</td>\n",
       "      <td>Kharagpur</td>\n",
       "      <td>West Bengal</td>\n",
       "      <td>Public/Govt</td>\n",
       "      <td>₹10.42 Lakhs</td>\n",
       "      <td>16</td>\n",
       "      <td>62</td>\n",
       "    </tr>\n",
       "    <tr>\n",
       "      <th>5</th>\n",
       "      <td>IIT Roorkee - Indian Institute of Technology R...</td>\n",
       "      <td>4.4</td>\n",
       "      <td>407</td>\n",
       "      <td>6</td>\n",
       "      <td>Roorkee</td>\n",
       "      <td>Uttarakhand</td>\n",
       "      <td>Public/Govt</td>\n",
       "      <td>₹8.90 Lakhs</td>\n",
       "      <td>13</td>\n",
       "      <td>54</td>\n",
       "    </tr>\n",
       "    <tr>\n",
       "      <th>6</th>\n",
       "      <td>IIT Guwahati (IITG) - Indian Institute of Tech...</td>\n",
       "      <td>4.3</td>\n",
       "      <td>186</td>\n",
       "      <td>7</td>\n",
       "      <td>Guwahati</td>\n",
       "      <td>Assam</td>\n",
       "      <td>Public/Govt</td>\n",
       "      <td>₹11.99 Lakhs</td>\n",
       "      <td>12</td>\n",
       "      <td>28</td>\n",
       "    </tr>\n",
       "    <tr>\n",
       "      <th>7</th>\n",
       "      <td>IIT Hyderabad - Indian Institute of Technology...</td>\n",
       "      <td>4.6</td>\n",
       "      <td>27</td>\n",
       "      <td>8</td>\n",
       "      <td>Hyderabad</td>\n",
       "      <td>Telangana</td>\n",
       "      <td>Public/Govt</td>\n",
       "      <td>₹9.08 Lakhs</td>\n",
       "      <td>15</td>\n",
       "      <td>38</td>\n",
       "    </tr>\n",
       "    <tr>\n",
       "      <th>8</th>\n",
       "      <td>NIT Trichy - National Institute of Technology ...</td>\n",
       "      <td>4.4</td>\n",
       "      <td>304</td>\n",
       "      <td>9</td>\n",
       "      <td>Tiruchirappalli</td>\n",
       "      <td>Tamil Nadu</td>\n",
       "      <td>Public/Govt</td>\n",
       "      <td>₹6.30 Lakhs</td>\n",
       "      <td>9</td>\n",
       "      <td>23</td>\n",
       "    </tr>\n",
       "    <tr>\n",
       "      <th>9</th>\n",
       "      <td>IIT BHU - Indian Institute of Technology Banar...</td>\n",
       "      <td>4.6</td>\n",
       "      <td>160</td>\n",
       "      <td>10</td>\n",
       "      <td>Varanasi</td>\n",
       "      <td>Uttar Pradesh</td>\n",
       "      <td>Public/Govt</td>\n",
       "      <td>₹8.58 Lakhs</td>\n",
       "      <td>9</td>\n",
       "      <td>34</td>\n",
       "    </tr>\n",
       "    <tr>\n",
       "      <th>10</th>\n",
       "      <td>VIT Vellore - Vellore Institute of Technology,...</td>\n",
       "      <td>4.4</td>\n",
       "      <td>787</td>\n",
       "      <td>11</td>\n",
       "      <td>Vellore</td>\n",
       "      <td>Tamil Nadu</td>\n",
       "      <td>Private</td>\n",
       "      <td>nan</td>\n",
       "      <td>15</td>\n",
       "      <td>23</td>\n",
       "    </tr>\n",
       "    <tr>\n",
       "      <th>11</th>\n",
       "      <td>Jadavpur University, Kolkata</td>\n",
       "      <td>4.6</td>\n",
       "      <td>222</td>\n",
       "      <td>12</td>\n",
       "      <td>Kolkata</td>\n",
       "      <td>West Bengal</td>\n",
       "      <td>Public/Govt</td>\n",
       "      <td>nan</td>\n",
       "      <td>18</td>\n",
       "      <td>34</td>\n",
       "    </tr>\n",
       "    <tr>\n",
       "      <th>12</th>\n",
       "      <td>SRM University Chennai - SRM Institute of Scie...</td>\n",
       "      <td>4.3</td>\n",
       "      <td>727</td>\n",
       "      <td>13</td>\n",
       "      <td>Chennai</td>\n",
       "      <td>Tamil Nadu</td>\n",
       "      <td>Private</td>\n",
       "      <td>₹11 Lakhs</td>\n",
       "      <td>54</td>\n",
       "      <td>34</td>\n",
       "    </tr>\n",
       "    <tr>\n",
       "      <th>13</th>\n",
       "      <td>Anna University, Chennai</td>\n",
       "      <td>4.8</td>\n",
       "      <td>43</td>\n",
       "      <td>14</td>\n",
       "      <td>Chennai</td>\n",
       "      <td>Tamil Nadu</td>\n",
       "      <td>Public/Govt</td>\n",
       "      <td>₹2.20 Lakhs</td>\n",
       "      <td>8</td>\n",
       "      <td>44</td>\n",
       "    </tr>\n",
       "    <tr>\n",
       "      <th>14</th>\n",
       "      <td>IIT (ISM) Dhanbad - Indian Institute of Techno...</td>\n",
       "      <td>4.3</td>\n",
       "      <td>190</td>\n",
       "      <td>15</td>\n",
       "      <td>Dhanbad</td>\n",
       "      <td>Jharkhand</td>\n",
       "      <td>Public/Govt</td>\n",
       "      <td>₹10.95 Lakhs</td>\n",
       "      <td>13</td>\n",
       "      <td>19</td>\n",
       "    </tr>\n",
       "    <tr>\n",
       "      <th>15</th>\n",
       "      <td>IIT Indore - Indian Institute of Technology In...</td>\n",
       "      <td>4.6</td>\n",
       "      <td>36</td>\n",
       "      <td>16</td>\n",
       "      <td>Indore</td>\n",
       "      <td>Madhya Pradesh</td>\n",
       "      <td>Public/Govt</td>\n",
       "      <td>nan</td>\n",
       "      <td>9</td>\n",
       "      <td>15</td>\n",
       "    </tr>\n",
       "    <tr>\n",
       "      <th>16</th>\n",
       "      <td>NIT Surathkal (NITK) - National Institute of T...</td>\n",
       "      <td>4.4</td>\n",
       "      <td>95</td>\n",
       "      <td>17</td>\n",
       "      <td>Mangalore</td>\n",
       "      <td>Karnataka</td>\n",
       "      <td>Public/Govt</td>\n",
       "      <td>₹5.72 Lakhs</td>\n",
       "      <td>12</td>\n",
       "      <td>55</td>\n",
       "    </tr>\n",
       "    <tr>\n",
       "      <th>17</th>\n",
       "      <td>IIT Gandhinagar (IIT GN) - Indian Institute of...</td>\n",
       "      <td>4.4</td>\n",
       "      <td>18</td>\n",
       "      <td>18</td>\n",
       "      <td>Gandhinagar</td>\n",
       "      <td>Gujarat</td>\n",
       "      <td>Public/Govt</td>\n",
       "      <td>₹8.67 Lakhs</td>\n",
       "      <td>10</td>\n",
       "      <td>0</td>\n",
       "    </tr>\n",
       "    <tr>\n",
       "      <th>18</th>\n",
       "      <td>NIT Rourkela - National Institute of Technolog...</td>\n",
       "      <td>4.6</td>\n",
       "      <td>340</td>\n",
       "      <td>19</td>\n",
       "      <td>Rourkela</td>\n",
       "      <td>Odisha</td>\n",
       "      <td>Public/Govt</td>\n",
       "      <td>₹6.28 Lakhs</td>\n",
       "      <td>15</td>\n",
       "      <td>54</td>\n",
       "    </tr>\n",
       "    <tr>\n",
       "      <th>19</th>\n",
       "      <td>BITS Pilani - Birla Institute of Technology an...</td>\n",
       "      <td>4.5</td>\n",
       "      <td>264</td>\n",
       "      <td>20</td>\n",
       "      <td>Pilani</td>\n",
       "      <td>Rajasthan</td>\n",
       "      <td>Private</td>\n",
       "      <td>₹22.32 Lakhs</td>\n",
       "      <td>7</td>\n",
       "      <td>31</td>\n",
       "    </tr>\n",
       "    <tr>\n",
       "      <th>20</th>\n",
       "      <td>NIT Warangal - National Institute of Technolog...</td>\n",
       "      <td>4.6</td>\n",
       "      <td>142</td>\n",
       "      <td>21</td>\n",
       "      <td>Warangal</td>\n",
       "      <td>Telangana</td>\n",
       "      <td>Public/Govt</td>\n",
       "      <td>₹5.74 Lakhs</td>\n",
       "      <td>11</td>\n",
       "      <td>33</td>\n",
       "    </tr>\n",
       "    <tr>\n",
       "      <th>21</th>\n",
       "      <td>IIT Ropar (IIT-RPR) - Indian Institute of Tech...</td>\n",
       "      <td>4.5</td>\n",
       "      <td>126</td>\n",
       "      <td>22</td>\n",
       "      <td>Rupnagar</td>\n",
       "      <td>Punjab</td>\n",
       "      <td>Public/Govt</td>\n",
       "      <td>₹9.36 Lakhs</td>\n",
       "      <td>9</td>\n",
       "      <td>0</td>\n",
       "    </tr>\n",
       "    <tr>\n",
       "      <th>22</th>\n",
       "      <td>Amrita Vishwa Vidyapeetham, Coimbatore</td>\n",
       "      <td>4.3</td>\n",
       "      <td>121</td>\n",
       "      <td>23</td>\n",
       "      <td>Coimbatore</td>\n",
       "      <td>Tamil Nadu</td>\n",
       "      <td>Private</td>\n",
       "      <td>₹24 Lakhs</td>\n",
       "      <td>11</td>\n",
       "      <td>19</td>\n",
       "    </tr>\n",
       "    <tr>\n",
       "      <th>23</th>\n",
       "      <td>JMI New Delhi - Jamia Millia Islamia, New Delhi</td>\n",
       "      <td>4.5</td>\n",
       "      <td>384</td>\n",
       "      <td>24</td>\n",
       "      <td>New Delhi</td>\n",
       "      <td>Delhi</td>\n",
       "      <td>Public/Govt</td>\n",
       "      <td>0.65 Lakhs</td>\n",
       "      <td>5</td>\n",
       "      <td>15</td>\n",
       "    </tr>\n",
       "    <tr>\n",
       "      <th>24</th>\n",
       "      <td>NIT Calicut - National Institute of Technology...</td>\n",
       "      <td>4.4</td>\n",
       "      <td>132</td>\n",
       "      <td>25</td>\n",
       "      <td>Kozhikode</td>\n",
       "      <td>Kerala</td>\n",
       "      <td>Public/Govt</td>\n",
       "      <td>₹6.23 Lakhs</td>\n",
       "      <td>10</td>\n",
       "      <td>28</td>\n",
       "    </tr>\n",
       "    <tr>\n",
       "      <th>25</th>\n",
       "      <td>Siksha 'O' Anusandhan, Bhubaneswar</td>\n",
       "      <td>4.0</td>\n",
       "      <td>148</td>\n",
       "      <td>26</td>\n",
       "      <td>Bhubaneswar</td>\n",
       "      <td>Odisha</td>\n",
       "      <td>Private</td>\n",
       "      <td>₹11.05 Lakhs</td>\n",
       "      <td>18</td>\n",
       "      <td>0</td>\n",
       "    </tr>\n",
       "    <tr>\n",
       "      <th>26</th>\n",
       "      <td>DTU Delhi - Delhi Technological University, Delhi</td>\n",
       "      <td>4.5</td>\n",
       "      <td>417</td>\n",
       "      <td>27</td>\n",
       "      <td>New Delhi</td>\n",
       "      <td>Delhi</td>\n",
       "      <td>Public/Govt</td>\n",
       "      <td>nan</td>\n",
       "      <td>21</td>\n",
       "      <td>36</td>\n",
       "    </tr>\n",
       "    <tr>\n",
       "      <th>27</th>\n",
       "      <td>IIT Jodhpur - Indian Institute of Technology J...</td>\n",
       "      <td>4.3</td>\n",
       "      <td>51</td>\n",
       "      <td>28</td>\n",
       "      <td>Jodhpur</td>\n",
       "      <td>Rajasthan</td>\n",
       "      <td>Public/Govt</td>\n",
       "      <td>₹10.25 Lakhs</td>\n",
       "      <td>8</td>\n",
       "      <td>17</td>\n",
       "    </tr>\n",
       "    <tr>\n",
       "      <th>28</th>\n",
       "      <td>Thapar University - Thapar Institute of Engine...</td>\n",
       "      <td>4.3</td>\n",
       "      <td>290</td>\n",
       "      <td>29</td>\n",
       "      <td>Patiala</td>\n",
       "      <td>Punjab</td>\n",
       "      <td>Private</td>\n",
       "      <td>₹20.15 Lakhs</td>\n",
       "      <td>31</td>\n",
       "      <td>15</td>\n",
       "    </tr>\n",
       "    <tr>\n",
       "      <th>29</th>\n",
       "      <td>Amity University, Noida</td>\n",
       "      <td>4.1</td>\n",
       "      <td>392</td>\n",
       "      <td>30</td>\n",
       "      <td>Noida</td>\n",
       "      <td>Uttar Pradesh</td>\n",
       "      <td>Private</td>\n",
       "      <td>₹8.64 Lakhs</td>\n",
       "      <td>13</td>\n",
       "      <td>24</td>\n",
       "    </tr>\n",
       "    <tr>\n",
       "      <th>30</th>\n",
       "      <td>IIT Mandi - Indian Institute of Technology Mandi</td>\n",
       "      <td>4.4</td>\n",
       "      <td>27</td>\n",
       "      <td>31</td>\n",
       "      <td>Mandi</td>\n",
       "      <td>Himachal Pradesh</td>\n",
       "      <td>Public/Govt</td>\n",
       "      <td>₹8.63 Lakhs</td>\n",
       "      <td>11</td>\n",
       "      <td>37</td>\n",
       "    </tr>\n",
       "    <tr>\n",
       "      <th>31</th>\n",
       "      <td>Chandigarh University - Chandigarh University,...</td>\n",
       "      <td>4.3</td>\n",
       "      <td>826</td>\n",
       "      <td>32</td>\n",
       "      <td>Chandigarh</td>\n",
       "      <td>Chandigarh</td>\n",
       "      <td>Private</td>\n",
       "      <td>₹10.75 Lakhs</td>\n",
       "      <td>35</td>\n",
       "      <td>0</td>\n",
       "    </tr>\n",
       "    <tr>\n",
       "      <th>32</th>\n",
       "      <td>AMU Aligarh - Aligarh Muslim University, Aligarh</td>\n",
       "      <td>4.7</td>\n",
       "      <td>405</td>\n",
       "      <td>33</td>\n",
       "      <td>Aligarh</td>\n",
       "      <td>Uttar Pradesh</td>\n",
       "      <td>Public/Govt</td>\n",
       "      <td>nan</td>\n",
       "      <td>12</td>\n",
       "      <td>23</td>\n",
       "    </tr>\n",
       "    <tr>\n",
       "      <th>33</th>\n",
       "      <td>IIT Patna - Indian Institute of Technology Patna</td>\n",
       "      <td>4.7</td>\n",
       "      <td>52</td>\n",
       "      <td>34</td>\n",
       "      <td>Patna</td>\n",
       "      <td>Bihar</td>\n",
       "      <td>Public/Govt</td>\n",
       "      <td>₹9.85 Lakhs</td>\n",
       "      <td>11</td>\n",
       "      <td>15</td>\n",
       "    </tr>\n",
       "    <tr>\n",
       "      <th>34</th>\n",
       "      <td>KL University Guntur - Koneru Lakshmaiah Educa...</td>\n",
       "      <td>4.4</td>\n",
       "      <td>129</td>\n",
       "      <td>35</td>\n",
       "      <td>Guntur</td>\n",
       "      <td>Andhra Pradesh</td>\n",
       "      <td>Private</td>\n",
       "      <td>₹9.95 Lakhs</td>\n",
       "      <td>18</td>\n",
       "      <td>18</td>\n",
       "    </tr>\n",
       "    <tr>\n",
       "      <th>35</th>\n",
       "      <td>Kalasalingam Academy of Research and Education...</td>\n",
       "      <td>3.8</td>\n",
       "      <td>30</td>\n",
       "      <td>36</td>\n",
       "      <td>Virudhunagar</td>\n",
       "      <td>Tamil Nadu</td>\n",
       "      <td>Private</td>\n",
       "      <td>₹5.31 Lakhs</td>\n",
       "      <td>18</td>\n",
       "      <td>12</td>\n",
       "    </tr>\n",
       "    <tr>\n",
       "      <th>36</th>\n",
       "      <td>KIIT University - Kalinga Institute of Industr...</td>\n",
       "      <td>4.3</td>\n",
       "      <td>538</td>\n",
       "      <td>37</td>\n",
       "      <td>Bhubaneswar</td>\n",
       "      <td>Odisha</td>\n",
       "      <td>Private</td>\n",
       "      <td>₹14.91 Lakhs</td>\n",
       "      <td>18</td>\n",
       "      <td>14</td>\n",
       "    </tr>\n",
       "    <tr>\n",
       "      <th>37</th>\n",
       "      <td>SASTRA University Thanjavur - Shanmugha Arts S...</td>\n",
       "      <td>4.2</td>\n",
       "      <td>179</td>\n",
       "      <td>38</td>\n",
       "      <td>Thanjavur</td>\n",
       "      <td>Tamil Nadu</td>\n",
       "      <td>Private</td>\n",
       "      <td>nan</td>\n",
       "      <td>28</td>\n",
       "      <td>0</td>\n",
       "    </tr>\n",
       "    <tr>\n",
       "      <th>38</th>\n",
       "      <td>VNIT Nagpur - Visvesvaraya National Institute ...</td>\n",
       "      <td>4.2</td>\n",
       "      <td>121</td>\n",
       "      <td>39</td>\n",
       "      <td>Nagpur</td>\n",
       "      <td>Maharashtra</td>\n",
       "      <td>Public/Govt</td>\n",
       "      <td>₹5.50 Lakhs</td>\n",
       "      <td>8</td>\n",
       "      <td>22</td>\n",
       "    </tr>\n",
       "    <tr>\n",
       "      <th>39</th>\n",
       "      <td>NIT Silchar - National Institute of Technology...</td>\n",
       "      <td>4.3</td>\n",
       "      <td>164</td>\n",
       "      <td>40</td>\n",
       "      <td>Silchar</td>\n",
       "      <td>Assam</td>\n",
       "      <td>Public/Govt</td>\n",
       "      <td>₹6.00 Lakhs</td>\n",
       "      <td>6</td>\n",
       "      <td>19</td>\n",
       "    </tr>\n",
       "    <tr>\n",
       "      <th>40</th>\n",
       "      <td>ICT Mumbai - Institute of Chemical Technology,...</td>\n",
       "      <td>4.5</td>\n",
       "      <td>25</td>\n",
       "      <td>41</td>\n",
       "      <td>Mumbai</td>\n",
       "      <td>Maharashtra</td>\n",
       "      <td>Public/Govt</td>\n",
       "      <td>₹7.20 Lakhs</td>\n",
       "      <td>8</td>\n",
       "      <td>0</td>\n",
       "    </tr>\n",
       "    <tr>\n",
       "      <th>41</th>\n",
       "      <td>MNIT Jaipur - Malaviya National Institute of T...</td>\n",
       "      <td>4.3</td>\n",
       "      <td>273</td>\n",
       "      <td>43</td>\n",
       "      <td>Jaipur</td>\n",
       "      <td>Rajasthan</td>\n",
       "      <td>Public/Govt</td>\n",
       "      <td>₹6.17 Lakhs</td>\n",
       "      <td>8</td>\n",
       "      <td>23</td>\n",
       "    </tr>\n",
       "    <tr>\n",
       "      <th>42</th>\n",
       "      <td>NIT Durgapur - National Institute of Technolog...</td>\n",
       "      <td>4.1</td>\n",
       "      <td>165</td>\n",
       "      <td>44</td>\n",
       "      <td>Durgapur</td>\n",
       "      <td>West Bengal</td>\n",
       "      <td>Public/Govt</td>\n",
       "      <td>₹6.25 Lakhs</td>\n",
       "      <td>9</td>\n",
       "      <td>24</td>\n",
       "    </tr>\n",
       "    <tr>\n",
       "      <th>43</th>\n",
       "      <td>NIT Delhi - National Institute of Technology D...</td>\n",
       "      <td>4.0</td>\n",
       "      <td>74</td>\n",
       "      <td>45</td>\n",
       "      <td>New Delhi</td>\n",
       "      <td>Delhi</td>\n",
       "      <td>Public/Govt</td>\n",
       "      <td>₹6.58 Lakhs</td>\n",
       "      <td>9</td>\n",
       "      <td>10</td>\n",
       "    </tr>\n",
       "    <tr>\n",
       "      <th>44</th>\n",
       "      <td>SSN College of Engineering - Sri Sivasubramani...</td>\n",
       "      <td>4.6</td>\n",
       "      <td>65</td>\n",
       "      <td>46</td>\n",
       "      <td>Kelambakkam</td>\n",
       "      <td>Tamil Nadu</td>\n",
       "      <td>Private</td>\n",
       "      <td>nan</td>\n",
       "      <td>8</td>\n",
       "      <td>9</td>\n",
       "    </tr>\n",
       "    <tr>\n",
       "      <th>45</th>\n",
       "      <td>IIIT Hyderabad - International Institute of In...</td>\n",
       "      <td>4.5</td>\n",
       "      <td>34</td>\n",
       "      <td>47</td>\n",
       "      <td>Hyderabad</td>\n",
       "      <td>Telangana</td>\n",
       "      <td>Private</td>\n",
       "      <td>₹16 Lakhs</td>\n",
       "      <td>2</td>\n",
       "      <td>0</td>\n",
       "    </tr>\n",
       "    <tr>\n",
       "      <th>46</th>\n",
       "      <td>Birla Institute of Technology, Mesra (BIT Mesr...</td>\n",
       "      <td>4.2</td>\n",
       "      <td>211</td>\n",
       "      <td>48</td>\n",
       "      <td>Pilani</td>\n",
       "      <td>Rajasthan</td>\n",
       "      <td>Private</td>\n",
       "      <td>₹15.74 Lakhs</td>\n",
       "      <td>11</td>\n",
       "      <td>28</td>\n",
       "    </tr>\n",
       "    <tr>\n",
       "      <th>47</th>\n",
       "      <td>IIEST Shibpur - Indian Institute of Engineerin...</td>\n",
       "      <td>4.3</td>\n",
       "      <td>141</td>\n",
       "      <td>49</td>\n",
       "      <td>Howrah</td>\n",
       "      <td>West Bengal</td>\n",
       "      <td>Public/Govt</td>\n",
       "      <td>₹5.44 Lakhs</td>\n",
       "      <td>9</td>\n",
       "      <td>29</td>\n",
       "    </tr>\n",
       "    <tr>\n",
       "      <th>48</th>\n",
       "      <td>LPU Jalandhar - Lovely Professional University...</td>\n",
       "      <td>4.4</td>\n",
       "      <td>1135</td>\n",
       "      <td>50</td>\n",
       "      <td>Phagwara</td>\n",
       "      <td>Punjab</td>\n",
       "      <td>Private</td>\n",
       "      <td>₹16.36 Lakhs</td>\n",
       "      <td>54</td>\n",
       "      <td>13</td>\n",
       "    </tr>\n",
       "    <tr>\n",
       "      <th>49</th>\n",
       "      <td>IIST Thiruvananthapuram - Indian Institute of ...</td>\n",
       "      <td>4.5</td>\n",
       "      <td>15</td>\n",
       "      <td>51</td>\n",
       "      <td>Thiruvananthapuram</td>\n",
       "      <td>Kerala</td>\n",
       "      <td>Public/Govt</td>\n",
       "      <td>₹5.48 Lakhs</td>\n",
       "      <td>3</td>\n",
       "      <td>16</td>\n",
       "    </tr>\n",
       "  </tbody>\n",
       "</table>\n",
       "</div>"
      ],
      "text/plain": [
       "                                             Colleges  Rating  Reviews  \\\n",
       "0   IIT Madras - Indian Institute of Technology Ma...     4.7      114   \n",
       "1    IIT Delhi - Indian Institute of Technology Delhi     4.6      265   \n",
       "2   IIT Bombay - Indian Institute of Technology Bo...     4.6      161   \n",
       "3   IIT Kanpur - Indian Institute of Technology Ka...     4.4      156   \n",
       "4   IIT Kharagpur - Indian Institute of Technology...     4.7      323   \n",
       "5   IIT Roorkee - Indian Institute of Technology R...     4.4      407   \n",
       "6   IIT Guwahati (IITG) - Indian Institute of Tech...     4.3      186   \n",
       "7   IIT Hyderabad - Indian Institute of Technology...     4.6       27   \n",
       "8   NIT Trichy - National Institute of Technology ...     4.4      304   \n",
       "9   IIT BHU - Indian Institute of Technology Banar...     4.6      160   \n",
       "10  VIT Vellore - Vellore Institute of Technology,...     4.4      787   \n",
       "11                       Jadavpur University, Kolkata     4.6      222   \n",
       "12  SRM University Chennai - SRM Institute of Scie...     4.3      727   \n",
       "13                           Anna University, Chennai     4.8       43   \n",
       "14  IIT (ISM) Dhanbad - Indian Institute of Techno...     4.3      190   \n",
       "15  IIT Indore - Indian Institute of Technology In...     4.6       36   \n",
       "16  NIT Surathkal (NITK) - National Institute of T...     4.4       95   \n",
       "17  IIT Gandhinagar (IIT GN) - Indian Institute of...     4.4       18   \n",
       "18  NIT Rourkela - National Institute of Technolog...     4.6      340   \n",
       "19  BITS Pilani - Birla Institute of Technology an...     4.5      264   \n",
       "20  NIT Warangal - National Institute of Technolog...     4.6      142   \n",
       "21  IIT Ropar (IIT-RPR) - Indian Institute of Tech...     4.5      126   \n",
       "22             Amrita Vishwa Vidyapeetham, Coimbatore     4.3      121   \n",
       "23    JMI New Delhi - Jamia Millia Islamia, New Delhi     4.5      384   \n",
       "24  NIT Calicut - National Institute of Technology...     4.4      132   \n",
       "25                 Siksha 'O' Anusandhan, Bhubaneswar     4.0      148   \n",
       "26  DTU Delhi - Delhi Technological University, Delhi     4.5      417   \n",
       "27  IIT Jodhpur - Indian Institute of Technology J...     4.3       51   \n",
       "28  Thapar University - Thapar Institute of Engine...     4.3      290   \n",
       "29                            Amity University, Noida     4.1      392   \n",
       "30   IIT Mandi - Indian Institute of Technology Mandi     4.4       27   \n",
       "31  Chandigarh University - Chandigarh University,...     4.3      826   \n",
       "32   AMU Aligarh - Aligarh Muslim University, Aligarh     4.7      405   \n",
       "33   IIT Patna - Indian Institute of Technology Patna     4.7       52   \n",
       "34  KL University Guntur - Koneru Lakshmaiah Educa...     4.4      129   \n",
       "35  Kalasalingam Academy of Research and Education...     3.8       30   \n",
       "36  KIIT University - Kalinga Institute of Industr...     4.3      538   \n",
       "37  SASTRA University Thanjavur - Shanmugha Arts S...     4.2      179   \n",
       "38  VNIT Nagpur - Visvesvaraya National Institute ...     4.2      121   \n",
       "39  NIT Silchar - National Institute of Technology...     4.3      164   \n",
       "40  ICT Mumbai - Institute of Chemical Technology,...     4.5       25   \n",
       "41  MNIT Jaipur - Malaviya National Institute of T...     4.3      273   \n",
       "42  NIT Durgapur - National Institute of Technolog...     4.1      165   \n",
       "43  NIT Delhi - National Institute of Technology D...     4.0       74   \n",
       "44  SSN College of Engineering - Sri Sivasubramani...     4.6       65   \n",
       "45  IIIT Hyderabad - International Institute of In...     4.5       34   \n",
       "46  Birla Institute of Technology, Mesra (BIT Mesr...     4.2      211   \n",
       "47  IIEST Shibpur - Indian Institute of Engineerin...     4.3      141   \n",
       "48  LPU Jalandhar - Lovely Professional University...     4.4     1135   \n",
       "49  IIST Thiruvananthapuram - Indian Institute of ...     4.5       15   \n",
       "\n",
       "   NIRF_Ranking                 City             State    Ownership  \\\n",
       "0             1              Chennai        Tamil Nadu  Public/Govt   \n",
       "1             2            New Delhi             Delhi  Public/Govt   \n",
       "2             3               Mumbai       Maharashtra  Public/Govt   \n",
       "3             4               Kanpur     Uttar Pradesh  Public/Govt   \n",
       "4             5            Kharagpur       West Bengal  Public/Govt   \n",
       "5             6              Roorkee       Uttarakhand  Public/Govt   \n",
       "6             7             Guwahati             Assam  Public/Govt   \n",
       "7             8            Hyderabad         Telangana  Public/Govt   \n",
       "8             9      Tiruchirappalli        Tamil Nadu  Public/Govt   \n",
       "9            10             Varanasi     Uttar Pradesh  Public/Govt   \n",
       "10           11              Vellore        Tamil Nadu      Private   \n",
       "11           12              Kolkata       West Bengal  Public/Govt   \n",
       "12           13              Chennai        Tamil Nadu      Private   \n",
       "13           14              Chennai        Tamil Nadu  Public/Govt   \n",
       "14           15              Dhanbad         Jharkhand  Public/Govt   \n",
       "15           16               Indore    Madhya Pradesh  Public/Govt   \n",
       "16           17            Mangalore         Karnataka  Public/Govt   \n",
       "17           18          Gandhinagar           Gujarat  Public/Govt   \n",
       "18           19             Rourkela            Odisha  Public/Govt   \n",
       "19           20               Pilani         Rajasthan      Private   \n",
       "20           21             Warangal         Telangana  Public/Govt   \n",
       "21           22             Rupnagar            Punjab  Public/Govt   \n",
       "22           23           Coimbatore        Tamil Nadu      Private   \n",
       "23           24            New Delhi             Delhi  Public/Govt   \n",
       "24           25            Kozhikode            Kerala  Public/Govt   \n",
       "25           26          Bhubaneswar            Odisha      Private   \n",
       "26           27            New Delhi             Delhi  Public/Govt   \n",
       "27           28              Jodhpur         Rajasthan  Public/Govt   \n",
       "28           29              Patiala            Punjab      Private   \n",
       "29           30                Noida     Uttar Pradesh      Private   \n",
       "30           31                Mandi  Himachal Pradesh  Public/Govt   \n",
       "31           32           Chandigarh        Chandigarh      Private   \n",
       "32           33              Aligarh     Uttar Pradesh  Public/Govt   \n",
       "33           34                Patna             Bihar  Public/Govt   \n",
       "34           35               Guntur    Andhra Pradesh      Private   \n",
       "35           36         Virudhunagar        Tamil Nadu      Private   \n",
       "36           37          Bhubaneswar            Odisha      Private   \n",
       "37           38            Thanjavur        Tamil Nadu      Private   \n",
       "38           39               Nagpur       Maharashtra  Public/Govt   \n",
       "39           40              Silchar             Assam  Public/Govt   \n",
       "40           41               Mumbai       Maharashtra  Public/Govt   \n",
       "41           43               Jaipur         Rajasthan  Public/Govt   \n",
       "42           44             Durgapur       West Bengal  Public/Govt   \n",
       "43           45            New Delhi             Delhi  Public/Govt   \n",
       "44           46          Kelambakkam        Tamil Nadu      Private   \n",
       "45           47            Hyderabad         Telangana      Private   \n",
       "46           48               Pilani         Rajasthan      Private   \n",
       "47           49               Howrah       West Bengal  Public/Govt   \n",
       "48           50             Phagwara            Punjab      Private   \n",
       "49           51   Thiruvananthapuram            Kerala  Public/Govt   \n",
       "\n",
       "            Fees  BTech_Courses  MTech_Courses  \n",
       "0    ₹8.58 Lakhs             11             30  \n",
       "1    ₹8.58 Lakhs             14             48  \n",
       "2    ₹8.69 Lakhs             11             42  \n",
       "3   ₹11.67 Lakhs              9             40  \n",
       "4   ₹10.42 Lakhs             16             62  \n",
       "5    ₹8.90 Lakhs             13             54  \n",
       "6   ₹11.99 Lakhs             12             28  \n",
       "7    ₹9.08 Lakhs             15             38  \n",
       "8    ₹6.30 Lakhs              9             23  \n",
       "9    ₹8.58 Lakhs              9             34  \n",
       "10           nan             15             23  \n",
       "11           nan             18             34  \n",
       "12     ₹11 Lakhs             54             34  \n",
       "13   ₹2.20 Lakhs              8             44  \n",
       "14  ₹10.95 Lakhs             13             19  \n",
       "15           nan              9             15  \n",
       "16   ₹5.72 Lakhs             12             55  \n",
       "17   ₹8.67 Lakhs             10              0  \n",
       "18   ₹6.28 Lakhs             15             54  \n",
       "19  ₹22.32 Lakhs              7             31  \n",
       "20   ₹5.74 Lakhs             11             33  \n",
       "21   ₹9.36 Lakhs              9              0  \n",
       "22     ₹24 Lakhs             11             19  \n",
       "23    0.65 Lakhs              5             15  \n",
       "24   ₹6.23 Lakhs             10             28  \n",
       "25  ₹11.05 Lakhs             18              0  \n",
       "26           nan             21             36  \n",
       "27  ₹10.25 Lakhs              8             17  \n",
       "28  ₹20.15 Lakhs             31             15  \n",
       "29   ₹8.64 Lakhs             13             24  \n",
       "30   ₹8.63 Lakhs             11             37  \n",
       "31  ₹10.75 Lakhs             35              0  \n",
       "32           nan             12             23  \n",
       "33   ₹9.85 Lakhs             11             15  \n",
       "34   ₹9.95 Lakhs             18             18  \n",
       "35   ₹5.31 Lakhs             18             12  \n",
       "36  ₹14.91 Lakhs             18             14  \n",
       "37           nan             28              0  \n",
       "38   ₹5.50 Lakhs              8             22  \n",
       "39   ₹6.00 Lakhs              6             19  \n",
       "40   ₹7.20 Lakhs              8              0  \n",
       "41   ₹6.17 Lakhs              8             23  \n",
       "42   ₹6.25 Lakhs              9             24  \n",
       "43   ₹6.58 Lakhs              9             10  \n",
       "44           nan              8              9  \n",
       "45     ₹16 Lakhs              2              0  \n",
       "46  ₹15.74 Lakhs             11             28  \n",
       "47   ₹5.44 Lakhs              9             29  \n",
       "48  ₹16.36 Lakhs             54             13  \n",
       "49   ₹5.48 Lakhs              3             16  "
      ]
     },
     "execution_count": 23,
     "metadata": {},
     "output_type": "execute_result"
    }
   ],
   "source": [
    "df.head(50)"
   ]
  },
  {
   "cell_type": "markdown",
   "id": "ac53f80e-3bc8-425c-b559-6e3440e6e7ee",
   "metadata": {},
   "source": [
    "# Check for Missing values"
   ]
  },
  {
   "cell_type": "code",
   "execution_count": 25,
   "id": "cb374ee2-2eaa-4ed9-9de9-12b803be3af4",
   "metadata": {},
   "outputs": [
    {
     "data": {
      "text/plain": [
       "0"
      ]
     },
     "execution_count": 25,
     "metadata": {},
     "output_type": "execute_result"
    },
    {
     "data": {
      "text/plain": [
       "Colleges           0\n",
       "Rating           175\n",
       "Reviews            0\n",
       "NIRF_Ranking      18\n",
       "City               0\n",
       "State              0\n",
       "Ownership          0\n",
       "Fees               0\n",
       "BTech_Courses      0\n",
       "MTech_Courses      0\n",
       "dtype: int64"
      ]
     },
     "execution_count": 25,
     "metadata": {},
     "output_type": "execute_result"
    }
   ],
   "source": [
    "df.dtypes.isna().sum()  # check for missing values\n",
    "df.isnull().sum() # check for missing values"
   ]
  },
  {
   "cell_type": "code",
   "execution_count": 26,
   "id": "26ab9aaa-237e-4d2a-a95f-bf28f52c0b3c",
   "metadata": {},
   "outputs": [
    {
     "data": {
      "text/plain": [
       "Rating           175\n",
       "NIRF_Ranking      18\n",
       "Colleges           0\n",
       "Reviews            0\n",
       "City               0\n",
       "State              0\n",
       "Ownership          0\n",
       "Fees               0\n",
       "BTech_Courses      0\n",
       "MTech_Courses      0\n",
       "dtype: int64"
      ]
     },
     "execution_count": 26,
     "metadata": {},
     "output_type": "execute_result"
    }
   ],
   "source": [
    "df.isna().sum().sort_values(ascending = False)\n",
    "# Sort the missing value output based on count "
   ]
  },
  {
   "cell_type": "code",
   "execution_count": 27,
   "id": "674602db-52a5-47f0-b68c-fc0d1f31b421",
   "metadata": {},
   "outputs": [
    {
     "data": {
      "text/plain": [
       "0      False\n",
       "1      False\n",
       "2      False\n",
       "3      False\n",
       "4      False\n",
       "       ...  \n",
       "545     True\n",
       "546     True\n",
       "547    False\n",
       "548     True\n",
       "549     True\n",
       "Length: 550, dtype: bool"
      ]
     },
     "execution_count": 27,
     "metadata": {},
     "output_type": "execute_result"
    }
   ],
   "source": [
    "df.duplicated()"
   ]
  },
  {
   "cell_type": "code",
   "execution_count": 28,
   "id": "c6bd13c1-51d0-410e-8279-54662d5d46b3",
   "metadata": {},
   "outputs": [
    {
     "data": {
      "text/plain": [
       "Rating           31.818181818181817%\n",
       "NIRF_Ranking      3.272727272727273%\n",
       "Colleges                        0.0%\n",
       "Reviews                         0.0%\n",
       "City                            0.0%\n",
       "State                           0.0%\n",
       "Ownership                       0.0%\n",
       "Fees                            0.0%\n",
       "BTech_Courses                   0.0%\n",
       "MTech_Courses                   0.0%\n",
       "dtype: object"
      ]
     },
     "execution_count": 28,
     "metadata": {},
     "output_type": "execute_result"
    }
   ],
   "source": [
    "# Check the missing value percentage in each column \n",
    "\n",
    "((((df.isna().sum().sort_values(ascending = False))/len(df))*100).astype(str) + \"%\")"
   ]
  },
  {
   "cell_type": "code",
   "execution_count": 29,
   "id": "2a10d9e0-25cd-4803-a353-75ab2aceb00c",
   "metadata": {},
   "outputs": [
    {
     "data": {
      "text/plain": [
       "Colleges         False\n",
       "Rating            True\n",
       "Reviews          False\n",
       "NIRF_Ranking      True\n",
       "City             False\n",
       "State            False\n",
       "Ownership        False\n",
       "Fees             False\n",
       "BTech_Courses    False\n",
       "MTech_Courses    False\n",
       "dtype: bool"
      ]
     },
     "execution_count": 29,
     "metadata": {},
     "output_type": "execute_result"
    },
    {
     "data": {
      "text/plain": [
       "True"
      ]
     },
     "execution_count": 29,
     "metadata": {},
     "output_type": "execute_result"
    },
    {
     "name": "stdout",
     "output_type": "stream",
     "text": [
      "['Rating', 'NIRF_Ranking']\n"
     ]
    },
    {
     "data": {
      "text/plain": [
       "2"
      ]
     },
     "execution_count": 29,
     "metadata": {},
     "output_type": "execute_result"
    }
   ],
   "source": [
    "# Print the columns with atleast one missing values\n",
    "df.isna().any() \n",
    "df[\"NIRF_Ranking\"].isna().any()\n",
    "\n",
    "print([col for col in df.columns if df[col].isna().any()])\n",
    "\n",
    "len([col for col in df.columns if df[col].isna().any()])"
   ]
  },
  {
   "cell_type": "code",
   "execution_count": 30,
   "id": "0d537a96-8402-4d5c-8f6a-12da61c16b82",
   "metadata": {},
   "outputs": [
    {
     "data": {
      "text/plain": [
       "Colleges         False\n",
       "Rating           False\n",
       "Reviews          False\n",
       "NIRF_Ranking     False\n",
       "City             False\n",
       "State            False\n",
       "Ownership        False\n",
       "Fees             False\n",
       "BTech_Courses    False\n",
       "MTech_Courses    False\n",
       "dtype: bool"
      ]
     },
     "execution_count": 30,
     "metadata": {},
     "output_type": "execute_result"
    },
    {
     "data": {
      "text/plain": [
       "False"
      ]
     },
     "execution_count": 30,
     "metadata": {},
     "output_type": "execute_result"
    },
    {
     "name": "stdout",
     "output_type": "stream",
     "text": [
      "[]\n"
     ]
    },
    {
     "data": {
      "text/plain": [
       "0"
      ]
     },
     "execution_count": 30,
     "metadata": {},
     "output_type": "execute_result"
    }
   ],
   "source": [
    "# Print the columns with all missing values\n",
    "df.isna().all() \n",
    "df[\"State\"].isna().all()\n",
    "\n",
    "print([col for col in df.columns if df[col].isna().all()])\n",
    "\n",
    "len([col for col in df.columns if df[col].isna().all()])"
   ]
  },
  {
   "cell_type": "code",
   "execution_count": 31,
   "id": "05685e8b-b064-4fc1-80df-fb852b45e27f",
   "metadata": {},
   "outputs": [
    {
     "data": {
      "text/plain": [
       "array([' 1', ' 2', ' 3', ' 4', ' 5', ' 6', ' 7', ' 8', ' 9', ' 10', ' 11',\n",
       "       ' 12', ' 13', ' 14', ' 15', ' 16', ' 17', ' 18', ' 19', ' 20',\n",
       "       ' 21', ' 22', ' 23', ' 24', ' 25', ' 26', ' 27', ' 28', ' 29',\n",
       "       ' 30', ' 31', ' 32', ' 33', ' 34', ' 35', ' 36', ' 37', ' 38',\n",
       "       ' 39', ' 40', ' 41', ' 43', ' 44', ' 45', ' 46', ' 47', ' 48',\n",
       "       ' 49', ' 50', ' 51', ' 52', ' 54', ' 55', ' 56', ' 57', ' 58',\n",
       "       ' 59', ' 60', ' 61', ' 62', ' 63', ' 64', ' 66', ' 67', ' 68',\n",
       "       ' 69', ' 70', ' 71', ' 72', ' 73', ' 74', ' 75', ' 76', ' 77',\n",
       "       ' 78', ' 79', ' 80', ' 81', ' 82', ' 83', ' 84', ' 85', ' 86',\n",
       "       ' 87', ' 89', ' 90', ' 91', ' 92', ' 93', ' 94', ' 95', ' 96',\n",
       "       ' 97', ' 98', ' 99', ' 100', ' 101-150', ' 151-200', ' 201-300',\n",
       "       nan, 'Not Mentioned'], dtype=object)"
      ]
     },
     "execution_count": 31,
     "metadata": {},
     "output_type": "execute_result"
    }
   ],
   "source": [
    "df[\"NIRF_Ranking\"].unique()"
   ]
  },
  {
   "cell_type": "code",
   "execution_count": 32,
   "id": "29300876-54de-4606-97ff-43113976b3f0",
   "metadata": {},
   "outputs": [],
   "source": [
    "# Replace nan values with \"Not Mentioned\" for NIRF_Ranking column\n",
    "df[\"NIRF_Ranking\"].replace(np.nan, \"Not Mentioned\" , inplace=True)"
   ]
  },
  {
   "cell_type": "code",
   "execution_count": 33,
   "id": "c09aee3c-8e77-49e2-8825-f9976744de24",
   "metadata": {},
   "outputs": [
    {
     "data": {
      "text/plain": [
       "Colleges         False\n",
       "Rating            True\n",
       "Reviews          False\n",
       "NIRF_Ranking     False\n",
       "City             False\n",
       "State            False\n",
       "Ownership        False\n",
       "Fees             False\n",
       "BTech_Courses    False\n",
       "MTech_Courses    False\n",
       "dtype: bool"
      ]
     },
     "execution_count": 33,
     "metadata": {},
     "output_type": "execute_result"
    },
    {
     "data": {
      "text/plain": [
       "False"
      ]
     },
     "execution_count": 33,
     "metadata": {},
     "output_type": "execute_result"
    }
   ],
   "source": [
    "# Again checking nan values\n",
    "df.isna().any() \n",
    "df[\"NIRF_Ranking\"].isna().any()"
   ]
  },
  {
   "cell_type": "markdown",
   "id": "ccfb5024-cb8f-4d58-97a8-214ec12ae8e8",
   "metadata": {},
   "source": [
    "## Check for Duplicates in the DataFrame"
   ]
  },
  {
   "cell_type": "code",
   "execution_count": 35,
   "id": "c8e41a42-9f73-4749-8282-f3b15ca56a4b",
   "metadata": {},
   "outputs": [
    {
     "data": {
      "text/html": [
       "<div>\n",
       "<style scoped>\n",
       "    .dataframe tbody tr th:only-of-type {\n",
       "        vertical-align: middle;\n",
       "    }\n",
       "\n",
       "    .dataframe tbody tr th {\n",
       "        vertical-align: top;\n",
       "    }\n",
       "\n",
       "    .dataframe thead th {\n",
       "        text-align: right;\n",
       "    }\n",
       "</style>\n",
       "<table border=\"1\" class=\"dataframe\">\n",
       "  <thead>\n",
       "    <tr style=\"text-align: right;\">\n",
       "      <th></th>\n",
       "      <th>Colleges</th>\n",
       "      <th>Rating</th>\n",
       "      <th>Reviews</th>\n",
       "      <th>NIRF_Ranking</th>\n",
       "      <th>City</th>\n",
       "      <th>State</th>\n",
       "      <th>Ownership</th>\n",
       "      <th>Fees</th>\n",
       "      <th>BTech_Courses</th>\n",
       "      <th>MTech_Courses</th>\n",
       "    </tr>\n",
       "  </thead>\n",
       "  <tbody>\n",
       "    <tr>\n",
       "      <th>100</th>\n",
       "      <td>JNTUK Kakinada - Jawaharlal Nehru Technologica...</td>\n",
       "      <td>4.4</td>\n",
       "      <td>17</td>\n",
       "      <td>101-150</td>\n",
       "      <td>Kakinada</td>\n",
       "      <td>Andhra Pradesh</td>\n",
       "      <td>Public/Govt</td>\n",
       "      <td>₹2.79 Lakhs</td>\n",
       "      <td>9</td>\n",
       "      <td>113</td>\n",
       "    </tr>\n",
       "    <tr>\n",
       "      <th>300</th>\n",
       "      <td>SRM Institute of Science and Technology, Vadap...</td>\n",
       "      <td>4.4</td>\n",
       "      <td>18</td>\n",
       "      <td>Not Mentioned</td>\n",
       "      <td>Vadapalani</td>\n",
       "      <td>Tamil Nadu</td>\n",
       "      <td>Private</td>\n",
       "      <td>₹12 Lakhs</td>\n",
       "      <td>9</td>\n",
       "      <td>0</td>\n",
       "    </tr>\n",
       "    <tr>\n",
       "      <th>301</th>\n",
       "      <td>SV Institute of Engineering and Technology, Mo...</td>\n",
       "      <td>NaN</td>\n",
       "      <td>0</td>\n",
       "      <td>Not Mentioned</td>\n",
       "      <td>Hyderabad</td>\n",
       "      <td>Telangana</td>\n",
       "      <td>Private</td>\n",
       "      <td>₹1.40 Lakhs</td>\n",
       "      <td>5</td>\n",
       "      <td>3</td>\n",
       "    </tr>\n",
       "    <tr>\n",
       "      <th>302</th>\n",
       "      <td>NCR Technical Campus, Aligarh</td>\n",
       "      <td>NaN</td>\n",
       "      <td>0</td>\n",
       "      <td>Not Mentioned</td>\n",
       "      <td>Aligarh</td>\n",
       "      <td>Uttar Pradesh</td>\n",
       "      <td>Private</td>\n",
       "      <td>nan</td>\n",
       "      <td>7</td>\n",
       "      <td>0</td>\n",
       "    </tr>\n",
       "    <tr>\n",
       "      <th>303</th>\n",
       "      <td>Kalinga University, Raipur</td>\n",
       "      <td>4.0</td>\n",
       "      <td>17</td>\n",
       "      <td>Not Mentioned</td>\n",
       "      <td>Naya Raipur</td>\n",
       "      <td>Chhattisgarh</td>\n",
       "      <td>Private</td>\n",
       "      <td>₹6.18 Lakhs</td>\n",
       "      <td>4</td>\n",
       "      <td>0</td>\n",
       "    </tr>\n",
       "    <tr>\n",
       "      <th>304</th>\n",
       "      <td>Rai University, Ahmedabad</td>\n",
       "      <td>4.0</td>\n",
       "      <td>18</td>\n",
       "      <td>Not Mentioned</td>\n",
       "      <td>Saroda</td>\n",
       "      <td>Gujarat</td>\n",
       "      <td>Private</td>\n",
       "      <td>₹1.33 Lakhs</td>\n",
       "      <td>3</td>\n",
       "      <td>0</td>\n",
       "    </tr>\n",
       "    <tr>\n",
       "      <th>305</th>\n",
       "      <td>Sri Guru Granth Sahib World University, Fatehg...</td>\n",
       "      <td>NaN</td>\n",
       "      <td>0</td>\n",
       "      <td>Not Mentioned</td>\n",
       "      <td>Fatehgarh Sahib</td>\n",
       "      <td>Punjab</td>\n",
       "      <td>Private</td>\n",
       "      <td>₹3.96 Lakhs</td>\n",
       "      <td>6</td>\n",
       "      <td>0</td>\n",
       "    </tr>\n",
       "    <tr>\n",
       "      <th>306</th>\n",
       "      <td>BITS Hyderabad - BITS Pilani- Hyderabad Campus...</td>\n",
       "      <td>4.4</td>\n",
       "      <td>59</td>\n",
       "      <td>Not Mentioned</td>\n",
       "      <td>Hyderabad</td>\n",
       "      <td>Telangana</td>\n",
       "      <td>Private</td>\n",
       "      <td>₹22.32 Lakhs</td>\n",
       "      <td>8</td>\n",
       "      <td>13</td>\n",
       "    </tr>\n",
       "    <tr>\n",
       "      <th>307</th>\n",
       "      <td>Navrachana University, Vadodara</td>\n",
       "      <td>3.9</td>\n",
       "      <td>16</td>\n",
       "      <td>Not Mentioned</td>\n",
       "      <td>Vadodara</td>\n",
       "      <td>Gujarat</td>\n",
       "      <td>Private</td>\n",
       "      <td>₹4.36 Lakhs</td>\n",
       "      <td>5</td>\n",
       "      <td>4</td>\n",
       "    </tr>\n",
       "    <tr>\n",
       "      <th>308</th>\n",
       "      <td>NIILM University, Kaithal</td>\n",
       "      <td>1.4</td>\n",
       "      <td>1</td>\n",
       "      <td>Not Mentioned</td>\n",
       "      <td>Ujana</td>\n",
       "      <td>Haryana</td>\n",
       "      <td>Private</td>\n",
       "      <td>nan</td>\n",
       "      <td>2</td>\n",
       "      <td>0</td>\n",
       "    </tr>\n",
       "    <tr>\n",
       "      <th>538</th>\n",
       "      <td>Department of Computer Science and Application...</td>\n",
       "      <td>NaN</td>\n",
       "      <td>0</td>\n",
       "      <td>Not Mentioned</td>\n",
       "      <td>Rohtak</td>\n",
       "      <td>Haryana</td>\n",
       "      <td>Public/Govt</td>\n",
       "      <td>₹1.46 Lakhs</td>\n",
       "      <td>11</td>\n",
       "      <td>0</td>\n",
       "    </tr>\n",
       "    <tr>\n",
       "      <th>540</th>\n",
       "      <td>Department of Electronic Science, Kurukshetra ...</td>\n",
       "      <td>5.0</td>\n",
       "      <td>1</td>\n",
       "      <td>Not Mentioned</td>\n",
       "      <td>Kurukshetra</td>\n",
       "      <td>Haryana</td>\n",
       "      <td>Public/Govt</td>\n",
       "      <td>nan</td>\n",
       "      <td>11</td>\n",
       "      <td>0</td>\n",
       "    </tr>\n",
       "    <tr>\n",
       "      <th>541</th>\n",
       "      <td>Navsarjan School of Technology, Gandhinagar</td>\n",
       "      <td>NaN</td>\n",
       "      <td>0</td>\n",
       "      <td>Not Mentioned</td>\n",
       "      <td>Gandhinagar</td>\n",
       "      <td>Gujarat</td>\n",
       "      <td>Private</td>\n",
       "      <td>nan</td>\n",
       "      <td>11</td>\n",
       "      <td>0</td>\n",
       "    </tr>\n",
       "    <tr>\n",
       "      <th>542</th>\n",
       "      <td>Institute of Computer Science, Vikram Universi...</td>\n",
       "      <td>NaN</td>\n",
       "      <td>0</td>\n",
       "      <td>Not Mentioned</td>\n",
       "      <td>Ujjain</td>\n",
       "      <td>Madhya Pradesh</td>\n",
       "      <td>Public/Govt</td>\n",
       "      <td>0.27 Lakhs</td>\n",
       "      <td>11</td>\n",
       "      <td>0</td>\n",
       "    </tr>\n",
       "    <tr>\n",
       "      <th>544</th>\n",
       "      <td>Asansol Polytechnic, Bardhaman</td>\n",
       "      <td>NaN</td>\n",
       "      <td>0</td>\n",
       "      <td>Not Mentioned</td>\n",
       "      <td>Burdwan</td>\n",
       "      <td>West Bengal</td>\n",
       "      <td>Public/Govt</td>\n",
       "      <td>nan</td>\n",
       "      <td>11</td>\n",
       "      <td>0</td>\n",
       "    </tr>\n",
       "    <tr>\n",
       "      <th>545</th>\n",
       "      <td>Canning Government Polytechnic, South 24 Parganas</td>\n",
       "      <td>NaN</td>\n",
       "      <td>0</td>\n",
       "      <td>Not Mentioned</td>\n",
       "      <td>South 24 Parganas</td>\n",
       "      <td>West Bengal</td>\n",
       "      <td>Public/Govt</td>\n",
       "      <td>nan</td>\n",
       "      <td>11</td>\n",
       "      <td>0</td>\n",
       "    </tr>\n",
       "    <tr>\n",
       "      <th>546</th>\n",
       "      <td>Central Calcutta Polytechnic, Kolkata</td>\n",
       "      <td>3.0</td>\n",
       "      <td>1</td>\n",
       "      <td>Not Mentioned</td>\n",
       "      <td>Kolkata</td>\n",
       "      <td>West Bengal</td>\n",
       "      <td>Public/Govt</td>\n",
       "      <td>nan</td>\n",
       "      <td>11</td>\n",
       "      <td>0</td>\n",
       "    </tr>\n",
       "    <tr>\n",
       "      <th>548</th>\n",
       "      <td>Itahar Government Polytechnic, Uttar Dinajpur</td>\n",
       "      <td>NaN</td>\n",
       "      <td>0</td>\n",
       "      <td>Not Mentioned</td>\n",
       "      <td>North Dinajpur</td>\n",
       "      <td>West Bengal</td>\n",
       "      <td>Public/Govt</td>\n",
       "      <td>nan</td>\n",
       "      <td>11</td>\n",
       "      <td>0</td>\n",
       "    </tr>\n",
       "    <tr>\n",
       "      <th>549</th>\n",
       "      <td>GRD Polytechnic, Dehradun</td>\n",
       "      <td>NaN</td>\n",
       "      <td>0</td>\n",
       "      <td>Not Mentioned</td>\n",
       "      <td>Dehradun</td>\n",
       "      <td>Uttarakhand</td>\n",
       "      <td>Private</td>\n",
       "      <td>₹1.85 Lakhs</td>\n",
       "      <td>11</td>\n",
       "      <td>0</td>\n",
       "    </tr>\n",
       "  </tbody>\n",
       "</table>\n",
       "</div>"
      ],
      "text/plain": [
       "                                              Colleges  Rating  Reviews  \\\n",
       "100  JNTUK Kakinada - Jawaharlal Nehru Technologica...     4.4       17   \n",
       "300  SRM Institute of Science and Technology, Vadap...     4.4       18   \n",
       "301  SV Institute of Engineering and Technology, Mo...     NaN        0   \n",
       "302                      NCR Technical Campus, Aligarh     NaN        0   \n",
       "303                         Kalinga University, Raipur     4.0       17   \n",
       "304                          Rai University, Ahmedabad     4.0       18   \n",
       "305  Sri Guru Granth Sahib World University, Fatehg...     NaN        0   \n",
       "306  BITS Hyderabad - BITS Pilani- Hyderabad Campus...     4.4       59   \n",
       "307                    Navrachana University, Vadodara     3.9       16   \n",
       "308                          NIILM University, Kaithal     1.4        1   \n",
       "538  Department of Computer Science and Application...     NaN        0   \n",
       "540  Department of Electronic Science, Kurukshetra ...     5.0        1   \n",
       "541        Navsarjan School of Technology, Gandhinagar     NaN        0   \n",
       "542  Institute of Computer Science, Vikram Universi...     NaN        0   \n",
       "544                     Asansol Polytechnic, Bardhaman     NaN        0   \n",
       "545  Canning Government Polytechnic, South 24 Parganas     NaN        0   \n",
       "546              Central Calcutta Polytechnic, Kolkata     3.0        1   \n",
       "548      Itahar Government Polytechnic, Uttar Dinajpur     NaN        0   \n",
       "549                          GRD Polytechnic, Dehradun     NaN        0   \n",
       "\n",
       "      NIRF_Ranking                City           State    Ownership  \\\n",
       "100        101-150            Kakinada  Andhra Pradesh  Public/Govt   \n",
       "300  Not Mentioned          Vadapalani      Tamil Nadu      Private   \n",
       "301  Not Mentioned           Hyderabad       Telangana      Private   \n",
       "302  Not Mentioned             Aligarh   Uttar Pradesh      Private   \n",
       "303  Not Mentioned         Naya Raipur    Chhattisgarh      Private   \n",
       "304  Not Mentioned              Saroda         Gujarat      Private   \n",
       "305  Not Mentioned     Fatehgarh Sahib          Punjab      Private   \n",
       "306  Not Mentioned           Hyderabad       Telangana      Private   \n",
       "307  Not Mentioned            Vadodara         Gujarat      Private   \n",
       "308  Not Mentioned               Ujana         Haryana      Private   \n",
       "538  Not Mentioned              Rohtak         Haryana  Public/Govt   \n",
       "540  Not Mentioned         Kurukshetra         Haryana  Public/Govt   \n",
       "541  Not Mentioned         Gandhinagar         Gujarat      Private   \n",
       "542  Not Mentioned              Ujjain  Madhya Pradesh  Public/Govt   \n",
       "544  Not Mentioned             Burdwan     West Bengal  Public/Govt   \n",
       "545  Not Mentioned   South 24 Parganas     West Bengal  Public/Govt   \n",
       "546  Not Mentioned             Kolkata     West Bengal  Public/Govt   \n",
       "548  Not Mentioned      North Dinajpur     West Bengal  Public/Govt   \n",
       "549  Not Mentioned            Dehradun     Uttarakhand      Private   \n",
       "\n",
       "             Fees  BTech_Courses  MTech_Courses  \n",
       "100   ₹2.79 Lakhs              9            113  \n",
       "300     ₹12 Lakhs              9              0  \n",
       "301   ₹1.40 Lakhs              5              3  \n",
       "302           nan              7              0  \n",
       "303   ₹6.18 Lakhs              4              0  \n",
       "304   ₹1.33 Lakhs              3              0  \n",
       "305   ₹3.96 Lakhs              6              0  \n",
       "306  ₹22.32 Lakhs              8             13  \n",
       "307   ₹4.36 Lakhs              5              4  \n",
       "308           nan              2              0  \n",
       "538   ₹1.46 Lakhs             11              0  \n",
       "540           nan             11              0  \n",
       "541           nan             11              0  \n",
       "542    0.27 Lakhs             11              0  \n",
       "544           nan             11              0  \n",
       "545           nan             11              0  \n",
       "546           nan             11              0  \n",
       "548           nan             11              0  \n",
       "549   ₹1.85 Lakhs             11              0  "
      ]
     },
     "execution_count": 35,
     "metadata": {},
     "output_type": "execute_result"
    }
   ],
   "source": [
    "df[df.duplicated()]"
   ]
  },
  {
   "cell_type": "code",
   "execution_count": 36,
   "id": "c46796ac-5dfe-4c5d-bfb5-7dc33720aa2e",
   "metadata": {},
   "outputs": [
    {
     "data": {
      "text/plain": [
       "531"
      ]
     },
     "execution_count": 36,
     "metadata": {},
     "output_type": "execute_result"
    }
   ],
   "source": [
    "df[\"Colleges\"].nunique()"
   ]
  },
  {
   "cell_type": "code",
   "execution_count": 37,
   "id": "133bb702-8407-47cc-a192-eba175288ef5",
   "metadata": {},
   "outputs": [],
   "source": [
    "df = df.drop_duplicates()"
   ]
  },
  {
   "cell_type": "code",
   "execution_count": 38,
   "id": "1e79b942-7ee1-4f02-a748-0622fee7ac26",
   "metadata": {},
   "outputs": [
    {
     "data": {
      "text/plain": [
       "(531, 10)"
      ]
     },
     "execution_count": 38,
     "metadata": {},
     "output_type": "execute_result"
    }
   ],
   "source": [
    "df.shape"
   ]
  },
  {
   "cell_type": "markdown",
   "id": "fe2734d1-2328-457c-b617-4b72d47c5b24",
   "metadata": {},
   "source": [
    "## Fixing the NaN values of Fees with Average fees for engineering colleges"
   ]
  },
  {
   "cell_type": "code",
   "execution_count": 40,
   "id": "cdefcfd2-bab4-4b3a-b9a1-23b01b7cbada",
   "metadata": {},
   "outputs": [],
   "source": [
    "# Convert Fees column to float dtype\n",
    "\n",
    "def convert_fees_to_float(fee):\n",
    "    # Remove the currency symbol and \"Lakhs\", then convert to float\n",
    "    return float(fee.replace('₹', '').replace(' Lakhs', '').strip())\n",
    "\n",
    "# Apply the conversion\n",
    "df['Fees'] = df['Fees'].apply(convert_fees_to_float)"
   ]
  },
  {
   "cell_type": "code",
   "execution_count": 41,
   "id": "6c7ce237-fb3b-4cc5-bb0f-767eb2ec7cd6",
   "metadata": {},
   "outputs": [
    {
     "data": {
      "text/plain": [
       "dtype('float64')"
      ]
     },
     "execution_count": 41,
     "metadata": {},
     "output_type": "execute_result"
    }
   ],
   "source": [
    "df['Fees'].dtype"
   ]
  },
  {
   "cell_type": "code",
   "execution_count": 42,
   "id": "b97a9e22-6aa0-4074-8f6f-85410f70bef2",
   "metadata": {},
   "outputs": [
    {
     "data": {
      "text/plain": [
       "5.94"
      ]
     },
     "execution_count": 42,
     "metadata": {},
     "output_type": "execute_result"
    }
   ],
   "source": [
    "round(df['Fees'].mean(),2)"
   ]
  },
  {
   "cell_type": "code",
   "execution_count": 43,
   "id": "2114a9e8-c547-4cf2-be54-cb5ba0426d4e",
   "metadata": {},
   "outputs": [],
   "source": [
    "# Replace all NaN values with 5.94 lakh fees\n",
    "\n",
    "df['Fees'].fillna(df['Fees'].mean(), inplace=True)"
   ]
  },
  {
   "cell_type": "code",
   "execution_count": 44,
   "id": "55acdc4f-498f-4bbe-80a6-2b25e88b2a1a",
   "metadata": {},
   "outputs": [
    {
     "data": {
      "text/html": [
       "<div>\n",
       "<style scoped>\n",
       "    .dataframe tbody tr th:only-of-type {\n",
       "        vertical-align: middle;\n",
       "    }\n",
       "\n",
       "    .dataframe tbody tr th {\n",
       "        vertical-align: top;\n",
       "    }\n",
       "\n",
       "    .dataframe thead th {\n",
       "        text-align: right;\n",
       "    }\n",
       "</style>\n",
       "<table border=\"1\" class=\"dataframe\">\n",
       "  <thead>\n",
       "    <tr style=\"text-align: right;\">\n",
       "      <th></th>\n",
       "      <th>Colleges</th>\n",
       "      <th>Rating</th>\n",
       "      <th>Reviews</th>\n",
       "      <th>NIRF_Ranking</th>\n",
       "      <th>City</th>\n",
       "      <th>State</th>\n",
       "      <th>Ownership</th>\n",
       "      <th>Fees</th>\n",
       "      <th>BTech_Courses</th>\n",
       "      <th>MTech_Courses</th>\n",
       "    </tr>\n",
       "  </thead>\n",
       "  <tbody>\n",
       "    <tr>\n",
       "      <th>0</th>\n",
       "      <td>IIT Madras - Indian Institute of Technology Ma...</td>\n",
       "      <td>4.7</td>\n",
       "      <td>114</td>\n",
       "      <td>1</td>\n",
       "      <td>Chennai</td>\n",
       "      <td>Tamil Nadu</td>\n",
       "      <td>Public/Govt</td>\n",
       "      <td>8.58000</td>\n",
       "      <td>11</td>\n",
       "      <td>30</td>\n",
       "    </tr>\n",
       "    <tr>\n",
       "      <th>1</th>\n",
       "      <td>IIT Delhi - Indian Institute of Technology Delhi</td>\n",
       "      <td>4.6</td>\n",
       "      <td>265</td>\n",
       "      <td>2</td>\n",
       "      <td>New Delhi</td>\n",
       "      <td>Delhi</td>\n",
       "      <td>Public/Govt</td>\n",
       "      <td>8.58000</td>\n",
       "      <td>14</td>\n",
       "      <td>48</td>\n",
       "    </tr>\n",
       "    <tr>\n",
       "      <th>2</th>\n",
       "      <td>IIT Bombay - Indian Institute of Technology Bo...</td>\n",
       "      <td>4.6</td>\n",
       "      <td>161</td>\n",
       "      <td>3</td>\n",
       "      <td>Mumbai</td>\n",
       "      <td>Maharashtra</td>\n",
       "      <td>Public/Govt</td>\n",
       "      <td>8.69000</td>\n",
       "      <td>11</td>\n",
       "      <td>42</td>\n",
       "    </tr>\n",
       "    <tr>\n",
       "      <th>3</th>\n",
       "      <td>IIT Kanpur - Indian Institute of Technology Ka...</td>\n",
       "      <td>4.4</td>\n",
       "      <td>156</td>\n",
       "      <td>4</td>\n",
       "      <td>Kanpur</td>\n",
       "      <td>Uttar Pradesh</td>\n",
       "      <td>Public/Govt</td>\n",
       "      <td>11.67000</td>\n",
       "      <td>9</td>\n",
       "      <td>40</td>\n",
       "    </tr>\n",
       "    <tr>\n",
       "      <th>4</th>\n",
       "      <td>IIT Kharagpur - Indian Institute of Technology...</td>\n",
       "      <td>4.7</td>\n",
       "      <td>323</td>\n",
       "      <td>5</td>\n",
       "      <td>Kharagpur</td>\n",
       "      <td>West Bengal</td>\n",
       "      <td>Public/Govt</td>\n",
       "      <td>10.42000</td>\n",
       "      <td>16</td>\n",
       "      <td>62</td>\n",
       "    </tr>\n",
       "    <tr>\n",
       "      <th>5</th>\n",
       "      <td>IIT Roorkee - Indian Institute of Technology R...</td>\n",
       "      <td>4.4</td>\n",
       "      <td>407</td>\n",
       "      <td>6</td>\n",
       "      <td>Roorkee</td>\n",
       "      <td>Uttarakhand</td>\n",
       "      <td>Public/Govt</td>\n",
       "      <td>8.90000</td>\n",
       "      <td>13</td>\n",
       "      <td>54</td>\n",
       "    </tr>\n",
       "    <tr>\n",
       "      <th>6</th>\n",
       "      <td>IIT Guwahati (IITG) - Indian Institute of Tech...</td>\n",
       "      <td>4.3</td>\n",
       "      <td>186</td>\n",
       "      <td>7</td>\n",
       "      <td>Guwahati</td>\n",
       "      <td>Assam</td>\n",
       "      <td>Public/Govt</td>\n",
       "      <td>11.99000</td>\n",
       "      <td>12</td>\n",
       "      <td>28</td>\n",
       "    </tr>\n",
       "    <tr>\n",
       "      <th>7</th>\n",
       "      <td>IIT Hyderabad - Indian Institute of Technology...</td>\n",
       "      <td>4.6</td>\n",
       "      <td>27</td>\n",
       "      <td>8</td>\n",
       "      <td>Hyderabad</td>\n",
       "      <td>Telangana</td>\n",
       "      <td>Public/Govt</td>\n",
       "      <td>9.08000</td>\n",
       "      <td>15</td>\n",
       "      <td>38</td>\n",
       "    </tr>\n",
       "    <tr>\n",
       "      <th>8</th>\n",
       "      <td>NIT Trichy - National Institute of Technology ...</td>\n",
       "      <td>4.4</td>\n",
       "      <td>304</td>\n",
       "      <td>9</td>\n",
       "      <td>Tiruchirappalli</td>\n",
       "      <td>Tamil Nadu</td>\n",
       "      <td>Public/Govt</td>\n",
       "      <td>6.30000</td>\n",
       "      <td>9</td>\n",
       "      <td>23</td>\n",
       "    </tr>\n",
       "    <tr>\n",
       "      <th>9</th>\n",
       "      <td>IIT BHU - Indian Institute of Technology Banar...</td>\n",
       "      <td>4.6</td>\n",
       "      <td>160</td>\n",
       "      <td>10</td>\n",
       "      <td>Varanasi</td>\n",
       "      <td>Uttar Pradesh</td>\n",
       "      <td>Public/Govt</td>\n",
       "      <td>8.58000</td>\n",
       "      <td>9</td>\n",
       "      <td>34</td>\n",
       "    </tr>\n",
       "    <tr>\n",
       "      <th>10</th>\n",
       "      <td>VIT Vellore - Vellore Institute of Technology,...</td>\n",
       "      <td>4.4</td>\n",
       "      <td>787</td>\n",
       "      <td>11</td>\n",
       "      <td>Vellore</td>\n",
       "      <td>Tamil Nadu</td>\n",
       "      <td>Private</td>\n",
       "      <td>5.94388</td>\n",
       "      <td>15</td>\n",
       "      <td>23</td>\n",
       "    </tr>\n",
       "    <tr>\n",
       "      <th>11</th>\n",
       "      <td>Jadavpur University, Kolkata</td>\n",
       "      <td>4.6</td>\n",
       "      <td>222</td>\n",
       "      <td>12</td>\n",
       "      <td>Kolkata</td>\n",
       "      <td>West Bengal</td>\n",
       "      <td>Public/Govt</td>\n",
       "      <td>5.94388</td>\n",
       "      <td>18</td>\n",
       "      <td>34</td>\n",
       "    </tr>\n",
       "    <tr>\n",
       "      <th>12</th>\n",
       "      <td>SRM University Chennai - SRM Institute of Scie...</td>\n",
       "      <td>4.3</td>\n",
       "      <td>727</td>\n",
       "      <td>13</td>\n",
       "      <td>Chennai</td>\n",
       "      <td>Tamil Nadu</td>\n",
       "      <td>Private</td>\n",
       "      <td>11.00000</td>\n",
       "      <td>54</td>\n",
       "      <td>34</td>\n",
       "    </tr>\n",
       "    <tr>\n",
       "      <th>13</th>\n",
       "      <td>Anna University, Chennai</td>\n",
       "      <td>4.8</td>\n",
       "      <td>43</td>\n",
       "      <td>14</td>\n",
       "      <td>Chennai</td>\n",
       "      <td>Tamil Nadu</td>\n",
       "      <td>Public/Govt</td>\n",
       "      <td>2.20000</td>\n",
       "      <td>8</td>\n",
       "      <td>44</td>\n",
       "    </tr>\n",
       "    <tr>\n",
       "      <th>14</th>\n",
       "      <td>IIT (ISM) Dhanbad - Indian Institute of Techno...</td>\n",
       "      <td>4.3</td>\n",
       "      <td>190</td>\n",
       "      <td>15</td>\n",
       "      <td>Dhanbad</td>\n",
       "      <td>Jharkhand</td>\n",
       "      <td>Public/Govt</td>\n",
       "      <td>10.95000</td>\n",
       "      <td>13</td>\n",
       "      <td>19</td>\n",
       "    </tr>\n",
       "  </tbody>\n",
       "</table>\n",
       "</div>"
      ],
      "text/plain": [
       "                                             Colleges  Rating  Reviews  \\\n",
       "0   IIT Madras - Indian Institute of Technology Ma...     4.7      114   \n",
       "1    IIT Delhi - Indian Institute of Technology Delhi     4.6      265   \n",
       "2   IIT Bombay - Indian Institute of Technology Bo...     4.6      161   \n",
       "3   IIT Kanpur - Indian Institute of Technology Ka...     4.4      156   \n",
       "4   IIT Kharagpur - Indian Institute of Technology...     4.7      323   \n",
       "5   IIT Roorkee - Indian Institute of Technology R...     4.4      407   \n",
       "6   IIT Guwahati (IITG) - Indian Institute of Tech...     4.3      186   \n",
       "7   IIT Hyderabad - Indian Institute of Technology...     4.6       27   \n",
       "8   NIT Trichy - National Institute of Technology ...     4.4      304   \n",
       "9   IIT BHU - Indian Institute of Technology Banar...     4.6      160   \n",
       "10  VIT Vellore - Vellore Institute of Technology,...     4.4      787   \n",
       "11                       Jadavpur University, Kolkata     4.6      222   \n",
       "12  SRM University Chennai - SRM Institute of Scie...     4.3      727   \n",
       "13                           Anna University, Chennai     4.8       43   \n",
       "14  IIT (ISM) Dhanbad - Indian Institute of Techno...     4.3      190   \n",
       "\n",
       "   NIRF_Ranking              City          State    Ownership      Fees  \\\n",
       "0             1           Chennai     Tamil Nadu  Public/Govt   8.58000   \n",
       "1             2         New Delhi          Delhi  Public/Govt   8.58000   \n",
       "2             3            Mumbai    Maharashtra  Public/Govt   8.69000   \n",
       "3             4            Kanpur  Uttar Pradesh  Public/Govt  11.67000   \n",
       "4             5         Kharagpur    West Bengal  Public/Govt  10.42000   \n",
       "5             6           Roorkee    Uttarakhand  Public/Govt   8.90000   \n",
       "6             7          Guwahati          Assam  Public/Govt  11.99000   \n",
       "7             8         Hyderabad      Telangana  Public/Govt   9.08000   \n",
       "8             9   Tiruchirappalli     Tamil Nadu  Public/Govt   6.30000   \n",
       "9            10          Varanasi  Uttar Pradesh  Public/Govt   8.58000   \n",
       "10           11           Vellore     Tamil Nadu      Private   5.94388   \n",
       "11           12           Kolkata    West Bengal  Public/Govt   5.94388   \n",
       "12           13           Chennai     Tamil Nadu      Private  11.00000   \n",
       "13           14           Chennai     Tamil Nadu  Public/Govt   2.20000   \n",
       "14           15           Dhanbad      Jharkhand  Public/Govt  10.95000   \n",
       "\n",
       "    BTech_Courses  MTech_Courses  \n",
       "0              11             30  \n",
       "1              14             48  \n",
       "2              11             42  \n",
       "3               9             40  \n",
       "4              16             62  \n",
       "5              13             54  \n",
       "6              12             28  \n",
       "7              15             38  \n",
       "8               9             23  \n",
       "9               9             34  \n",
       "10             15             23  \n",
       "11             18             34  \n",
       "12             54             34  \n",
       "13              8             44  \n",
       "14             13             19  "
      ]
     },
     "execution_count": 44,
     "metadata": {},
     "output_type": "execute_result"
    }
   ],
   "source": [
    "df.head(15)"
   ]
  },
  {
   "cell_type": "code",
   "execution_count": 45,
   "id": "2a427143-7544-4140-938d-013b9dae8c47",
   "metadata": {},
   "outputs": [],
   "source": [
    "df[\"Fees\"] = df[\"Fees\"].round(2)"
   ]
  },
  {
   "cell_type": "code",
   "execution_count": 46,
   "id": "125b9175-3344-4f78-9964-870f620258b8",
   "metadata": {},
   "outputs": [
    {
     "data": {
      "text/html": [
       "<div>\n",
       "<style scoped>\n",
       "    .dataframe tbody tr th:only-of-type {\n",
       "        vertical-align: middle;\n",
       "    }\n",
       "\n",
       "    .dataframe tbody tr th {\n",
       "        vertical-align: top;\n",
       "    }\n",
       "\n",
       "    .dataframe thead th {\n",
       "        text-align: right;\n",
       "    }\n",
       "</style>\n",
       "<table border=\"1\" class=\"dataframe\">\n",
       "  <thead>\n",
       "    <tr style=\"text-align: right;\">\n",
       "      <th></th>\n",
       "      <th>Colleges</th>\n",
       "      <th>Rating</th>\n",
       "      <th>Reviews</th>\n",
       "      <th>NIRF_Ranking</th>\n",
       "      <th>City</th>\n",
       "      <th>State</th>\n",
       "      <th>Ownership</th>\n",
       "      <th>Fees</th>\n",
       "      <th>BTech_Courses</th>\n",
       "      <th>MTech_Courses</th>\n",
       "    </tr>\n",
       "  </thead>\n",
       "  <tbody>\n",
       "    <tr>\n",
       "      <th>0</th>\n",
       "      <td>IIT Madras - Indian Institute of Technology Ma...</td>\n",
       "      <td>4.7</td>\n",
       "      <td>114</td>\n",
       "      <td>1</td>\n",
       "      <td>Chennai</td>\n",
       "      <td>Tamil Nadu</td>\n",
       "      <td>Public/Govt</td>\n",
       "      <td>8.58</td>\n",
       "      <td>11</td>\n",
       "      <td>30</td>\n",
       "    </tr>\n",
       "    <tr>\n",
       "      <th>1</th>\n",
       "      <td>IIT Delhi - Indian Institute of Technology Delhi</td>\n",
       "      <td>4.6</td>\n",
       "      <td>265</td>\n",
       "      <td>2</td>\n",
       "      <td>New Delhi</td>\n",
       "      <td>Delhi</td>\n",
       "      <td>Public/Govt</td>\n",
       "      <td>8.58</td>\n",
       "      <td>14</td>\n",
       "      <td>48</td>\n",
       "    </tr>\n",
       "    <tr>\n",
       "      <th>2</th>\n",
       "      <td>IIT Bombay - Indian Institute of Technology Bo...</td>\n",
       "      <td>4.6</td>\n",
       "      <td>161</td>\n",
       "      <td>3</td>\n",
       "      <td>Mumbai</td>\n",
       "      <td>Maharashtra</td>\n",
       "      <td>Public/Govt</td>\n",
       "      <td>8.69</td>\n",
       "      <td>11</td>\n",
       "      <td>42</td>\n",
       "    </tr>\n",
       "    <tr>\n",
       "      <th>3</th>\n",
       "      <td>IIT Kanpur - Indian Institute of Technology Ka...</td>\n",
       "      <td>4.4</td>\n",
       "      <td>156</td>\n",
       "      <td>4</td>\n",
       "      <td>Kanpur</td>\n",
       "      <td>Uttar Pradesh</td>\n",
       "      <td>Public/Govt</td>\n",
       "      <td>11.67</td>\n",
       "      <td>9</td>\n",
       "      <td>40</td>\n",
       "    </tr>\n",
       "    <tr>\n",
       "      <th>4</th>\n",
       "      <td>IIT Kharagpur - Indian Institute of Technology...</td>\n",
       "      <td>4.7</td>\n",
       "      <td>323</td>\n",
       "      <td>5</td>\n",
       "      <td>Kharagpur</td>\n",
       "      <td>West Bengal</td>\n",
       "      <td>Public/Govt</td>\n",
       "      <td>10.42</td>\n",
       "      <td>16</td>\n",
       "      <td>62</td>\n",
       "    </tr>\n",
       "  </tbody>\n",
       "</table>\n",
       "</div>"
      ],
      "text/plain": [
       "                                            Colleges  Rating  Reviews  \\\n",
       "0  IIT Madras - Indian Institute of Technology Ma...     4.7      114   \n",
       "1   IIT Delhi - Indian Institute of Technology Delhi     4.6      265   \n",
       "2  IIT Bombay - Indian Institute of Technology Bo...     4.6      161   \n",
       "3  IIT Kanpur - Indian Institute of Technology Ka...     4.4      156   \n",
       "4  IIT Kharagpur - Indian Institute of Technology...     4.7      323   \n",
       "\n",
       "  NIRF_Ranking        City          State    Ownership   Fees  BTech_Courses  \\\n",
       "0            1     Chennai     Tamil Nadu  Public/Govt   8.58             11   \n",
       "1            2   New Delhi          Delhi  Public/Govt   8.58             14   \n",
       "2            3      Mumbai    Maharashtra  Public/Govt   8.69             11   \n",
       "3            4      Kanpur  Uttar Pradesh  Public/Govt  11.67              9   \n",
       "4            5   Kharagpur    West Bengal  Public/Govt  10.42             16   \n",
       "\n",
       "   MTech_Courses  \n",
       "0             30  \n",
       "1             48  \n",
       "2             42  \n",
       "3             40  \n",
       "4             62  "
      ]
     },
     "execution_count": 46,
     "metadata": {},
     "output_type": "execute_result"
    }
   ],
   "source": [
    "df.head()"
   ]
  },
  {
   "cell_type": "markdown",
   "id": "061e0fa2-b6e7-4a38-8543-8287d3347f4f",
   "metadata": {},
   "source": [
    "## Changing The Column Name "
   ]
  },
  {
   "cell_type": "code",
   "execution_count": 48,
   "id": "2bcb67df-7fcf-42ad-af4e-3d1706973fb6",
   "metadata": {},
   "outputs": [
    {
     "data": {
      "text/plain": [
       "Index(['Colleges', 'Rating', 'Reviews', 'NIRF_Ranking', 'City', 'State',\n",
       "       'Ownership', 'Fees', 'BTech_Courses', 'MTech_Courses'],\n",
       "      dtype='object')"
      ]
     },
     "execution_count": 48,
     "metadata": {},
     "output_type": "execute_result"
    }
   ],
   "source": [
    "df.columns"
   ]
  },
  {
   "cell_type": "code",
   "execution_count": 49,
   "id": "4885f239-9a8d-4478-a972-87aa9c25d060",
   "metadata": {},
   "outputs": [],
   "source": [
    "df.rename(columns={'Fees': 'Fees_in_lakhs'}, inplace=True)"
   ]
  },
  {
   "cell_type": "code",
   "execution_count": 50,
   "id": "ab8407e3-7ba9-414c-84c3-bff4b9b616f9",
   "metadata": {},
   "outputs": [
    {
     "data": {
      "text/html": [
       "<div>\n",
       "<style scoped>\n",
       "    .dataframe tbody tr th:only-of-type {\n",
       "        vertical-align: middle;\n",
       "    }\n",
       "\n",
       "    .dataframe tbody tr th {\n",
       "        vertical-align: top;\n",
       "    }\n",
       "\n",
       "    .dataframe thead th {\n",
       "        text-align: right;\n",
       "    }\n",
       "</style>\n",
       "<table border=\"1\" class=\"dataframe\">\n",
       "  <thead>\n",
       "    <tr style=\"text-align: right;\">\n",
       "      <th></th>\n",
       "      <th>Colleges</th>\n",
       "      <th>Rating</th>\n",
       "      <th>Reviews</th>\n",
       "      <th>NIRF_Ranking</th>\n",
       "      <th>City</th>\n",
       "      <th>State</th>\n",
       "      <th>Ownership</th>\n",
       "      <th>Fees_in_lakhs</th>\n",
       "      <th>BTech_Courses</th>\n",
       "      <th>MTech_Courses</th>\n",
       "    </tr>\n",
       "  </thead>\n",
       "  <tbody>\n",
       "    <tr>\n",
       "      <th>0</th>\n",
       "      <td>IIT Madras - Indian Institute of Technology Ma...</td>\n",
       "      <td>4.7</td>\n",
       "      <td>114</td>\n",
       "      <td>1</td>\n",
       "      <td>Chennai</td>\n",
       "      <td>Tamil Nadu</td>\n",
       "      <td>Public/Govt</td>\n",
       "      <td>8.58</td>\n",
       "      <td>11</td>\n",
       "      <td>30</td>\n",
       "    </tr>\n",
       "    <tr>\n",
       "      <th>1</th>\n",
       "      <td>IIT Delhi - Indian Institute of Technology Delhi</td>\n",
       "      <td>4.6</td>\n",
       "      <td>265</td>\n",
       "      <td>2</td>\n",
       "      <td>New Delhi</td>\n",
       "      <td>Delhi</td>\n",
       "      <td>Public/Govt</td>\n",
       "      <td>8.58</td>\n",
       "      <td>14</td>\n",
       "      <td>48</td>\n",
       "    </tr>\n",
       "    <tr>\n",
       "      <th>2</th>\n",
       "      <td>IIT Bombay - Indian Institute of Technology Bo...</td>\n",
       "      <td>4.6</td>\n",
       "      <td>161</td>\n",
       "      <td>3</td>\n",
       "      <td>Mumbai</td>\n",
       "      <td>Maharashtra</td>\n",
       "      <td>Public/Govt</td>\n",
       "      <td>8.69</td>\n",
       "      <td>11</td>\n",
       "      <td>42</td>\n",
       "    </tr>\n",
       "    <tr>\n",
       "      <th>3</th>\n",
       "      <td>IIT Kanpur - Indian Institute of Technology Ka...</td>\n",
       "      <td>4.4</td>\n",
       "      <td>156</td>\n",
       "      <td>4</td>\n",
       "      <td>Kanpur</td>\n",
       "      <td>Uttar Pradesh</td>\n",
       "      <td>Public/Govt</td>\n",
       "      <td>11.67</td>\n",
       "      <td>9</td>\n",
       "      <td>40</td>\n",
       "    </tr>\n",
       "    <tr>\n",
       "      <th>4</th>\n",
       "      <td>IIT Kharagpur - Indian Institute of Technology...</td>\n",
       "      <td>4.7</td>\n",
       "      <td>323</td>\n",
       "      <td>5</td>\n",
       "      <td>Kharagpur</td>\n",
       "      <td>West Bengal</td>\n",
       "      <td>Public/Govt</td>\n",
       "      <td>10.42</td>\n",
       "      <td>16</td>\n",
       "      <td>62</td>\n",
       "    </tr>\n",
       "  </tbody>\n",
       "</table>\n",
       "</div>"
      ],
      "text/plain": [
       "                                            Colleges  Rating  Reviews  \\\n",
       "0  IIT Madras - Indian Institute of Technology Ma...     4.7      114   \n",
       "1   IIT Delhi - Indian Institute of Technology Delhi     4.6      265   \n",
       "2  IIT Bombay - Indian Institute of Technology Bo...     4.6      161   \n",
       "3  IIT Kanpur - Indian Institute of Technology Ka...     4.4      156   \n",
       "4  IIT Kharagpur - Indian Institute of Technology...     4.7      323   \n",
       "\n",
       "  NIRF_Ranking        City          State    Ownership  Fees_in_lakhs  \\\n",
       "0            1     Chennai     Tamil Nadu  Public/Govt           8.58   \n",
       "1            2   New Delhi          Delhi  Public/Govt           8.58   \n",
       "2            3      Mumbai    Maharashtra  Public/Govt           8.69   \n",
       "3            4      Kanpur  Uttar Pradesh  Public/Govt          11.67   \n",
       "4            5   Kharagpur    West Bengal  Public/Govt          10.42   \n",
       "\n",
       "   BTech_Courses  MTech_Courses  \n",
       "0             11             30  \n",
       "1             14             48  \n",
       "2             11             42  \n",
       "3              9             40  \n",
       "4             16             62  "
      ]
     },
     "execution_count": 50,
     "metadata": {},
     "output_type": "execute_result"
    }
   ],
   "source": [
    "df.head()"
   ]
  },
  {
   "cell_type": "markdown",
   "id": "d519e9ce-4661-46e3-9944-464eaad9ceae",
   "metadata": {},
   "source": [
    "## Numerical columns and Categorical columns"
   ]
  },
  {
   "cell_type": "code",
   "execution_count": 97,
   "id": "fb9b16d9-8ac1-4a67-9af8-ca6b0c0fc46d",
   "metadata": {},
   "outputs": [
    {
     "data": {
      "text/html": [
       "<div>\n",
       "<style scoped>\n",
       "    .dataframe tbody tr th:only-of-type {\n",
       "        vertical-align: middle;\n",
       "    }\n",
       "\n",
       "    .dataframe tbody tr th {\n",
       "        vertical-align: top;\n",
       "    }\n",
       "\n",
       "    .dataframe thead th {\n",
       "        text-align: right;\n",
       "    }\n",
       "</style>\n",
       "<table border=\"1\" class=\"dataframe\">\n",
       "  <thead>\n",
       "    <tr style=\"text-align: right;\">\n",
       "      <th></th>\n",
       "      <th>Rating</th>\n",
       "      <th>Reviews</th>\n",
       "      <th>Fees_in_lakhs</th>\n",
       "      <th>BTech_Courses</th>\n",
       "      <th>MTech_Courses</th>\n",
       "    </tr>\n",
       "  </thead>\n",
       "  <tbody>\n",
       "    <tr>\n",
       "      <th>0</th>\n",
       "      <td>4.7</td>\n",
       "      <td>114</td>\n",
       "      <td>8.58</td>\n",
       "      <td>11</td>\n",
       "      <td>30</td>\n",
       "    </tr>\n",
       "    <tr>\n",
       "      <th>1</th>\n",
       "      <td>4.6</td>\n",
       "      <td>265</td>\n",
       "      <td>8.58</td>\n",
       "      <td>14</td>\n",
       "      <td>48</td>\n",
       "    </tr>\n",
       "    <tr>\n",
       "      <th>2</th>\n",
       "      <td>4.6</td>\n",
       "      <td>161</td>\n",
       "      <td>8.69</td>\n",
       "      <td>11</td>\n",
       "      <td>42</td>\n",
       "    </tr>\n",
       "    <tr>\n",
       "      <th>3</th>\n",
       "      <td>4.4</td>\n",
       "      <td>156</td>\n",
       "      <td>11.67</td>\n",
       "      <td>9</td>\n",
       "      <td>40</td>\n",
       "    </tr>\n",
       "    <tr>\n",
       "      <th>4</th>\n",
       "      <td>4.7</td>\n",
       "      <td>323</td>\n",
       "      <td>10.42</td>\n",
       "      <td>16</td>\n",
       "      <td>62</td>\n",
       "    </tr>\n",
       "  </tbody>\n",
       "</table>\n",
       "</div>"
      ],
      "text/plain": [
       "   Rating  Reviews  Fees_in_lakhs  BTech_Courses  MTech_Courses\n",
       "0     4.7      114           8.58             11             30\n",
       "1     4.6      265           8.58             14             48\n",
       "2     4.6      161           8.69             11             42\n",
       "3     4.4      156          11.67              9             40\n",
       "4     4.7      323          10.42             16             62"
      ]
     },
     "execution_count": 97,
     "metadata": {},
     "output_type": "execute_result"
    },
    {
     "name": "stdout",
     "output_type": "stream",
     "text": [
      "5\n",
      "Index(['Rating', 'Reviews', 'Fees_in_lakhs', 'BTech_Courses', 'MTech_Courses'], dtype='object')\n"
     ]
    }
   ],
   "source": [
    "# Extract numeric columns from DF\n",
    "df.select_dtypes(\"number\").head() \n",
    "\n",
    "num_cols = df.select_dtypes(\"number\").columns \n",
    "print(len(num_cols), num_cols, sep = \"\\n\") "
   ]
  },
  {
   "cell_type": "code",
   "execution_count": 101,
   "id": "b3198f7d-a10b-449b-bb1a-a8c63ae99c23",
   "metadata": {},
   "outputs": [
    {
     "data": {
      "text/html": [
       "<div>\n",
       "<style scoped>\n",
       "    .dataframe tbody tr th:only-of-type {\n",
       "        vertical-align: middle;\n",
       "    }\n",
       "\n",
       "    .dataframe tbody tr th {\n",
       "        vertical-align: top;\n",
       "    }\n",
       "\n",
       "    .dataframe thead th {\n",
       "        text-align: right;\n",
       "    }\n",
       "</style>\n",
       "<table border=\"1\" class=\"dataframe\">\n",
       "  <thead>\n",
       "    <tr style=\"text-align: right;\">\n",
       "      <th></th>\n",
       "      <th>Colleges</th>\n",
       "      <th>NIRF_Ranking</th>\n",
       "      <th>City</th>\n",
       "      <th>State</th>\n",
       "      <th>Ownership</th>\n",
       "    </tr>\n",
       "  </thead>\n",
       "  <tbody>\n",
       "    <tr>\n",
       "      <th>0</th>\n",
       "      <td>IIT Madras - Indian Institute of Technology Ma...</td>\n",
       "      <td>1</td>\n",
       "      <td>Chennai</td>\n",
       "      <td>Tamil Nadu</td>\n",
       "      <td>Public/Govt</td>\n",
       "    </tr>\n",
       "    <tr>\n",
       "      <th>1</th>\n",
       "      <td>IIT Delhi - Indian Institute of Technology Delhi</td>\n",
       "      <td>2</td>\n",
       "      <td>New Delhi</td>\n",
       "      <td>Delhi</td>\n",
       "      <td>Public/Govt</td>\n",
       "    </tr>\n",
       "    <tr>\n",
       "      <th>2</th>\n",
       "      <td>IIT Bombay - Indian Institute of Technology Bo...</td>\n",
       "      <td>3</td>\n",
       "      <td>Mumbai</td>\n",
       "      <td>Maharashtra</td>\n",
       "      <td>Public/Govt</td>\n",
       "    </tr>\n",
       "    <tr>\n",
       "      <th>3</th>\n",
       "      <td>IIT Kanpur - Indian Institute of Technology Ka...</td>\n",
       "      <td>4</td>\n",
       "      <td>Kanpur</td>\n",
       "      <td>Uttar Pradesh</td>\n",
       "      <td>Public/Govt</td>\n",
       "    </tr>\n",
       "    <tr>\n",
       "      <th>4</th>\n",
       "      <td>IIT Kharagpur - Indian Institute of Technology...</td>\n",
       "      <td>5</td>\n",
       "      <td>Kharagpur</td>\n",
       "      <td>West Bengal</td>\n",
       "      <td>Public/Govt</td>\n",
       "    </tr>\n",
       "  </tbody>\n",
       "</table>\n",
       "</div>"
      ],
      "text/plain": [
       "                                            Colleges NIRF_Ranking        City  \\\n",
       "0  IIT Madras - Indian Institute of Technology Ma...            1     Chennai   \n",
       "1   IIT Delhi - Indian Institute of Technology Delhi            2   New Delhi   \n",
       "2  IIT Bombay - Indian Institute of Technology Bo...            3      Mumbai   \n",
       "3  IIT Kanpur - Indian Institute of Technology Ka...            4      Kanpur   \n",
       "4  IIT Kharagpur - Indian Institute of Technology...            5   Kharagpur   \n",
       "\n",
       "           State    Ownership  \n",
       "0     Tamil Nadu  Public/Govt  \n",
       "1          Delhi  Public/Govt  \n",
       "2    Maharashtra  Public/Govt  \n",
       "3  Uttar Pradesh  Public/Govt  \n",
       "4    West Bengal  Public/Govt  "
      ]
     },
     "execution_count": 101,
     "metadata": {},
     "output_type": "execute_result"
    },
    {
     "name": "stdout",
     "output_type": "stream",
     "text": [
      "5\n",
      "Index(['Colleges', 'NIRF_Ranking', 'City', 'State', 'Ownership'], dtype='object')\n"
     ]
    }
   ],
   "source": [
    "# Extract categorical columns from DF\n",
    "df.select_dtypes(exclude=\"number\").head() \n",
    "\n",
    "cat_cols = df.select_dtypes(exclude=\"number\").columns \n",
    "print(len(cat_cols), cat_cols, sep = \"\\n\") "
   ]
  },
  {
   "cell_type": "markdown",
   "id": "b27e61b3-1e57-438f-aed6-4c0ce49f329b",
   "metadata": {},
   "source": [
    "# Data visualization"
   ]
  },
  {
   "cell_type": "markdown",
   "id": "9bde6077-3762-4b51-8467-d3b76755353b",
   "metadata": {},
   "source": [
    "## Univariate analysis"
   ]
  },
  {
   "cell_type": "markdown",
   "id": "1ea10547-0c58-46fb-bf05-9dfc2029c4aa",
   "metadata": {},
   "source": [
    "### Box plots of numerical columns"
   ]
  },
  {
   "cell_type": "code",
   "execution_count": 373,
   "id": "eb4b9bdd-fe28-4670-bbbf-ba301d6c359e",
   "metadata": {},
   "outputs": [
    {
     "data": {
      "image/png": "[encoded data removed]",
      "text/plain": [
       "<Figure size 1500x600 with 6 Axes>"
      ]
     },
     "metadata": {},
     "output_type": "display_data"
    }
   ],
   "source": [
    "df.select_dtypes(\"number\").head() \n",
    "\n",
    "num_cols = df.select_dtypes(\"number\").columns  \n",
    "\n",
    "fig, ax = plt.subplots(nrows=3, ncols=2, figsize = (15,6))\n",
    "\n",
    "# print(ax.flatten())\n",
    "pos_array = ax.flatten()\n",
    "\n",
    "for i in range(len(num_cols)):\n",
    "    sns.boxplot(data = df,x=num_cols[i], \n",
    "            ax = pos_array[i], palette=sns.color_palette(\"Dark2\"))\n",
    "\n",
    "plt.suptitle(\"Box Plots of Numerical columns\", fontsize = 20)\n",
    "plt.tight_layout()\n",
    "\n",
    "plt.savefig('Box_Plots_of_Numerical_columns.png', bbox_inches='tight')\n",
    "\n",
    "plt.show();"
   ]
  },
  {
   "cell_type": "markdown",
   "id": "5fa534fb-27e8-42d3-b3b7-cab4d1d8cbb2",
   "metadata": {},
   "source": [
    "#### Observation:\n",
    "\n",
    "- Majority of the Engineering Colleges which are rated ranges from 3.4 to 5 stars.\n",
    "- Reviews given on the website careers360 by people are less than 100 for any college.\n",
    "- Most of the Engineering colleges have fees around 5lakhs.\n",
    "- Each college offers on an average 10 Btech courses.\n",
    "- Some colleges offer in a range 0-12 MTech courses.  "
   ]
  },
  {
   "cell_type": "markdown",
   "id": "75475de1-90b6-4893-ace9-5ac4d129e904",
   "metadata": {},
   "source": [
    "### Count plots of Categorical columns"
   ]
  },
  {
   "cell_type": "code",
   "execution_count": 207,
   "id": "107063a9-c753-42df-9dc2-6788be950d01",
   "metadata": {},
   "outputs": [
    {
     "data": {
      "application/vnd.plotly.v1+json": {
       "config": {
        "plotlyServerURL": "https://plot.ly"
       },
       "data": [
        {
         "alignmentgroup": "True",
         "hovertemplate": "State=%{x}<br>Count=%{y}<extra></extra>",
         "legendgroup": "Tamil Nadu",
         "marker": {
          "color": "#636EFA",
          "pattern": {
           "shape": ""
          }
         },
         "name": "Tamil Nadu",
         "offsetgroup": "Tamil Nadu",
         "orientation": "v",
         "showlegend": true,
         "textposition": "auto",
         "type": "bar",
         "x": [
          "Tamil Nadu"
         ],
         "xaxis": "x",
         "y": [
          80
         ],
         "yaxis": "y"
        },
        {
         "alignmentgroup": "True",
         "hovertemplate": "State=%{x}<br>Count=%{y}<extra></extra>",
         "legendgroup": "Maharashtra",
         "marker": {
          "color": "#EF553B",
          "pattern": {
           "shape": ""
          }
         },
         "name": "Maharashtra",
         "offsetgroup": "Maharashtra",
         "orientation": "v",
         "showlegend": true,
         "textposition": "auto",
         "type": "bar",
         "x": [
          "Maharashtra"
         ],
         "xaxis": "x",
         "y": [
          54
         ],
         "yaxis": "y"
        },
        {
         "alignmentgroup": "True",
         "hovertemplate": "State=%{x}<br>Count=%{y}<extra></extra>",
         "legendgroup": "Uttar Pradesh",
         "marker": {
          "color": "#00CC96",
          "pattern": {
           "shape": ""
          }
         },
         "name": "Uttar Pradesh",
         "offsetgroup": "Uttar Pradesh",
         "orientation": "v",
         "showlegend": true,
         "textposition": "auto",
         "type": "bar",
         "x": [
          "Uttar Pradesh"
         ],
         "xaxis": "x",
         "y": [
          47
         ],
         "yaxis": "y"
        },
        {
         "alignmentgroup": "True",
         "hovertemplate": "State=%{x}<br>Count=%{y}<extra></extra>",
         "legendgroup": "Karnataka",
         "marker": {
          "color": "#AB63FA",
          "pattern": {
           "shape": ""
          }
         },
         "name": "Karnataka",
         "offsetgroup": "Karnataka",
         "orientation": "v",
         "showlegend": true,
         "textposition": "auto",
         "type": "bar",
         "x": [
          "Karnataka"
         ],
         "xaxis": "x",
         "y": [
          41
         ],
         "yaxis": "y"
        },
        {
         "alignmentgroup": "True",
         "hovertemplate": "State=%{x}<br>Count=%{y}<extra></extra>",
         "legendgroup": "Andhra Pradesh",
         "marker": {
          "color": "#FFA15A",
          "pattern": {
           "shape": ""
          }
         },
         "name": "Andhra Pradesh",
         "offsetgroup": "Andhra Pradesh",
         "orientation": "v",
         "showlegend": true,
         "textposition": "auto",
         "type": "bar",
         "x": [
          "Andhra Pradesh"
         ],
         "xaxis": "x",
         "y": [
          41
         ],
         "yaxis": "y"
        },
        {
         "alignmentgroup": "True",
         "hovertemplate": "State=%{x}<br>Count=%{y}<extra></extra>",
         "legendgroup": "Telangana",
         "marker": {
          "color": "#19D3F3",
          "pattern": {
           "shape": ""
          }
         },
         "name": "Telangana",
         "offsetgroup": "Telangana",
         "orientation": "v",
         "showlegend": true,
         "textposition": "auto",
         "type": "bar",
         "x": [
          "Telangana"
         ],
         "xaxis": "x",
         "y": [
          35
         ],
         "yaxis": "y"
        },
        {
         "alignmentgroup": "True",
         "hovertemplate": "State=%{x}<br>Count=%{y}<extra></extra>",
         "legendgroup": "Haryana",
         "marker": {
          "color": "#FF6692",
          "pattern": {
           "shape": ""
          }
         },
         "name": "Haryana",
         "offsetgroup": "Haryana",
         "orientation": "v",
         "showlegend": true,
         "textposition": "auto",
         "type": "bar",
         "x": [
          "Haryana"
         ],
         "xaxis": "x",
         "y": [
          34
         ],
         "yaxis": "y"
        },
        {
         "alignmentgroup": "True",
         "hovertemplate": "State=%{x}<br>Count=%{y}<extra></extra>",
         "legendgroup": "West Bengal",
         "marker": {
          "color": "#B6E880",
          "pattern": {
           "shape": ""
          }
         },
         "name": "West Bengal",
         "offsetgroup": "West Bengal",
         "orientation": "v",
         "showlegend": true,
         "textposition": "auto",
         "type": "bar",
         "x": [
          "West Bengal"
         ],
         "xaxis": "x",
         "y": [
          24
         ],
         "yaxis": "y"
        },
        {
         "alignmentgroup": "True",
         "hovertemplate": "State=%{x}<br>Count=%{y}<extra></extra>",
         "legendgroup": "Delhi",
         "marker": {
          "color": "#FF97FF",
          "pattern": {
           "shape": ""
          }
         },
         "name": "Delhi",
         "offsetgroup": "Delhi",
         "orientation": "v",
         "showlegend": true,
         "textposition": "auto",
         "type": "bar",
         "x": [
          "Delhi"
         ],
         "xaxis": "x",
         "y": [
          19
         ],
         "yaxis": "y"
        },
        {
         "alignmentgroup": "True",
         "hovertemplate": "State=%{x}<br>Count=%{y}<extra></extra>",
         "legendgroup": "Rajasthan",
         "marker": {
          "color": "#FECB52",
          "pattern": {
           "shape": ""
          }
         },
         "name": "Rajasthan",
         "offsetgroup": "Rajasthan",
         "orientation": "v",
         "showlegend": true,
         "textposition": "auto",
         "type": "bar",
         "x": [
          "Rajasthan"
         ],
         "xaxis": "x",
         "y": [
          17
         ],
         "yaxis": "y"
        },
        {
         "alignmentgroup": "True",
         "hovertemplate": "State=%{x}<br>Count=%{y}<extra></extra>",
         "legendgroup": "Madhya Pradesh",
         "marker": {
          "color": "#636EFA",
          "pattern": {
           "shape": ""
          }
         },
         "name": "Madhya Pradesh",
         "offsetgroup": "Madhya Pradesh",
         "orientation": "v",
         "showlegend": true,
         "textposition": "auto",
         "type": "bar",
         "x": [
          "Madhya Pradesh"
         ],
         "xaxis": "x",
         "y": [
          17
         ],
         "yaxis": "y"
        },
        {
         "alignmentgroup": "True",
         "hovertemplate": "State=%{x}<br>Count=%{y}<extra></extra>",
         "legendgroup": "Odisha",
         "marker": {
          "color": "#EF553B",
          "pattern": {
           "shape": ""
          }
         },
         "name": "Odisha",
         "offsetgroup": "Odisha",
         "orientation": "v",
         "showlegend": true,
         "textposition": "auto",
         "type": "bar",
         "x": [
          "Odisha"
         ],
         "xaxis": "x",
         "y": [
          16
         ],
         "yaxis": "y"
        },
        {
         "alignmentgroup": "True",
         "hovertemplate": "State=%{x}<br>Count=%{y}<extra></extra>",
         "legendgroup": "Gujarat",
         "marker": {
          "color": "#00CC96",
          "pattern": {
           "shape": ""
          }
         },
         "name": "Gujarat",
         "offsetgroup": "Gujarat",
         "orientation": "v",
         "showlegend": true,
         "textposition": "auto",
         "type": "bar",
         "x": [
          "Gujarat"
         ],
         "xaxis": "x",
         "y": [
          15
         ],
         "yaxis": "y"
        },
        {
         "alignmentgroup": "True",
         "hovertemplate": "State=%{x}<br>Count=%{y}<extra></extra>",
         "legendgroup": "Punjab",
         "marker": {
          "color": "#AB63FA",
          "pattern": {
           "shape": ""
          }
         },
         "name": "Punjab",
         "offsetgroup": "Punjab",
         "orientation": "v",
         "showlegend": true,
         "textposition": "auto",
         "type": "bar",
         "x": [
          "Punjab"
         ],
         "xaxis": "x",
         "y": [
          15
         ],
         "yaxis": "y"
        },
        {
         "alignmentgroup": "True",
         "hovertemplate": "State=%{x}<br>Count=%{y}<extra></extra>",
         "legendgroup": "Bihar",
         "marker": {
          "color": "#FFA15A",
          "pattern": {
           "shape": ""
          }
         },
         "name": "Bihar",
         "offsetgroup": "Bihar",
         "orientation": "v",
         "showlegend": true,
         "textposition": "auto",
         "type": "bar",
         "x": [
          "Bihar"
         ],
         "xaxis": "x",
         "y": [
          10
         ],
         "yaxis": "y"
        },
        {
         "alignmentgroup": "True",
         "hovertemplate": "State=%{x}<br>Count=%{y}<extra></extra>",
         "legendgroup": "Assam",
         "marker": {
          "color": "#19D3F3",
          "pattern": {
           "shape": ""
          }
         },
         "name": "Assam",
         "offsetgroup": "Assam",
         "orientation": "v",
         "showlegend": true,
         "textposition": "auto",
         "type": "bar",
         "x": [
          "Assam"
         ],
         "xaxis": "x",
         "y": [
          9
         ],
         "yaxis": "y"
        },
        {
         "alignmentgroup": "True",
         "hovertemplate": "State=%{x}<br>Count=%{y}<extra></extra>",
         "legendgroup": "Jharkhand",
         "marker": {
          "color": "#FF6692",
          "pattern": {
           "shape": ""
          }
         },
         "name": "Jharkhand",
         "offsetgroup": "Jharkhand",
         "orientation": "v",
         "showlegend": true,
         "textposition": "auto",
         "type": "bar",
         "x": [
          "Jharkhand"
         ],
         "xaxis": "x",
         "y": [
          8
         ],
         "yaxis": "y"
        },
        {
         "alignmentgroup": "True",
         "hovertemplate": "State=%{x}<br>Count=%{y}<extra></extra>",
         "legendgroup": "Uttarakhand",
         "marker": {
          "color": "#B6E880",
          "pattern": {
           "shape": ""
          }
         },
         "name": "Uttarakhand",
         "offsetgroup": "Uttarakhand",
         "orientation": "v",
         "showlegend": true,
         "textposition": "auto",
         "type": "bar",
         "x": [
          "Uttarakhand"
         ],
         "xaxis": "x",
         "y": [
          8
         ],
         "yaxis": "y"
        },
        {
         "alignmentgroup": "True",
         "hovertemplate": "State=%{x}<br>Count=%{y}<extra></extra>",
         "legendgroup": "Jammu and",
         "marker": {
          "color": "#FF97FF",
          "pattern": {
           "shape": ""
          }
         },
         "name": "Jammu and",
         "offsetgroup": "Jammu and",
         "orientation": "v",
         "showlegend": true,
         "textposition": "auto",
         "type": "bar",
         "x": [
          "Jammu and"
         ],
         "xaxis": "x",
         "y": [
          6
         ],
         "yaxis": "y"
        },
        {
         "alignmentgroup": "True",
         "hovertemplate": "State=%{x}<br>Count=%{y}<extra></extra>",
         "legendgroup": "Himachal Pradesh",
         "marker": {
          "color": "#FECB52",
          "pattern": {
           "shape": ""
          }
         },
         "name": "Himachal Pradesh",
         "offsetgroup": "Himachal Pradesh",
         "orientation": "v",
         "showlegend": true,
         "textposition": "auto",
         "type": "bar",
         "x": [
          "Himachal Pradesh"
         ],
         "xaxis": "x",
         "y": [
          6
         ],
         "yaxis": "y"
        },
        {
         "alignmentgroup": "True",
         "hovertemplate": "State=%{x}<br>Count=%{y}<extra></extra>",
         "legendgroup": "Kerala",
         "marker": {
          "color": "#636EFA",
          "pattern": {
           "shape": ""
          }
         },
         "name": "Kerala",
         "offsetgroup": "Kerala",
         "orientation": "v",
         "showlegend": true,
         "textposition": "auto",
         "type": "bar",
         "x": [
          "Kerala"
         ],
         "xaxis": "x",
         "y": [
          6
         ],
         "yaxis": "y"
        },
        {
         "alignmentgroup": "True",
         "hovertemplate": "State=%{x}<br>Count=%{y}<extra></extra>",
         "legendgroup": "Chhattisgarh",
         "marker": {
          "color": "#EF553B",
          "pattern": {
           "shape": ""
          }
         },
         "name": "Chhattisgarh",
         "offsetgroup": "Chhattisgarh",
         "orientation": "v",
         "showlegend": true,
         "textposition": "auto",
         "type": "bar",
         "x": [
          "Chhattisgarh"
         ],
         "xaxis": "x",
         "y": [
          5
         ],
         "yaxis": "y"
        },
        {
         "alignmentgroup": "True",
         "hovertemplate": "State=%{x}<br>Count=%{y}<extra></extra>",
         "legendgroup": "Chandigarh",
         "marker": {
          "color": "#00CC96",
          "pattern": {
           "shape": ""
          }
         },
         "name": "Chandigarh",
         "offsetgroup": "Chandigarh",
         "orientation": "v",
         "showlegend": true,
         "textposition": "auto",
         "type": "bar",
         "x": [
          "Chandigarh"
         ],
         "xaxis": "x",
         "y": [
          3
         ],
         "yaxis": "y"
        },
        {
         "alignmentgroup": "True",
         "hovertemplate": "State=%{x}<br>Count=%{y}<extra></extra>",
         "legendgroup": "Puducherry",
         "marker": {
          "color": "#AB63FA",
          "pattern": {
           "shape": ""
          }
         },
         "name": "Puducherry",
         "offsetgroup": "Puducherry",
         "orientation": "v",
         "showlegend": true,
         "textposition": "auto",
         "type": "bar",
         "x": [
          "Puducherry"
         ],
         "xaxis": "x",
         "y": [
          3
         ],
         "yaxis": "y"
        },
        {
         "alignmentgroup": "True",
         "hovertemplate": "State=%{x}<br>Count=%{y}<extra></extra>",
         "legendgroup": "Manipur",
         "marker": {
          "color": "#FFA15A",
          "pattern": {
           "shape": ""
          }
         },
         "name": "Manipur",
         "offsetgroup": "Manipur",
         "orientation": "v",
         "showlegend": true,
         "textposition": "auto",
         "type": "bar",
         "x": [
          "Manipur"
         ],
         "xaxis": "x",
         "y": [
          2
         ],
         "yaxis": "y"
        },
        {
         "alignmentgroup": "True",
         "hovertemplate": "State=%{x}<br>Count=%{y}<extra></extra>",
         "legendgroup": "Goa",
         "marker": {
          "color": "#19D3F3",
          "pattern": {
           "shape": ""
          }
         },
         "name": "Goa",
         "offsetgroup": "Goa",
         "orientation": "v",
         "showlegend": true,
         "textposition": "auto",
         "type": "bar",
         "x": [
          "Goa"
         ],
         "xaxis": "x",
         "y": [
          2
         ],
         "yaxis": "y"
        },
        {
         "alignmentgroup": "True",
         "hovertemplate": "State=%{x}<br>Count=%{y}<extra></extra>",
         "legendgroup": "Arunachal Pradesh",
         "marker": {
          "color": "#FF6692",
          "pattern": {
           "shape": ""
          }
         },
         "name": "Arunachal Pradesh",
         "offsetgroup": "Arunachal Pradesh",
         "orientation": "v",
         "showlegend": true,
         "textposition": "auto",
         "type": "bar",
         "x": [
          "Arunachal Pradesh"
         ],
         "xaxis": "x",
         "y": [
          2
         ],
         "yaxis": "y"
        },
        {
         "alignmentgroup": "True",
         "hovertemplate": "State=%{x}<br>Count=%{y}<extra></extra>",
         "legendgroup": "Sikkim",
         "marker": {
          "color": "#B6E880",
          "pattern": {
           "shape": ""
          }
         },
         "name": "Sikkim",
         "offsetgroup": "Sikkim",
         "orientation": "v",
         "showlegend": true,
         "textposition": "auto",
         "type": "bar",
         "x": [
          "Sikkim"
         ],
         "xaxis": "x",
         "y": [
          2
         ],
         "yaxis": "y"
        },
        {
         "alignmentgroup": "True",
         "hovertemplate": "State=%{x}<br>Count=%{y}<extra></extra>",
         "legendgroup": "Meghalaya",
         "marker": {
          "color": "#FF97FF",
          "pattern": {
           "shape": ""
          }
         },
         "name": "Meghalaya",
         "offsetgroup": "Meghalaya",
         "orientation": "v",
         "showlegend": true,
         "textposition": "auto",
         "type": "bar",
         "x": [
          "Meghalaya"
         ],
         "xaxis": "x",
         "y": [
          1
         ],
         "yaxis": "y"
        },
        {
         "alignmentgroup": "True",
         "hovertemplate": "State=%{x}<br>Count=%{y}<extra></extra>",
         "legendgroup": "Tripura",
         "marker": {
          "color": "#FECB52",
          "pattern": {
           "shape": ""
          }
         },
         "name": "Tripura",
         "offsetgroup": "Tripura",
         "orientation": "v",
         "showlegend": true,
         "textposition": "auto",
         "type": "bar",
         "x": [
          "Tripura"
         ],
         "xaxis": "x",
         "y": [
          1
         ],
         "yaxis": "y"
        },
        {
         "alignmentgroup": "True",
         "hovertemplate": "State=%{x}<br>Count=%{y}<extra></extra>",
         "legendgroup": "Mizoram",
         "marker": {
          "color": "#636EFA",
          "pattern": {
           "shape": ""
          }
         },
         "name": "Mizoram",
         "offsetgroup": "Mizoram",
         "orientation": "v",
         "showlegend": true,
         "textposition": "auto",
         "type": "bar",
         "x": [
          "Mizoram"
         ],
         "xaxis": "x",
         "y": [
          1
         ],
         "yaxis": "y"
        },
        {
         "alignmentgroup": "True",
         "hovertemplate": "State=%{x}<br>Count=%{y}<extra></extra>",
         "legendgroup": "Nagaland",
         "marker": {
          "color": "#EF553B",
          "pattern": {
           "shape": ""
          }
         },
         "name": "Nagaland",
         "offsetgroup": "Nagaland",
         "orientation": "v",
         "showlegend": true,
         "textposition": "auto",
         "type": "bar",
         "x": [
          "Nagaland"
         ],
         "xaxis": "x",
         "y": [
          1
         ],
         "yaxis": "y"
        }
       ],
       "layout": {
        "barmode": "relative",
        "height": 600,
        "legend": {
         "title": {
          "text": "State"
         },
         "tracegroupgap": 0
        },
        "template": {
         "data": {
          "bar": [
           {
            "error_x": {
             "color": "#2a3f5f"
            },
            "error_y": {
             "color": "#2a3f5f"
            },
            "marker": {
             "line": {
              "color": "#E5ECF6",
              "width": 0.5
             },
             "pattern": {
              "fillmode": "overlay",
              "size": 10,
              "solidity": 0.2
             }
            },
            "type": "bar"
           }
          ],
          "barpolar": [
           {
            "marker": {
             "line": {
              "color": "#E5ECF6",
              "width": 0.5
             },
             "pattern": {
              "fillmode": "overlay",
              "size": 10,
              "solidity": 0.2
             }
            },
            "type": "barpolar"
           }
          ],
          "carpet": [
           {
            "aaxis": {
             "endlinecolor": "#2a3f5f",
             "gridcolor": "white",
             "linecolor": "white",
             "minorgridcolor": "white",
             "startlinecolor": "#2a3f5f"
            },
            "baxis": {
             "endlinecolor": "#2a3f5f",
             "gridcolor": "white",
             "linecolor": "white",
             "minorgridcolor": "white",
             "startlinecolor": "#2a3f5f"
            },
            "type": "carpet"
           }
          ],
          "choropleth": [
           {
            "colorbar": {
             "outlinewidth": 0,
             "ticks": ""
            },
            "type": "choropleth"
           }
          ],
          "contour": [
           {
            "colorbar": {
             "outlinewidth": 0,
             "ticks": ""
            },
            "colorscale": [
             [
              0,
              "#0d0887"
             ],
             [
              0.1111111111111111,
              "#46039f"
             ],
             [
              0.2222222222222222,
              "#7201a8"
             ],
             [
              0.3333333333333333,
              "#9c179e"
             ],
             [
              0.4444444444444444,
              "#bd3786"
             ],
             [
              0.5555555555555556,
              "#d8576b"
             ],
             [
              0.6666666666666666,
              "#ed7953"
             ],
             [
              0.7777777777777778,
              "#fb9f3a"
             ],
             [
              0.8888888888888888,
              "#fdca26"
             ],
             [
              1,
              "#f0f921"
             ]
            ],
            "type": "contour"
           }
          ],
          "contourcarpet": [
           {
            "colorbar": {
             "outlinewidth": 0,
             "ticks": ""
            },
            "type": "contourcarpet"
           }
          ],
          "heatmap": [
           {
            "colorbar": {
             "outlinewidth": 0,
             "ticks": ""
            },
            "colorscale": [
             [
              0,
              "#0d0887"
             ],
             [
              0.1111111111111111,
              "#46039f"
             ],
             [
              0.2222222222222222,
              "#7201a8"
             ],
             [
              0.3333333333333333,
              "#9c179e"
             ],
             [
              0.4444444444444444,
              "#bd3786"
             ],
             [
              0.5555555555555556,
              "#d8576b"
             ],
             [
              0.6666666666666666,
              "#ed7953"
             ],
             [
              0.7777777777777778,
              "#fb9f3a"
             ],
             [
              0.8888888888888888,
              "#fdca26"
             ],
             [
              1,
              "#f0f921"
             ]
            ],
            "type": "heatmap"
           }
          ],
          "heatmapgl": [
           {
            "colorbar": {
             "outlinewidth": 0,
             "ticks": ""
            },
            "colorscale": [
             [
              0,
              "#0d0887"
             ],
             [
              0.1111111111111111,
              "#46039f"
             ],
             [
              0.2222222222222222,
              "#7201a8"
             ],
             [
              0.3333333333333333,
              "#9c179e"
             ],
             [
              0.4444444444444444,
              "#bd3786"
             ],
             [
              0.5555555555555556,
              "#d8576b"
             ],
             [
              0.6666666666666666,
              "#ed7953"
             ],
             [
              0.7777777777777778,
              "#fb9f3a"
             ],
             [
              0.8888888888888888,
              "#fdca26"
             ],
             [
              1,
              "#f0f921"
             ]
            ],
            "type": "heatmapgl"
           }
          ],
          "histogram": [
           {
            "marker": {
             "pattern": {
              "fillmode": "overlay",
              "size": 10,
              "solidity": 0.2
             }
            },
            "type": "histogram"
           }
          ],
          "histogram2d": [
           {
            "colorbar": {
             "outlinewidth": 0,
             "ticks": ""
            },
            "colorscale": [
             [
              0,
              "#0d0887"
             ],
             [
              0.1111111111111111,
              "#46039f"
             ],
             [
              0.2222222222222222,
              "#7201a8"
             ],
             [
              0.3333333333333333,
              "#9c179e"
             ],
             [
              0.4444444444444444,
              "#bd3786"
             ],
             [
              0.5555555555555556,
              "#d8576b"
             ],
             [
              0.6666666666666666,
              "#ed7953"
             ],
             [
              0.7777777777777778,
              "#fb9f3a"
             ],
             [
              0.8888888888888888,
              "#fdca26"
             ],
             [
              1,
              "#f0f921"
             ]
            ],
            "type": "histogram2d"
           }
          ],
          "histogram2dcontour": [
           {
            "colorbar": {
             "outlinewidth": 0,
             "ticks": ""
            },
            "colorscale": [
             [
              0,
              "#0d0887"
             ],
             [
              0.1111111111111111,
              "#46039f"
             ],
             [
              0.2222222222222222,
              "#7201a8"
             ],
             [
              0.3333333333333333,
              "#9c179e"
             ],
             [
              0.4444444444444444,
              "#bd3786"
             ],
             [
              0.5555555555555556,
              "#d8576b"
             ],
             [
              0.6666666666666666,
              "#ed7953"
             ],
             [
              0.7777777777777778,
              "#fb9f3a"
             ],
             [
              0.8888888888888888,
              "#fdca26"
             ],
             [
              1,
              "#f0f921"
             ]
            ],
            "type": "histogram2dcontour"
           }
          ],
          "mesh3d": [
           {
            "colorbar": {
             "outlinewidth": 0,
             "ticks": ""
            },
            "type": "mesh3d"
           }
          ],
          "parcoords": [
           {
            "line": {
             "colorbar": {
              "outlinewidth": 0,
              "ticks": ""
             }
            },
            "type": "parcoords"
           }
          ],
          "pie": [
           {
            "automargin": true,
            "type": "pie"
           }
          ],
          "scatter": [
           {
            "fillpattern": {
             "fillmode": "overlay",
             "size": 10,
             "solidity": 0.2
            },
            "type": "scatter"
           }
          ],
          "scatter3d": [
           {
            "line": {
             "colorbar": {
              "outlinewidth": 0,
              "ticks": ""
             }
            },
            "marker": {
             "colorbar": {
              "outlinewidth": 0,
              "ticks": ""
             }
            },
            "type": "scatter3d"
           }
          ],
          "scattercarpet": [
           {
            "marker": {
             "colorbar": {
              "outlinewidth": 0,
              "ticks": ""
             }
            },
            "type": "scattercarpet"
           }
          ],
          "scattergeo": [
           {
            "marker": {
             "colorbar": {
              "outlinewidth": 0,
              "ticks": ""
             }
            },
            "type": "scattergeo"
           }
          ],
          "scattergl": [
           {
            "marker": {
             "colorbar": {
              "outlinewidth": 0,
              "ticks": ""
             }
            },
            "type": "scattergl"
           }
          ],
          "scattermapbox": [
           {
            "marker": {
             "colorbar": {
              "outlinewidth": 0,
              "ticks": ""
             }
            },
            "type": "scattermapbox"
           }
          ],
          "scatterpolar": [
           {
            "marker": {
             "colorbar": {
              "outlinewidth": 0,
              "ticks": ""
             }
            },
            "type": "scatterpolar"
           }
          ],
          "scatterpolargl": [
           {
            "marker": {
             "colorbar": {
              "outlinewidth": 0,
              "ticks": ""
             }
            },
            "type": "scatterpolargl"
           }
          ],
          "scatterternary": [
           {
            "marker": {
             "colorbar": {
              "outlinewidth": 0,
              "ticks": ""
             }
            },
            "type": "scatterternary"
           }
          ],
          "surface": [
           {
            "colorbar": {
             "outlinewidth": 0,
             "ticks": ""
            },
            "colorscale": [
             [
              0,
              "#0d0887"
             ],
             [
              0.1111111111111111,
              "#46039f"
             ],
             [
              0.2222222222222222,
              "#7201a8"
             ],
             [
              0.3333333333333333,
              "#9c179e"
             ],
             [
              0.4444444444444444,
              "#bd3786"
             ],
             [
              0.5555555555555556,
              "#d8576b"
             ],
             [
              0.6666666666666666,
              "#ed7953"
             ],
             [
              0.7777777777777778,
              "#fb9f3a"
             ],
             [
              0.8888888888888888,
              "#fdca26"
             ],
             [
              1,
              "#f0f921"
             ]
            ],
            "type": "surface"
           }
          ],
          "table": [
           {
            "cells": {
             "fill": {
              "color": "#EBF0F8"
             },
             "line": {
              "color": "white"
             }
            },
            "header": {
             "fill": {
              "color": "#C8D4E3"
             },
             "line": {
              "color": "white"
             }
            },
            "type": "table"
           }
          ]
         },
         "layout": {
          "annotationdefaults": {
           "arrowcolor": "#2a3f5f",
           "arrowhead": 0,
           "arrowwidth": 1
          },
          "autotypenumbers": "strict",
          "coloraxis": {
           "colorbar": {
            "outlinewidth": 0,
            "ticks": ""
           }
          },
          "colorscale": {
           "diverging": [
            [
             0,
             "#8e0152"
            ],
            [
             0.1,
             "#c51b7d"
            ],
            [
             0.2,
             "#de77ae"
            ],
            [
             0.3,
             "#f1b6da"
            ],
            [
             0.4,
             "#fde0ef"
            ],
            [
             0.5,
             "#f7f7f7"
            ],
            [
             0.6,
             "#e6f5d0"
            ],
            [
             0.7,
             "#b8e186"
            ],
            [
             0.8,
             "#7fbc41"
            ],
            [
             0.9,
             "#4d9221"
            ],
            [
             1,
             "#276419"
            ]
           ],
           "sequential": [
            [
             0,
             "#0d0887"
            ],
            [
             0.1111111111111111,
             "#46039f"
            ],
            [
             0.2222222222222222,
             "#7201a8"
            ],
            [
             0.3333333333333333,
             "#9c179e"
            ],
            [
             0.4444444444444444,
             "#bd3786"
            ],
            [
             0.5555555555555556,
             "#d8576b"
            ],
            [
             0.6666666666666666,
             "#ed7953"
            ],
            [
             0.7777777777777778,
             "#fb9f3a"
            ],
            [
             0.8888888888888888,
             "#fdca26"
            ],
            [
             1,
             "#f0f921"
            ]
           ],
           "sequentialminus": [
            [
             0,
             "#0d0887"
            ],
            [
             0.1111111111111111,
             "#46039f"
            ],
            [
             0.2222222222222222,
             "#7201a8"
            ],
            [
             0.3333333333333333,
             "#9c179e"
            ],
            [
             0.4444444444444444,
             "#bd3786"
            ],
            [
             0.5555555555555556,
             "#d8576b"
            ],
            [
             0.6666666666666666,
             "#ed7953"
            ],
            [
             0.7777777777777778,
             "#fb9f3a"
            ],
            [
             0.8888888888888888,
             "#fdca26"
            ],
            [
             1,
             "#f0f921"
            ]
           ]
          },
          "colorway": [
           "#636efa",
           "#EF553B",
           "#00cc96",
           "#ab63fa",
           "#FFA15A",
           "#19d3f3",
           "#FF6692",
           "#B6E880",
           "#FF97FF",
           "#FECB52"
          ],
          "font": {
           "color": "#2a3f5f"
          },
          "geo": {
           "bgcolor": "white",
           "lakecolor": "white",
           "landcolor": "#E5ECF6",
           "showlakes": true,
           "showland": true,
           "subunitcolor": "white"
          },
          "hoverlabel": {
           "align": "left"
          },
          "hovermode": "closest",
          "mapbox": {
           "style": "light"
          },
          "paper_bgcolor": "white",
          "plot_bgcolor": "#E5ECF6",
          "polar": {
           "angularaxis": {
            "gridcolor": "white",
            "linecolor": "white",
            "ticks": ""
           },
           "bgcolor": "#E5ECF6",
           "radialaxis": {
            "gridcolor": "white",
            "linecolor": "white",
            "ticks": ""
           }
          },
          "scene": {
           "xaxis": {
            "backgroundcolor": "#E5ECF6",
            "gridcolor": "white",
            "gridwidth": 2,
            "linecolor": "white",
            "showbackground": true,
            "ticks": "",
            "zerolinecolor": "white"
           },
           "yaxis": {
            "backgroundcolor": "#E5ECF6",
            "gridcolor": "white",
            "gridwidth": 2,
            "linecolor": "white",
            "showbackground": true,
            "ticks": "",
            "zerolinecolor": "white"
           },
           "zaxis": {
            "backgroundcolor": "#E5ECF6",
            "gridcolor": "white",
            "gridwidth": 2,
            "linecolor": "white",
            "showbackground": true,
            "ticks": "",
            "zerolinecolor": "white"
           }
          },
          "shapedefaults": {
           "line": {
            "color": "#2a3f5f"
           }
          },
          "ternary": {
           "aaxis": {
            "gridcolor": "white",
            "linecolor": "white",
            "ticks": ""
           },
           "baxis": {
            "gridcolor": "white",
            "linecolor": "white",
            "ticks": ""
           },
           "bgcolor": "#E5ECF6",
           "caxis": {
            "gridcolor": "white",
            "linecolor": "white",
            "ticks": ""
           }
          },
          "title": {
           "x": 0.05
          },
          "xaxis": {
           "automargin": true,
           "gridcolor": "white",
           "linecolor": "white",
           "ticks": "",
           "title": {
            "standoff": 15
           },
           "zerolinecolor": "white",
           "zerolinewidth": 2
          },
          "yaxis": {
           "automargin": true,
           "gridcolor": "white",
           "linecolor": "white",
           "ticks": "",
           "title": {
            "standoff": 15
           },
           "zerolinecolor": "white",
           "zerolinewidth": 2
          }
         }
        },
        "title": {
         "text": "Count Plot of State-wise Distribution of Colleges"
        },
        "width": 1000,
        "xaxis": {
         "anchor": "y",
         "autorange": true,
         "categoryarray": [
          "Tamil Nadu",
          "Maharashtra",
          "Uttar Pradesh",
          "Karnataka",
          "Andhra Pradesh",
          "Telangana",
          "Haryana",
          "West Bengal",
          "Delhi",
          "Rajasthan",
          "Madhya Pradesh",
          "Odisha",
          "Gujarat",
          "Punjab",
          "Bihar",
          "Assam",
          "Jharkhand",
          "Uttarakhand",
          "Jammu and",
          "Himachal Pradesh",
          "Kerala",
          "Chhattisgarh",
          "Chandigarh",
          "Puducherry",
          "Manipur",
          "Goa",
          "Arunachal Pradesh",
          "Sikkim",
          "Meghalaya",
          "Tripura",
          "Mizoram",
          "Nagaland"
         ],
         "categoryorder": "array",
         "domain": [
          0,
          1
         ],
         "range": [
          -0.5,
          31.5
         ],
         "tickangle": -90,
         "title": {
          "text": "State"
         },
         "type": "category"
        },
        "yaxis": {
         "anchor": "x",
         "autorange": true,
         "domain": [
          0,
          1
         ],
         "range": [
          0,
          84.21052631578948
         ],
         "title": {
          "text": "Count"
         },
         "type": "linear"
        }
       }
      },
      "image/png": "[encoded data removed]",
      "text/html": [
       "<div>                            <div id=\"8737538d-bf6f-462e-8bdc-765dda855fe7\" class=\"plotly-graph-div\" style=\"height:600px; width:1000px;\"></div>            <script type=\"text/javascript\">                require([\"plotly\"], function(Plotly) {                    window.PLOTLYENV=window.PLOTLYENV || {};                                    if (document.getElementById(\"8737538d-bf6f-462e-8bdc-765dda855fe7\")) {                    Plotly.newPlot(                        \"8737538d-bf6f-462e-8bdc-765dda855fe7\",                        [{\"alignmentgroup\":\"True\",\"hovertemplate\":\"State=%{x}\\u003cbr\\u003eCount=%{y}\\u003cextra\\u003e\\u003c\\u002fextra\\u003e\",\"legendgroup\":\"Tamil Nadu\",\"marker\":{\"color\":\"#636EFA\",\"pattern\":{\"shape\":\"\"}},\"name\":\"Tamil Nadu\",\"offsetgroup\":\"Tamil Nadu\",\"orientation\":\"v\",\"showlegend\":true,\"textposition\":\"auto\",\"x\":[\"Tamil Nadu\"],\"xaxis\":\"x\",\"y\":[80],\"yaxis\":\"y\",\"type\":\"bar\"},{\"alignmentgroup\":\"True\",\"hovertemplate\":\"State=%{x}\\u003cbr\\u003eCount=%{y}\\u003cextra\\u003e\\u003c\\u002fextra\\u003e\",\"legendgroup\":\"Maharashtra\",\"marker\":{\"color\":\"#EF553B\",\"pattern\":{\"shape\":\"\"}},\"name\":\"Maharashtra\",\"offsetgroup\":\"Maharashtra\",\"orientation\":\"v\",\"showlegend\":true,\"textposition\":\"auto\",\"x\":[\"Maharashtra\"],\"xaxis\":\"x\",\"y\":[54],\"yaxis\":\"y\",\"type\":\"bar\"},{\"alignmentgroup\":\"True\",\"hovertemplate\":\"State=%{x}\\u003cbr\\u003eCount=%{y}\\u003cextra\\u003e\\u003c\\u002fextra\\u003e\",\"legendgroup\":\"Uttar Pradesh\",\"marker\":{\"color\":\"#00CC96\",\"pattern\":{\"shape\":\"\"}},\"name\":\"Uttar Pradesh\",\"offsetgroup\":\"Uttar Pradesh\",\"orientation\":\"v\",\"showlegend\":true,\"textposition\":\"auto\",\"x\":[\"Uttar Pradesh\"],\"xaxis\":\"x\",\"y\":[47],\"yaxis\":\"y\",\"type\":\"bar\"},{\"alignmentgroup\":\"True\",\"hovertemplate\":\"State=%{x}\\u003cbr\\u003eCount=%{y}\\u003cextra\\u003e\\u003c\\u002fextra\\u003e\",\"legendgroup\":\"Karnataka\",\"marker\":{\"color\":\"#AB63FA\",\"pattern\":{\"shape\":\"\"}},\"name\":\"Karnataka\",\"offsetgroup\":\"Karnataka\",\"orientation\":\"v\",\"showlegend\":true,\"textposition\":\"auto\",\"x\":[\"Karnataka\"],\"xaxis\":\"x\",\"y\":[41],\"yaxis\":\"y\",\"type\":\"bar\"},{\"alignmentgroup\":\"True\",\"hovertemplate\":\"State=%{x}\\u003cbr\\u003eCount=%{y}\\u003cextra\\u003e\\u003c\\u002fextra\\u003e\",\"legendgroup\":\"Andhra Pradesh\",\"marker\":{\"color\":\"#FFA15A\",\"pattern\":{\"shape\":\"\"}},\"name\":\"Andhra Pradesh\",\"offsetgroup\":\"Andhra Pradesh\",\"orientation\":\"v\",\"showlegend\":true,\"textposition\":\"auto\",\"x\":[\"Andhra Pradesh\"],\"xaxis\":\"x\",\"y\":[41],\"yaxis\":\"y\",\"type\":\"bar\"},{\"alignmentgroup\":\"True\",\"hovertemplate\":\"State=%{x}\\u003cbr\\u003eCount=%{y}\\u003cextra\\u003e\\u003c\\u002fextra\\u003e\",\"legendgroup\":\"Telangana\",\"marker\":{\"color\":\"#19D3F3\",\"pattern\":{\"shape\":\"\"}},\"name\":\"Telangana\",\"offsetgroup\":\"Telangana\",\"orientation\":\"v\",\"showlegend\":true,\"textposition\":\"auto\",\"x\":[\"Telangana\"],\"xaxis\":\"x\",\"y\":[35],\"yaxis\":\"y\",\"type\":\"bar\"},{\"alignmentgroup\":\"True\",\"hovertemplate\":\"State=%{x}\\u003cbr\\u003eCount=%{y}\\u003cextra\\u003e\\u003c\\u002fextra\\u003e\",\"legendgroup\":\"Haryana\",\"marker\":{\"color\":\"#FF6692\",\"pattern\":{\"shape\":\"\"}},\"name\":\"Haryana\",\"offsetgroup\":\"Haryana\",\"orientation\":\"v\",\"showlegend\":true,\"textposition\":\"auto\",\"x\":[\"Haryana\"],\"xaxis\":\"x\",\"y\":[34],\"yaxis\":\"y\",\"type\":\"bar\"},{\"alignmentgroup\":\"True\",\"hovertemplate\":\"State=%{x}\\u003cbr\\u003eCount=%{y}\\u003cextra\\u003e\\u003c\\u002fextra\\u003e\",\"legendgroup\":\"West Bengal\",\"marker\":{\"color\":\"#B6E880\",\"pattern\":{\"shape\":\"\"}},\"name\":\"West Bengal\",\"offsetgroup\":\"West Bengal\",\"orientation\":\"v\",\"showlegend\":true,\"textposition\":\"auto\",\"x\":[\"West Bengal\"],\"xaxis\":\"x\",\"y\":[24],\"yaxis\":\"y\",\"type\":\"bar\"},{\"alignmentgroup\":\"True\",\"hovertemplate\":\"State=%{x}\\u003cbr\\u003eCount=%{y}\\u003cextra\\u003e\\u003c\\u002fextra\\u003e\",\"legendgroup\":\"Delhi\",\"marker\":{\"color\":\"#FF97FF\",\"pattern\":{\"shape\":\"\"}},\"name\":\"Delhi\",\"offsetgroup\":\"Delhi\",\"orientation\":\"v\",\"showlegend\":true,\"textposition\":\"auto\",\"x\":[\"Delhi\"],\"xaxis\":\"x\",\"y\":[19],\"yaxis\":\"y\",\"type\":\"bar\"},{\"alignmentgroup\":\"True\",\"hovertemplate\":\"State=%{x}\\u003cbr\\u003eCount=%{y}\\u003cextra\\u003e\\u003c\\u002fextra\\u003e\",\"legendgroup\":\"Rajasthan\",\"marker\":{\"color\":\"#FECB52\",\"pattern\":{\"shape\":\"\"}},\"name\":\"Rajasthan\",\"offsetgroup\":\"Rajasthan\",\"orientation\":\"v\",\"showlegend\":true,\"textposition\":\"auto\",\"x\":[\"Rajasthan\"],\"xaxis\":\"x\",\"y\":[17],\"yaxis\":\"y\",\"type\":\"bar\"},{\"alignmentgroup\":\"True\",\"hovertemplate\":\"State=%{x}\\u003cbr\\u003eCount=%{y}\\u003cextra\\u003e\\u003c\\u002fextra\\u003e\",\"legendgroup\":\"Madhya Pradesh\",\"marker\":{\"color\":\"#636EFA\",\"pattern\":{\"shape\":\"\"}},\"name\":\"Madhya Pradesh\",\"offsetgroup\":\"Madhya Pradesh\",\"orientation\":\"v\",\"showlegend\":true,\"textposition\":\"auto\",\"x\":[\"Madhya Pradesh\"],\"xaxis\":\"x\",\"y\":[17],\"yaxis\":\"y\",\"type\":\"bar\"},{\"alignmentgroup\":\"True\",\"hovertemplate\":\"State=%{x}\\u003cbr\\u003eCount=%{y}\\u003cextra\\u003e\\u003c\\u002fextra\\u003e\",\"legendgroup\":\"Odisha\",\"marker\":{\"color\":\"#EF553B\",\"pattern\":{\"shape\":\"\"}},\"name\":\"Odisha\",\"offsetgroup\":\"Odisha\",\"orientation\":\"v\",\"showlegend\":true,\"textposition\":\"auto\",\"x\":[\"Odisha\"],\"xaxis\":\"x\",\"y\":[16],\"yaxis\":\"y\",\"type\":\"bar\"},{\"alignmentgroup\":\"True\",\"hovertemplate\":\"State=%{x}\\u003cbr\\u003eCount=%{y}\\u003cextra\\u003e\\u003c\\u002fextra\\u003e\",\"legendgroup\":\"Gujarat\",\"marker\":{\"color\":\"#00CC96\",\"pattern\":{\"shape\":\"\"}},\"name\":\"Gujarat\",\"offsetgroup\":\"Gujarat\",\"orientation\":\"v\",\"showlegend\":true,\"textposition\":\"auto\",\"x\":[\"Gujarat\"],\"xaxis\":\"x\",\"y\":[15],\"yaxis\":\"y\",\"type\":\"bar\"},{\"alignmentgroup\":\"True\",\"hovertemplate\":\"State=%{x}\\u003cbr\\u003eCount=%{y}\\u003cextra\\u003e\\u003c\\u002fextra\\u003e\",\"legendgroup\":\"Punjab\",\"marker\":{\"color\":\"#AB63FA\",\"pattern\":{\"shape\":\"\"}},\"name\":\"Punjab\",\"offsetgroup\":\"Punjab\",\"orientation\":\"v\",\"showlegend\":true,\"textposition\":\"auto\",\"x\":[\"Punjab\"],\"xaxis\":\"x\",\"y\":[15],\"yaxis\":\"y\",\"type\":\"bar\"},{\"alignmentgroup\":\"True\",\"hovertemplate\":\"State=%{x}\\u003cbr\\u003eCount=%{y}\\u003cextra\\u003e\\u003c\\u002fextra\\u003e\",\"legendgroup\":\"Bihar\",\"marker\":{\"color\":\"#FFA15A\",\"pattern\":{\"shape\":\"\"}},\"name\":\"Bihar\",\"offsetgroup\":\"Bihar\",\"orientation\":\"v\",\"showlegend\":true,\"textposition\":\"auto\",\"x\":[\"Bihar\"],\"xaxis\":\"x\",\"y\":[10],\"yaxis\":\"y\",\"type\":\"bar\"},{\"alignmentgroup\":\"True\",\"hovertemplate\":\"State=%{x}\\u003cbr\\u003eCount=%{y}\\u003cextra\\u003e\\u003c\\u002fextra\\u003e\",\"legendgroup\":\"Assam\",\"marker\":{\"color\":\"#19D3F3\",\"pattern\":{\"shape\":\"\"}},\"name\":\"Assam\",\"offsetgroup\":\"Assam\",\"orientation\":\"v\",\"showlegend\":true,\"textposition\":\"auto\",\"x\":[\"Assam\"],\"xaxis\":\"x\",\"y\":[9],\"yaxis\":\"y\",\"type\":\"bar\"},{\"alignmentgroup\":\"True\",\"hovertemplate\":\"State=%{x}\\u003cbr\\u003eCount=%{y}\\u003cextra\\u003e\\u003c\\u002fextra\\u003e\",\"legendgroup\":\"Jharkhand\",\"marker\":{\"color\":\"#FF6692\",\"pattern\":{\"shape\":\"\"}},\"name\":\"Jharkhand\",\"offsetgroup\":\"Jharkhand\",\"orientation\":\"v\",\"showlegend\":true,\"textposition\":\"auto\",\"x\":[\"Jharkhand\"],\"xaxis\":\"x\",\"y\":[8],\"yaxis\":\"y\",\"type\":\"bar\"},{\"alignmentgroup\":\"True\",\"hovertemplate\":\"State=%{x}\\u003cbr\\u003eCount=%{y}\\u003cextra\\u003e\\u003c\\u002fextra\\u003e\",\"legendgroup\":\"Uttarakhand\",\"marker\":{\"color\":\"#B6E880\",\"pattern\":{\"shape\":\"\"}},\"name\":\"Uttarakhand\",\"offsetgroup\":\"Uttarakhand\",\"orientation\":\"v\",\"showlegend\":true,\"textposition\":\"auto\",\"x\":[\"Uttarakhand\"],\"xaxis\":\"x\",\"y\":[8],\"yaxis\":\"y\",\"type\":\"bar\"},{\"alignmentgroup\":\"True\",\"hovertemplate\":\"State=%{x}\\u003cbr\\u003eCount=%{y}\\u003cextra\\u003e\\u003c\\u002fextra\\u003e\",\"legendgroup\":\"Jammu and\",\"marker\":{\"color\":\"#FF97FF\",\"pattern\":{\"shape\":\"\"}},\"name\":\"Jammu and\",\"offsetgroup\":\"Jammu and\",\"orientation\":\"v\",\"showlegend\":true,\"textposition\":\"auto\",\"x\":[\"Jammu and\"],\"xaxis\":\"x\",\"y\":[6],\"yaxis\":\"y\",\"type\":\"bar\"},{\"alignmentgroup\":\"True\",\"hovertemplate\":\"State=%{x}\\u003cbr\\u003eCount=%{y}\\u003cextra\\u003e\\u003c\\u002fextra\\u003e\",\"legendgroup\":\"Himachal Pradesh\",\"marker\":{\"color\":\"#FECB52\",\"pattern\":{\"shape\":\"\"}},\"name\":\"Himachal Pradesh\",\"offsetgroup\":\"Himachal Pradesh\",\"orientation\":\"v\",\"showlegend\":true,\"textposition\":\"auto\",\"x\":[\"Himachal Pradesh\"],\"xaxis\":\"x\",\"y\":[6],\"yaxis\":\"y\",\"type\":\"bar\"},{\"alignmentgroup\":\"True\",\"hovertemplate\":\"State=%{x}\\u003cbr\\u003eCount=%{y}\\u003cextra\\u003e\\u003c\\u002fextra\\u003e\",\"legendgroup\":\"Kerala\",\"marker\":{\"color\":\"#636EFA\",\"pattern\":{\"shape\":\"\"}},\"name\":\"Kerala\",\"offsetgroup\":\"Kerala\",\"orientation\":\"v\",\"showlegend\":true,\"textposition\":\"auto\",\"x\":[\"Kerala\"],\"xaxis\":\"x\",\"y\":[6],\"yaxis\":\"y\",\"type\":\"bar\"},{\"alignmentgroup\":\"True\",\"hovertemplate\":\"State=%{x}\\u003cbr\\u003eCount=%{y}\\u003cextra\\u003e\\u003c\\u002fextra\\u003e\",\"legendgroup\":\"Chhattisgarh\",\"marker\":{\"color\":\"#EF553B\",\"pattern\":{\"shape\":\"\"}},\"name\":\"Chhattisgarh\",\"offsetgroup\":\"Chhattisgarh\",\"orientation\":\"v\",\"showlegend\":true,\"textposition\":\"auto\",\"x\":[\"Chhattisgarh\"],\"xaxis\":\"x\",\"y\":[5],\"yaxis\":\"y\",\"type\":\"bar\"},{\"alignmentgroup\":\"True\",\"hovertemplate\":\"State=%{x}\\u003cbr\\u003eCount=%{y}\\u003cextra\\u003e\\u003c\\u002fextra\\u003e\",\"legendgroup\":\"Chandigarh\",\"marker\":{\"color\":\"#00CC96\",\"pattern\":{\"shape\":\"\"}},\"name\":\"Chandigarh\",\"offsetgroup\":\"Chandigarh\",\"orientation\":\"v\",\"showlegend\":true,\"textposition\":\"auto\",\"x\":[\"Chandigarh\"],\"xaxis\":\"x\",\"y\":[3],\"yaxis\":\"y\",\"type\":\"bar\"},{\"alignmentgroup\":\"True\",\"hovertemplate\":\"State=%{x}\\u003cbr\\u003eCount=%{y}\\u003cextra\\u003e\\u003c\\u002fextra\\u003e\",\"legendgroup\":\"Puducherry\",\"marker\":{\"color\":\"#AB63FA\",\"pattern\":{\"shape\":\"\"}},\"name\":\"Puducherry\",\"offsetgroup\":\"Puducherry\",\"orientation\":\"v\",\"showlegend\":true,\"textposition\":\"auto\",\"x\":[\"Puducherry\"],\"xaxis\":\"x\",\"y\":[3],\"yaxis\":\"y\",\"type\":\"bar\"},{\"alignmentgroup\":\"True\",\"hovertemplate\":\"State=%{x}\\u003cbr\\u003eCount=%{y}\\u003cextra\\u003e\\u003c\\u002fextra\\u003e\",\"legendgroup\":\"Manipur\",\"marker\":{\"color\":\"#FFA15A\",\"pattern\":{\"shape\":\"\"}},\"name\":\"Manipur\",\"offsetgroup\":\"Manipur\",\"orientation\":\"v\",\"showlegend\":true,\"textposition\":\"auto\",\"x\":[\"Manipur\"],\"xaxis\":\"x\",\"y\":[2],\"yaxis\":\"y\",\"type\":\"bar\"},{\"alignmentgroup\":\"True\",\"hovertemplate\":\"State=%{x}\\u003cbr\\u003eCount=%{y}\\u003cextra\\u003e\\u003c\\u002fextra\\u003e\",\"legendgroup\":\"Goa\",\"marker\":{\"color\":\"#19D3F3\",\"pattern\":{\"shape\":\"\"}},\"name\":\"Goa\",\"offsetgroup\":\"Goa\",\"orientation\":\"v\",\"showlegend\":true,\"textposition\":\"auto\",\"x\":[\"Goa\"],\"xaxis\":\"x\",\"y\":[2],\"yaxis\":\"y\",\"type\":\"bar\"},{\"alignmentgroup\":\"True\",\"hovertemplate\":\"State=%{x}\\u003cbr\\u003eCount=%{y}\\u003cextra\\u003e\\u003c\\u002fextra\\u003e\",\"legendgroup\":\"Arunachal Pradesh\",\"marker\":{\"color\":\"#FF6692\",\"pattern\":{\"shape\":\"\"}},\"name\":\"Arunachal Pradesh\",\"offsetgroup\":\"Arunachal Pradesh\",\"orientation\":\"v\",\"showlegend\":true,\"textposition\":\"auto\",\"x\":[\"Arunachal Pradesh\"],\"xaxis\":\"x\",\"y\":[2],\"yaxis\":\"y\",\"type\":\"bar\"},{\"alignmentgroup\":\"True\",\"hovertemplate\":\"State=%{x}\\u003cbr\\u003eCount=%{y}\\u003cextra\\u003e\\u003c\\u002fextra\\u003e\",\"legendgroup\":\"Sikkim\",\"marker\":{\"color\":\"#B6E880\",\"pattern\":{\"shape\":\"\"}},\"name\":\"Sikkim\",\"offsetgroup\":\"Sikkim\",\"orientation\":\"v\",\"showlegend\":true,\"textposition\":\"auto\",\"x\":[\"Sikkim\"],\"xaxis\":\"x\",\"y\":[2],\"yaxis\":\"y\",\"type\":\"bar\"},{\"alignmentgroup\":\"True\",\"hovertemplate\":\"State=%{x}\\u003cbr\\u003eCount=%{y}\\u003cextra\\u003e\\u003c\\u002fextra\\u003e\",\"legendgroup\":\"Meghalaya\",\"marker\":{\"color\":\"#FF97FF\",\"pattern\":{\"shape\":\"\"}},\"name\":\"Meghalaya\",\"offsetgroup\":\"Meghalaya\",\"orientation\":\"v\",\"showlegend\":true,\"textposition\":\"auto\",\"x\":[\"Meghalaya\"],\"xaxis\":\"x\",\"y\":[1],\"yaxis\":\"y\",\"type\":\"bar\"},{\"alignmentgroup\":\"True\",\"hovertemplate\":\"State=%{x}\\u003cbr\\u003eCount=%{y}\\u003cextra\\u003e\\u003c\\u002fextra\\u003e\",\"legendgroup\":\"Tripura\",\"marker\":{\"color\":\"#FECB52\",\"pattern\":{\"shape\":\"\"}},\"name\":\"Tripura\",\"offsetgroup\":\"Tripura\",\"orientation\":\"v\",\"showlegend\":true,\"textposition\":\"auto\",\"x\":[\"Tripura\"],\"xaxis\":\"x\",\"y\":[1],\"yaxis\":\"y\",\"type\":\"bar\"},{\"alignmentgroup\":\"True\",\"hovertemplate\":\"State=%{x}\\u003cbr\\u003eCount=%{y}\\u003cextra\\u003e\\u003c\\u002fextra\\u003e\",\"legendgroup\":\"Mizoram\",\"marker\":{\"color\":\"#636EFA\",\"pattern\":{\"shape\":\"\"}},\"name\":\"Mizoram\",\"offsetgroup\":\"Mizoram\",\"orientation\":\"v\",\"showlegend\":true,\"textposition\":\"auto\",\"x\":[\"Mizoram\"],\"xaxis\":\"x\",\"y\":[1],\"yaxis\":\"y\",\"type\":\"bar\"},{\"alignmentgroup\":\"True\",\"hovertemplate\":\"State=%{x}\\u003cbr\\u003eCount=%{y}\\u003cextra\\u003e\\u003c\\u002fextra\\u003e\",\"legendgroup\":\"Nagaland\",\"marker\":{\"color\":\"#EF553B\",\"pattern\":{\"shape\":\"\"}},\"name\":\"Nagaland\",\"offsetgroup\":\"Nagaland\",\"orientation\":\"v\",\"showlegend\":true,\"textposition\":\"auto\",\"x\":[\"Nagaland\"],\"xaxis\":\"x\",\"y\":[1],\"yaxis\":\"y\",\"type\":\"bar\"}],                        {\"template\":{\"data\":{\"histogram2dcontour\":[{\"type\":\"histogram2dcontour\",\"colorbar\":{\"outlinewidth\":0,\"ticks\":\"\"},\"colorscale\":[[0.0,\"#0d0887\"],[0.1111111111111111,\"#46039f\"],[0.2222222222222222,\"#7201a8\"],[0.3333333333333333,\"#9c179e\"],[0.4444444444444444,\"#bd3786\"],[0.5555555555555556,\"#d8576b\"],[0.6666666666666666,\"#ed7953\"],[0.7777777777777778,\"#fb9f3a\"],[0.8888888888888888,\"#fdca26\"],[1.0,\"#f0f921\"]]}],\"choropleth\":[{\"type\":\"choropleth\",\"colorbar\":{\"outlinewidth\":0,\"ticks\":\"\"}}],\"histogram2d\":[{\"type\":\"histogram2d\",\"colorbar\":{\"outlinewidth\":0,\"ticks\":\"\"},\"colorscale\":[[0.0,\"#0d0887\"],[0.1111111111111111,\"#46039f\"],[0.2222222222222222,\"#7201a8\"],[0.3333333333333333,\"#9c179e\"],[0.4444444444444444,\"#bd3786\"],[0.5555555555555556,\"#d8576b\"],[0.6666666666666666,\"#ed7953\"],[0.7777777777777778,\"#fb9f3a\"],[0.8888888888888888,\"#fdca26\"],[1.0,\"#f0f921\"]]}],\"heatmap\":[{\"type\":\"heatmap\",\"colorbar\":{\"outlinewidth\":0,\"ticks\":\"\"},\"colorscale\":[[0.0,\"#0d0887\"],[0.1111111111111111,\"#46039f\"],[0.2222222222222222,\"#7201a8\"],[0.3333333333333333,\"#9c179e\"],[0.4444444444444444,\"#bd3786\"],[0.5555555555555556,\"#d8576b\"],[0.6666666666666666,\"#ed7953\"],[0.7777777777777778,\"#fb9f3a\"],[0.8888888888888888,\"#fdca26\"],[1.0,\"#f0f921\"]]}],\"heatmapgl\":[{\"type\":\"heatmapgl\",\"colorbar\":{\"outlinewidth\":0,\"ticks\":\"\"},\"colorscale\":[[0.0,\"#0d0887\"],[0.1111111111111111,\"#46039f\"],[0.2222222222222222,\"#7201a8\"],[0.3333333333333333,\"#9c179e\"],[0.4444444444444444,\"#bd3786\"],[0.5555555555555556,\"#d8576b\"],[0.6666666666666666,\"#ed7953\"],[0.7777777777777778,\"#fb9f3a\"],[0.8888888888888888,\"#fdca26\"],[1.0,\"#f0f921\"]]}],\"contourcarpet\":[{\"type\":\"contourcarpet\",\"colorbar\":{\"outlinewidth\":0,\"ticks\":\"\"}}],\"contour\":[{\"type\":\"contour\",\"colorbar\":{\"outlinewidth\":0,\"ticks\":\"\"},\"colorscale\":[[0.0,\"#0d0887\"],[0.1111111111111111,\"#46039f\"],[0.2222222222222222,\"#7201a8\"],[0.3333333333333333,\"#9c179e\"],[0.4444444444444444,\"#bd3786\"],[0.5555555555555556,\"#d8576b\"],[0.6666666666666666,\"#ed7953\"],[0.7777777777777778,\"#fb9f3a\"],[0.8888888888888888,\"#fdca26\"],[1.0,\"#f0f921\"]]}],\"surface\":[{\"type\":\"surface\",\"colorbar\":{\"outlinewidth\":0,\"ticks\":\"\"},\"colorscale\":[[0.0,\"#0d0887\"],[0.1111111111111111,\"#46039f\"],[0.2222222222222222,\"#7201a8\"],[0.3333333333333333,\"#9c179e\"],[0.4444444444444444,\"#bd3786\"],[0.5555555555555556,\"#d8576b\"],[0.6666666666666666,\"#ed7953\"],[0.7777777777777778,\"#fb9f3a\"],[0.8888888888888888,\"#fdca26\"],[1.0,\"#f0f921\"]]}],\"mesh3d\":[{\"type\":\"mesh3d\",\"colorbar\":{\"outlinewidth\":0,\"ticks\":\"\"}}],\"scatter\":[{\"fillpattern\":{\"fillmode\":\"overlay\",\"size\":10,\"solidity\":0.2},\"type\":\"scatter\"}],\"parcoords\":[{\"type\":\"parcoords\",\"line\":{\"colorbar\":{\"outlinewidth\":0,\"ticks\":\"\"}}}],\"scatterpolargl\":[{\"type\":\"scatterpolargl\",\"marker\":{\"colorbar\":{\"outlinewidth\":0,\"ticks\":\"\"}}}],\"bar\":[{\"error_x\":{\"color\":\"#2a3f5f\"},\"error_y\":{\"color\":\"#2a3f5f\"},\"marker\":{\"line\":{\"color\":\"#E5ECF6\",\"width\":0.5},\"pattern\":{\"fillmode\":\"overlay\",\"size\":10,\"solidity\":0.2}},\"type\":\"bar\"}],\"scattergeo\":[{\"type\":\"scattergeo\",\"marker\":{\"colorbar\":{\"outlinewidth\":0,\"ticks\":\"\"}}}],\"scatterpolar\":[{\"type\":\"scatterpolar\",\"marker\":{\"colorbar\":{\"outlinewidth\":0,\"ticks\":\"\"}}}],\"histogram\":[{\"marker\":{\"pattern\":{\"fillmode\":\"overlay\",\"size\":10,\"solidity\":0.2}},\"type\":\"histogram\"}],\"scattergl\":[{\"type\":\"scattergl\",\"marker\":{\"colorbar\":{\"outlinewidth\":0,\"ticks\":\"\"}}}],\"scatter3d\":[{\"type\":\"scatter3d\",\"line\":{\"colorbar\":{\"outlinewidth\":0,\"ticks\":\"\"}},\"marker\":{\"colorbar\":{\"outlinewidth\":0,\"ticks\":\"\"}}}],\"scattermapbox\":[{\"type\":\"scattermapbox\",\"marker\":{\"colorbar\":{\"outlinewidth\":0,\"ticks\":\"\"}}}],\"scatterternary\":[{\"type\":\"scatterternary\",\"marker\":{\"colorbar\":{\"outlinewidth\":0,\"ticks\":\"\"}}}],\"scattercarpet\":[{\"type\":\"scattercarpet\",\"marker\":{\"colorbar\":{\"outlinewidth\":0,\"ticks\":\"\"}}}],\"carpet\":[{\"aaxis\":{\"endlinecolor\":\"#2a3f5f\",\"gridcolor\":\"white\",\"linecolor\":\"white\",\"minorgridcolor\":\"white\",\"startlinecolor\":\"#2a3f5f\"},\"baxis\":{\"endlinecolor\":\"#2a3f5f\",\"gridcolor\":\"white\",\"linecolor\":\"white\",\"minorgridcolor\":\"white\",\"startlinecolor\":\"#2a3f5f\"},\"type\":\"carpet\"}],\"table\":[{\"cells\":{\"fill\":{\"color\":\"#EBF0F8\"},\"line\":{\"color\":\"white\"}},\"header\":{\"fill\":{\"color\":\"#C8D4E3\"},\"line\":{\"color\":\"white\"}},\"type\":\"table\"}],\"barpolar\":[{\"marker\":{\"line\":{\"color\":\"#E5ECF6\",\"width\":0.5},\"pattern\":{\"fillmode\":\"overlay\",\"size\":10,\"solidity\":0.2}},\"type\":\"barpolar\"}],\"pie\":[{\"automargin\":true,\"type\":\"pie\"}]},\"layout\":{\"autotypenumbers\":\"strict\",\"colorway\":[\"#636efa\",\"#EF553B\",\"#00cc96\",\"#ab63fa\",\"#FFA15A\",\"#19d3f3\",\"#FF6692\",\"#B6E880\",\"#FF97FF\",\"#FECB52\"],\"font\":{\"color\":\"#2a3f5f\"},\"hovermode\":\"closest\",\"hoverlabel\":{\"align\":\"left\"},\"paper_bgcolor\":\"white\",\"plot_bgcolor\":\"#E5ECF6\",\"polar\":{\"bgcolor\":\"#E5ECF6\",\"angularaxis\":{\"gridcolor\":\"white\",\"linecolor\":\"white\",\"ticks\":\"\"},\"radialaxis\":{\"gridcolor\":\"white\",\"linecolor\":\"white\",\"ticks\":\"\"}},\"ternary\":{\"bgcolor\":\"#E5ECF6\",\"aaxis\":{\"gridcolor\":\"white\",\"linecolor\":\"white\",\"ticks\":\"\"},\"baxis\":{\"gridcolor\":\"white\",\"linecolor\":\"white\",\"ticks\":\"\"},\"caxis\":{\"gridcolor\":\"white\",\"linecolor\":\"white\",\"ticks\":\"\"}},\"coloraxis\":{\"colorbar\":{\"outlinewidth\":0,\"ticks\":\"\"}},\"colorscale\":{\"sequential\":[[0.0,\"#0d0887\"],[0.1111111111111111,\"#46039f\"],[0.2222222222222222,\"#7201a8\"],[0.3333333333333333,\"#9c179e\"],[0.4444444444444444,\"#bd3786\"],[0.5555555555555556,\"#d8576b\"],[0.6666666666666666,\"#ed7953\"],[0.7777777777777778,\"#fb9f3a\"],[0.8888888888888888,\"#fdca26\"],[1.0,\"#f0f921\"]],\"sequentialminus\":[[0.0,\"#0d0887\"],[0.1111111111111111,\"#46039f\"],[0.2222222222222222,\"#7201a8\"],[0.3333333333333333,\"#9c179e\"],[0.4444444444444444,\"#bd3786\"],[0.5555555555555556,\"#d8576b\"],[0.6666666666666666,\"#ed7953\"],[0.7777777777777778,\"#fb9f3a\"],[0.8888888888888888,\"#fdca26\"],[1.0,\"#f0f921\"]],\"diverging\":[[0,\"#8e0152\"],[0.1,\"#c51b7d\"],[0.2,\"#de77ae\"],[0.3,\"#f1b6da\"],[0.4,\"#fde0ef\"],[0.5,\"#f7f7f7\"],[0.6,\"#e6f5d0\"],[0.7,\"#b8e186\"],[0.8,\"#7fbc41\"],[0.9,\"#4d9221\"],[1,\"#276419\"]]},\"xaxis\":{\"gridcolor\":\"white\",\"linecolor\":\"white\",\"ticks\":\"\",\"title\":{\"standoff\":15},\"zerolinecolor\":\"white\",\"automargin\":true,\"zerolinewidth\":2},\"yaxis\":{\"gridcolor\":\"white\",\"linecolor\":\"white\",\"ticks\":\"\",\"title\":{\"standoff\":15},\"zerolinecolor\":\"white\",\"automargin\":true,\"zerolinewidth\":2},\"scene\":{\"xaxis\":{\"backgroundcolor\":\"#E5ECF6\",\"gridcolor\":\"white\",\"linecolor\":\"white\",\"showbackground\":true,\"ticks\":\"\",\"zerolinecolor\":\"white\",\"gridwidth\":2},\"yaxis\":{\"backgroundcolor\":\"#E5ECF6\",\"gridcolor\":\"white\",\"linecolor\":\"white\",\"showbackground\":true,\"ticks\":\"\",\"zerolinecolor\":\"white\",\"gridwidth\":2},\"zaxis\":{\"backgroundcolor\":\"#E5ECF6\",\"gridcolor\":\"white\",\"linecolor\":\"white\",\"showbackground\":true,\"ticks\":\"\",\"zerolinecolor\":\"white\",\"gridwidth\":2}},\"shapedefaults\":{\"line\":{\"color\":\"#2a3f5f\"}},\"annotationdefaults\":{\"arrowcolor\":\"#2a3f5f\",\"arrowhead\":0,\"arrowwidth\":1},\"geo\":{\"bgcolor\":\"white\",\"landcolor\":\"#E5ECF6\",\"subunitcolor\":\"white\",\"showland\":true,\"showlakes\":true,\"lakecolor\":\"white\"},\"title\":{\"x\":0.05},\"mapbox\":{\"style\":\"light\"}}},\"xaxis\":{\"anchor\":\"y\",\"domain\":[0.0,1.0],\"title\":{\"text\":\"State\"},\"categoryorder\":\"array\",\"categoryarray\":[\"Tamil Nadu\",\"Maharashtra\",\"Uttar Pradesh\",\"Karnataka\",\"Andhra Pradesh\",\"Telangana\",\"Haryana\",\"West Bengal\",\"Delhi\",\"Rajasthan\",\"Madhya Pradesh\",\"Odisha\",\"Gujarat\",\"Punjab\",\"Bihar\",\"Assam\",\"Jharkhand\",\"Uttarakhand\",\"Jammu and\",\"Himachal Pradesh\",\"Kerala\",\"Chhattisgarh\",\"Chandigarh\",\"Puducherry\",\"Manipur\",\"Goa\",\"Arunachal Pradesh\",\"Sikkim\",\"Meghalaya\",\"Tripura\",\"Mizoram\",\"Nagaland\"],\"tickangle\":-90},\"yaxis\":{\"anchor\":\"x\",\"domain\":[0.0,1.0],\"title\":{\"text\":\"Count\"}},\"legend\":{\"title\":{\"text\":\"State\"},\"tracegroupgap\":0},\"title\":{\"text\":\"Count Plot of State-wise Distribution of Colleges\"},\"barmode\":\"relative\",\"height\":600,\"width\":1000},                        {\"responsive\": true}                    ).then(function(){\n",
       "                            \n",
       "var gd = document.getElementById('8737538d-bf6f-462e-8bdc-765dda855fe7');\n",
       "var x = new MutationObserver(function (mutations, observer) {{\n",
       "        var display = window.getComputedStyle(gd).display;\n",
       "        if (!display || display === 'none') {{\n",
       "            console.log([gd, 'removed!']);\n",
       "            Plotly.purge(gd);\n",
       "            observer.disconnect();\n",
       "        }}\n",
       "}});\n",
       "\n",
       "// Listen for the removal of the full notebook cells\n",
       "var notebookContainer = gd.closest('#notebook-container');\n",
       "if (notebookContainer) {{\n",
       "    x.observe(notebookContainer, {childList: true});\n",
       "}}\n",
       "\n",
       "// Listen for the clearing of the current output cell\n",
       "var outputEl = gd.closest('.output');\n",
       "if (outputEl) {{\n",
       "    x.observe(outputEl, {childList: true});\n",
       "}}\n",
       "\n",
       "                        })                };                });            </script>        </div>"
      ]
     },
     "metadata": {},
     "output_type": "display_data"
    }
   ],
   "source": [
    "# Count occurrences of each state\n",
    "state_counts = df['State'].value_counts().reset_index()\n",
    "state_counts.columns = ['State', 'Count']\n",
    "\n",
    "# Create a bar chart\n",
    "fig = px.bar(\n",
    "    state_counts,\n",
    "    x='State',\n",
    "    y='Count',\n",
    "    title='Count Plot of State-wise Distribution of Colleges',\n",
    "    color='State',  # Color by State\n",
    "    color_discrete_sequence=px.colors.qualitative.Plotly  # Use an alternative qualitative palette\n",
    ")\n",
    "\n",
    "# Update layout for better readability and set figure size\n",
    "fig.update_layout(\n",
    "    xaxis_title='State',\n",
    "    yaxis_title='Count',\n",
    "    xaxis_tickangle=-90,  # Rotate x-axis labels\n",
    "    height=600,  # Set height of the plot\n",
    "    width=1000,  # Set width of the plot\n",
    ")\n",
    "\n",
    "fig.write_html(\"State_counts.html\")\n"
   ]
  },
  {
   "cell_type": "markdown",
   "id": "c5bbc837-2194-4d73-8dcb-9f82a7c43b7b",
   "metadata": {},
   "source": [
    "#### Observation:\n",
    "\n",
    "- The count plot  shows distribution of Engineering colleges based on states.\n",
    "- Tamilnadu has the maximum number `(80)` of Engineering colleges followed by maharashtra `(54)`.\n",
    "- Small states like `Nagaland, Meghalaya,Tripura and Mizoram` has the least number `(1)` of Engineering colleges."
   ]
  },
  {
   "cell_type": "code",
   "execution_count": 200,
   "id": "9a2f51c6-fc2e-4f1c-abd1-3d7e8df74612",
   "metadata": {},
   "outputs": [
    {
     "data": {
      "application/vnd.plotly.v1+json": {
       "config": {
        "plotlyServerURL": "https://plot.ly"
       },
       "data": [
        {
         "alignmentgroup": "True",
         "hovertemplate": "Ownership=%{x}<br>Count=%{y}<extra></extra>",
         "legendgroup": "Private",
         "marker": {
          "color": "rgb(102, 197, 204)",
          "pattern": {
           "shape": ""
          }
         },
         "name": "Private",
         "offsetgroup": "Private",
         "orientation": "v",
         "showlegend": true,
         "textposition": "auto",
         "type": "bar",
         "x": [
          "Private"
         ],
         "xaxis": "x",
         "y": [
          339
         ],
         "yaxis": "y"
        },
        {
         "alignmentgroup": "True",
         "hovertemplate": "Ownership=%{x}<br>Count=%{y}<extra></extra>",
         "legendgroup": "Public/Govt",
         "marker": {
          "color": "rgb(246, 207, 113)",
          "pattern": {
           "shape": ""
          }
         },
         "name": "Public/Govt",
         "offsetgroup": "Public/Govt",
         "orientation": "v",
         "showlegend": true,
         "textposition": "auto",
         "type": "bar",
         "x": [
          "Public/Govt"
         ],
         "xaxis": "x",
         "y": [
          192
         ],
         "yaxis": "y"
        }
       ],
       "layout": {
        "barmode": "relative",
        "height": 400,
        "legend": {
         "title": {
          "text": "Ownership"
         },
         "tracegroupgap": 0
        },
        "template": {
         "data": {
          "bar": [
           {
            "error_x": {
             "color": "#2a3f5f"
            },
            "error_y": {
             "color": "#2a3f5f"
            },
            "marker": {
             "line": {
              "color": "#E5ECF6",
              "width": 0.5
             },
             "pattern": {
              "fillmode": "overlay",
              "size": 10,
              "solidity": 0.2
             }
            },
            "type": "bar"
           }
          ],
          "barpolar": [
           {
            "marker": {
             "line": {
              "color": "#E5ECF6",
              "width": 0.5
             },
             "pattern": {
              "fillmode": "overlay",
              "size": 10,
              "solidity": 0.2
             }
            },
            "type": "barpolar"
           }
          ],
          "carpet": [
           {
            "aaxis": {
             "endlinecolor": "#2a3f5f",
             "gridcolor": "white",
             "linecolor": "white",
             "minorgridcolor": "white",
             "startlinecolor": "#2a3f5f"
            },
            "baxis": {
             "endlinecolor": "#2a3f5f",
             "gridcolor": "white",
             "linecolor": "white",
             "minorgridcolor": "white",
             "startlinecolor": "#2a3f5f"
            },
            "type": "carpet"
           }
          ],
          "choropleth": [
           {
            "colorbar": {
             "outlinewidth": 0,
             "ticks": ""
            },
            "type": "choropleth"
           }
          ],
          "contour": [
           {
            "colorbar": {
             "outlinewidth": 0,
             "ticks": ""
            },
            "colorscale": [
             [
              0,
              "#0d0887"
             ],
             [
              0.1111111111111111,
              "#46039f"
             ],
             [
              0.2222222222222222,
              "#7201a8"
             ],
             [
              0.3333333333333333,
              "#9c179e"
             ],
             [
              0.4444444444444444,
              "#bd3786"
             ],
             [
              0.5555555555555556,
              "#d8576b"
             ],
             [
              0.6666666666666666,
              "#ed7953"
             ],
             [
              0.7777777777777778,
              "#fb9f3a"
             ],
             [
              0.8888888888888888,
              "#fdca26"
             ],
             [
              1,
              "#f0f921"
             ]
            ],
            "type": "contour"
           }
          ],
          "contourcarpet": [
           {
            "colorbar": {
             "outlinewidth": 0,
             "ticks": ""
            },
            "type": "contourcarpet"
           }
          ],
          "heatmap": [
           {
            "colorbar": {
             "outlinewidth": 0,
             "ticks": ""
            },
            "colorscale": [
             [
              0,
              "#0d0887"
             ],
             [
              0.1111111111111111,
              "#46039f"
             ],
             [
              0.2222222222222222,
              "#7201a8"
             ],
             [
              0.3333333333333333,
              "#9c179e"
             ],
             [
              0.4444444444444444,
              "#bd3786"
             ],
             [
              0.5555555555555556,
              "#d8576b"
             ],
             [
              0.6666666666666666,
              "#ed7953"
             ],
             [
              0.7777777777777778,
              "#fb9f3a"
             ],
             [
              0.8888888888888888,
              "#fdca26"
             ],
             [
              1,
              "#f0f921"
             ]
            ],
            "type": "heatmap"
           }
          ],
          "heatmapgl": [
           {
            "colorbar": {
             "outlinewidth": 0,
             "ticks": ""
            },
            "colorscale": [
             [
              0,
              "#0d0887"
             ],
             [
              0.1111111111111111,
              "#46039f"
             ],
             [
              0.2222222222222222,
              "#7201a8"
             ],
             [
              0.3333333333333333,
              "#9c179e"
             ],
             [
              0.4444444444444444,
              "#bd3786"
             ],
             [
              0.5555555555555556,
              "#d8576b"
             ],
             [
              0.6666666666666666,
              "#ed7953"
             ],
             [
              0.7777777777777778,
              "#fb9f3a"
             ],
             [
              0.8888888888888888,
              "#fdca26"
             ],
             [
              1,
              "#f0f921"
             ]
            ],
            "type": "heatmapgl"
           }
          ],
          "histogram": [
           {
            "marker": {
             "pattern": {
              "fillmode": "overlay",
              "size": 10,
              "solidity": 0.2
             }
            },
            "type": "histogram"
           }
          ],
          "histogram2d": [
           {
            "colorbar": {
             "outlinewidth": 0,
             "ticks": ""
            },
            "colorscale": [
             [
              0,
              "#0d0887"
             ],
             [
              0.1111111111111111,
              "#46039f"
             ],
             [
              0.2222222222222222,
              "#7201a8"
             ],
             [
              0.3333333333333333,
              "#9c179e"
             ],
             [
              0.4444444444444444,
              "#bd3786"
             ],
             [
              0.5555555555555556,
              "#d8576b"
             ],
             [
              0.6666666666666666,
              "#ed7953"
             ],
             [
              0.7777777777777778,
              "#fb9f3a"
             ],
             [
              0.8888888888888888,
              "#fdca26"
             ],
             [
              1,
              "#f0f921"
             ]
            ],
            "type": "histogram2d"
           }
          ],
          "histogram2dcontour": [
           {
            "colorbar": {
             "outlinewidth": 0,
             "ticks": ""
            },
            "colorscale": [
             [
              0,
              "#0d0887"
             ],
             [
              0.1111111111111111,
              "#46039f"
             ],
             [
              0.2222222222222222,
              "#7201a8"
             ],
             [
              0.3333333333333333,
              "#9c179e"
             ],
             [
              0.4444444444444444,
              "#bd3786"
             ],
             [
              0.5555555555555556,
              "#d8576b"
             ],
             [
              0.6666666666666666,
              "#ed7953"
             ],
             [
              0.7777777777777778,
              "#fb9f3a"
             ],
             [
              0.8888888888888888,
              "#fdca26"
             ],
             [
              1,
              "#f0f921"
             ]
            ],
            "type": "histogram2dcontour"
           }
          ],
          "mesh3d": [
           {
            "colorbar": {
             "outlinewidth": 0,
             "ticks": ""
            },
            "type": "mesh3d"
           }
          ],
          "parcoords": [
           {
            "line": {
             "colorbar": {
              "outlinewidth": 0,
              "ticks": ""
             }
            },
            "type": "parcoords"
           }
          ],
          "pie": [
           {
            "automargin": true,
            "type": "pie"
           }
          ],
          "scatter": [
           {
            "fillpattern": {
             "fillmode": "overlay",
             "size": 10,
             "solidity": 0.2
            },
            "type": "scatter"
           }
          ],
          "scatter3d": [
           {
            "line": {
             "colorbar": {
              "outlinewidth": 0,
              "ticks": ""
             }
            },
            "marker": {
             "colorbar": {
              "outlinewidth": 0,
              "ticks": ""
             }
            },
            "type": "scatter3d"
           }
          ],
          "scattercarpet": [
           {
            "marker": {
             "colorbar": {
              "outlinewidth": 0,
              "ticks": ""
             }
            },
            "type": "scattercarpet"
           }
          ],
          "scattergeo": [
           {
            "marker": {
             "colorbar": {
              "outlinewidth": 0,
              "ticks": ""
             }
            },
            "type": "scattergeo"
           }
          ],
          "scattergl": [
           {
            "marker": {
             "colorbar": {
              "outlinewidth": 0,
              "ticks": ""
             }
            },
            "type": "scattergl"
           }
          ],
          "scattermapbox": [
           {
            "marker": {
             "colorbar": {
              "outlinewidth": 0,
              "ticks": ""
             }
            },
            "type": "scattermapbox"
           }
          ],
          "scatterpolar": [
           {
            "marker": {
             "colorbar": {
              "outlinewidth": 0,
              "ticks": ""
             }
            },
            "type": "scatterpolar"
           }
          ],
          "scatterpolargl": [
           {
            "marker": {
             "colorbar": {
              "outlinewidth": 0,
              "ticks": ""
             }
            },
            "type": "scatterpolargl"
           }
          ],
          "scatterternary": [
           {
            "marker": {
             "colorbar": {
              "outlinewidth": 0,
              "ticks": ""
             }
            },
            "type": "scatterternary"
           }
          ],
          "surface": [
           {
            "colorbar": {
             "outlinewidth": 0,
             "ticks": ""
            },
            "colorscale": [
             [
              0,
              "#0d0887"
             ],
             [
              0.1111111111111111,
              "#46039f"
             ],
             [
              0.2222222222222222,
              "#7201a8"
             ],
             [
              0.3333333333333333,
              "#9c179e"
             ],
             [
              0.4444444444444444,
              "#bd3786"
             ],
             [
              0.5555555555555556,
              "#d8576b"
             ],
             [
              0.6666666666666666,
              "#ed7953"
             ],
             [
              0.7777777777777778,
              "#fb9f3a"
             ],
             [
              0.8888888888888888,
              "#fdca26"
             ],
             [
              1,
              "#f0f921"
             ]
            ],
            "type": "surface"
           }
          ],
          "table": [
           {
            "cells": {
             "fill": {
              "color": "#EBF0F8"
             },
             "line": {
              "color": "white"
             }
            },
            "header": {
             "fill": {
              "color": "#C8D4E3"
             },
             "line": {
              "color": "white"
             }
            },
            "type": "table"
           }
          ]
         },
         "layout": {
          "annotationdefaults": {
           "arrowcolor": "#2a3f5f",
           "arrowhead": 0,
           "arrowwidth": 1
          },
          "autotypenumbers": "strict",
          "coloraxis": {
           "colorbar": {
            "outlinewidth": 0,
            "ticks": ""
           }
          },
          "colorscale": {
           "diverging": [
            [
             0,
             "#8e0152"
            ],
            [
             0.1,
             "#c51b7d"
            ],
            [
             0.2,
             "#de77ae"
            ],
            [
             0.3,
             "#f1b6da"
            ],
            [
             0.4,
             "#fde0ef"
            ],
            [
             0.5,
             "#f7f7f7"
            ],
            [
             0.6,
             "#e6f5d0"
            ],
            [
             0.7,
             "#b8e186"
            ],
            [
             0.8,
             "#7fbc41"
            ],
            [
             0.9,
             "#4d9221"
            ],
            [
             1,
             "#276419"
            ]
           ],
           "sequential": [
            [
             0,
             "#0d0887"
            ],
            [
             0.1111111111111111,
             "#46039f"
            ],
            [
             0.2222222222222222,
             "#7201a8"
            ],
            [
             0.3333333333333333,
             "#9c179e"
            ],
            [
             0.4444444444444444,
             "#bd3786"
            ],
            [
             0.5555555555555556,
             "#d8576b"
            ],
            [
             0.6666666666666666,
             "#ed7953"
            ],
            [
             0.7777777777777778,
             "#fb9f3a"
            ],
            [
             0.8888888888888888,
             "#fdca26"
            ],
            [
             1,
             "#f0f921"
            ]
           ],
           "sequentialminus": [
            [
             0,
             "#0d0887"
            ],
            [
             0.1111111111111111,
             "#46039f"
            ],
            [
             0.2222222222222222,
             "#7201a8"
            ],
            [
             0.3333333333333333,
             "#9c179e"
            ],
            [
             0.4444444444444444,
             "#bd3786"
            ],
            [
             0.5555555555555556,
             "#d8576b"
            ],
            [
             0.6666666666666666,
             "#ed7953"
            ],
            [
             0.7777777777777778,
             "#fb9f3a"
            ],
            [
             0.8888888888888888,
             "#fdca26"
            ],
            [
             1,
             "#f0f921"
            ]
           ]
          },
          "colorway": [
           "#636efa",
           "#EF553B",
           "#00cc96",
           "#ab63fa",
           "#FFA15A",
           "#19d3f3",
           "#FF6692",
           "#B6E880",
           "#FF97FF",
           "#FECB52"
          ],
          "font": {
           "color": "#2a3f5f"
          },
          "geo": {
           "bgcolor": "white",
           "lakecolor": "white",
           "landcolor": "#E5ECF6",
           "showlakes": true,
           "showland": true,
           "subunitcolor": "white"
          },
          "hoverlabel": {
           "align": "left"
          },
          "hovermode": "closest",
          "mapbox": {
           "style": "light"
          },
          "paper_bgcolor": "white",
          "plot_bgcolor": "#E5ECF6",
          "polar": {
           "angularaxis": {
            "gridcolor": "white",
            "linecolor": "white",
            "ticks": ""
           },
           "bgcolor": "#E5ECF6",
           "radialaxis": {
            "gridcolor": "white",
            "linecolor": "white",
            "ticks": ""
           }
          },
          "scene": {
           "xaxis": {
            "backgroundcolor": "#E5ECF6",
            "gridcolor": "white",
            "gridwidth": 2,
            "linecolor": "white",
            "showbackground": true,
            "ticks": "",
            "zerolinecolor": "white"
           },
           "yaxis": {
            "backgroundcolor": "#E5ECF6",
            "gridcolor": "white",
            "gridwidth": 2,
            "linecolor": "white",
            "showbackground": true,
            "ticks": "",
            "zerolinecolor": "white"
           },
           "zaxis": {
            "backgroundcolor": "#E5ECF6",
            "gridcolor": "white",
            "gridwidth": 2,
            "linecolor": "white",
            "showbackground": true,
            "ticks": "",
            "zerolinecolor": "white"
           }
          },
          "shapedefaults": {
           "line": {
            "color": "#2a3f5f"
           }
          },
          "ternary": {
           "aaxis": {
            "gridcolor": "white",
            "linecolor": "white",
            "ticks": ""
           },
           "baxis": {
            "gridcolor": "white",
            "linecolor": "white",
            "ticks": ""
           },
           "bgcolor": "#E5ECF6",
           "caxis": {
            "gridcolor": "white",
            "linecolor": "white",
            "ticks": ""
           }
          },
          "title": {
           "x": 0.05
          },
          "xaxis": {
           "automargin": true,
           "gridcolor": "white",
           "linecolor": "white",
           "ticks": "",
           "title": {
            "standoff": 15
           },
           "zerolinecolor": "white",
           "zerolinewidth": 2
          },
          "yaxis": {
           "automargin": true,
           "gridcolor": "white",
           "linecolor": "white",
           "ticks": "",
           "title": {
            "standoff": 15
           },
           "zerolinecolor": "white",
           "zerolinewidth": 2
          }
         }
        },
        "title": {
         "text": "Count of Ownership Categories"
        },
        "width": 800,
        "xaxis": {
         "anchor": "y",
         "autorange": true,
         "categoryarray": [
          "Private",
          "Public/Govt"
         ],
         "categoryorder": "array",
         "domain": [
          0,
          1
         ],
         "range": [
          -0.5,
          1.5
         ],
         "title": {
          "text": "Ownership"
         },
         "type": "category"
        },
        "yaxis": {
         "anchor": "x",
         "autorange": true,
         "domain": [
          0,
          1
         ],
         "range": [
          0,
          356.8421052631579
         ],
         "title": {
          "text": "Count"
         },
         "type": "linear"
        }
       }
      },
      "image/png": "[encoded data removed]",
      "text/html": [
       "<div>                            <div id=\"1dd2454f-6614-4607-b977-80f9962bba6d\" class=\"plotly-graph-div\" style=\"height:400px; width:800px;\"></div>            <script type=\"text/javascript\">                require([\"plotly\"], function(Plotly) {                    window.PLOTLYENV=window.PLOTLYENV || {};                                    if (document.getElementById(\"1dd2454f-6614-4607-b977-80f9962bba6d\")) {                    Plotly.newPlot(                        \"1dd2454f-6614-4607-b977-80f9962bba6d\",                        [{\"alignmentgroup\":\"True\",\"hovertemplate\":\"Ownership=%{x}\\u003cbr\\u003eCount=%{y}\\u003cextra\\u003e\\u003c\\u002fextra\\u003e\",\"legendgroup\":\"Private\",\"marker\":{\"color\":\"rgb(102, 197, 204)\",\"pattern\":{\"shape\":\"\"}},\"name\":\"Private\",\"offsetgroup\":\"Private\",\"orientation\":\"v\",\"showlegend\":true,\"textposition\":\"auto\",\"x\":[\"Private\"],\"xaxis\":\"x\",\"y\":[339],\"yaxis\":\"y\",\"type\":\"bar\"},{\"alignmentgroup\":\"True\",\"hovertemplate\":\"Ownership=%{x}\\u003cbr\\u003eCount=%{y}\\u003cextra\\u003e\\u003c\\u002fextra\\u003e\",\"legendgroup\":\"Public\\u002fGovt\",\"marker\":{\"color\":\"rgb(246, 207, 113)\",\"pattern\":{\"shape\":\"\"}},\"name\":\"Public\\u002fGovt\",\"offsetgroup\":\"Public\\u002fGovt\",\"orientation\":\"v\",\"showlegend\":true,\"textposition\":\"auto\",\"x\":[\"Public\\u002fGovt\"],\"xaxis\":\"x\",\"y\":[192],\"yaxis\":\"y\",\"type\":\"bar\"}],                        {\"template\":{\"data\":{\"histogram2dcontour\":[{\"type\":\"histogram2dcontour\",\"colorbar\":{\"outlinewidth\":0,\"ticks\":\"\"},\"colorscale\":[[0.0,\"#0d0887\"],[0.1111111111111111,\"#46039f\"],[0.2222222222222222,\"#7201a8\"],[0.3333333333333333,\"#9c179e\"],[0.4444444444444444,\"#bd3786\"],[0.5555555555555556,\"#d8576b\"],[0.6666666666666666,\"#ed7953\"],[0.7777777777777778,\"#fb9f3a\"],[0.8888888888888888,\"#fdca26\"],[1.0,\"#f0f921\"]]}],\"choropleth\":[{\"type\":\"choropleth\",\"colorbar\":{\"outlinewidth\":0,\"ticks\":\"\"}}],\"histogram2d\":[{\"type\":\"histogram2d\",\"colorbar\":{\"outlinewidth\":0,\"ticks\":\"\"},\"colorscale\":[[0.0,\"#0d0887\"],[0.1111111111111111,\"#46039f\"],[0.2222222222222222,\"#7201a8\"],[0.3333333333333333,\"#9c179e\"],[0.4444444444444444,\"#bd3786\"],[0.5555555555555556,\"#d8576b\"],[0.6666666666666666,\"#ed7953\"],[0.7777777777777778,\"#fb9f3a\"],[0.8888888888888888,\"#fdca26\"],[1.0,\"#f0f921\"]]}],\"heatmap\":[{\"type\":\"heatmap\",\"colorbar\":{\"outlinewidth\":0,\"ticks\":\"\"},\"colorscale\":[[0.0,\"#0d0887\"],[0.1111111111111111,\"#46039f\"],[0.2222222222222222,\"#7201a8\"],[0.3333333333333333,\"#9c179e\"],[0.4444444444444444,\"#bd3786\"],[0.5555555555555556,\"#d8576b\"],[0.6666666666666666,\"#ed7953\"],[0.7777777777777778,\"#fb9f3a\"],[0.8888888888888888,\"#fdca26\"],[1.0,\"#f0f921\"]]}],\"heatmapgl\":[{\"type\":\"heatmapgl\",\"colorbar\":{\"outlinewidth\":0,\"ticks\":\"\"},\"colorscale\":[[0.0,\"#0d0887\"],[0.1111111111111111,\"#46039f\"],[0.2222222222222222,\"#7201a8\"],[0.3333333333333333,\"#9c179e\"],[0.4444444444444444,\"#bd3786\"],[0.5555555555555556,\"#d8576b\"],[0.6666666666666666,\"#ed7953\"],[0.7777777777777778,\"#fb9f3a\"],[0.8888888888888888,\"#fdca26\"],[1.0,\"#f0f921\"]]}],\"contourcarpet\":[{\"type\":\"contourcarpet\",\"colorbar\":{\"outlinewidth\":0,\"ticks\":\"\"}}],\"contour\":[{\"type\":\"contour\",\"colorbar\":{\"outlinewidth\":0,\"ticks\":\"\"},\"colorscale\":[[0.0,\"#0d0887\"],[0.1111111111111111,\"#46039f\"],[0.2222222222222222,\"#7201a8\"],[0.3333333333333333,\"#9c179e\"],[0.4444444444444444,\"#bd3786\"],[0.5555555555555556,\"#d8576b\"],[0.6666666666666666,\"#ed7953\"],[0.7777777777777778,\"#fb9f3a\"],[0.8888888888888888,\"#fdca26\"],[1.0,\"#f0f921\"]]}],\"surface\":[{\"type\":\"surface\",\"colorbar\":{\"outlinewidth\":0,\"ticks\":\"\"},\"colorscale\":[[0.0,\"#0d0887\"],[0.1111111111111111,\"#46039f\"],[0.2222222222222222,\"#7201a8\"],[0.3333333333333333,\"#9c179e\"],[0.4444444444444444,\"#bd3786\"],[0.5555555555555556,\"#d8576b\"],[0.6666666666666666,\"#ed7953\"],[0.7777777777777778,\"#fb9f3a\"],[0.8888888888888888,\"#fdca26\"],[1.0,\"#f0f921\"]]}],\"mesh3d\":[{\"type\":\"mesh3d\",\"colorbar\":{\"outlinewidth\":0,\"ticks\":\"\"}}],\"scatter\":[{\"fillpattern\":{\"fillmode\":\"overlay\",\"size\":10,\"solidity\":0.2},\"type\":\"scatter\"}],\"parcoords\":[{\"type\":\"parcoords\",\"line\":{\"colorbar\":{\"outlinewidth\":0,\"ticks\":\"\"}}}],\"scatterpolargl\":[{\"type\":\"scatterpolargl\",\"marker\":{\"colorbar\":{\"outlinewidth\":0,\"ticks\":\"\"}}}],\"bar\":[{\"error_x\":{\"color\":\"#2a3f5f\"},\"error_y\":{\"color\":\"#2a3f5f\"},\"marker\":{\"line\":{\"color\":\"#E5ECF6\",\"width\":0.5},\"pattern\":{\"fillmode\":\"overlay\",\"size\":10,\"solidity\":0.2}},\"type\":\"bar\"}],\"scattergeo\":[{\"type\":\"scattergeo\",\"marker\":{\"colorbar\":{\"outlinewidth\":0,\"ticks\":\"\"}}}],\"scatterpolar\":[{\"type\":\"scatterpolar\",\"marker\":{\"colorbar\":{\"outlinewidth\":0,\"ticks\":\"\"}}}],\"histogram\":[{\"marker\":{\"pattern\":{\"fillmode\":\"overlay\",\"size\":10,\"solidity\":0.2}},\"type\":\"histogram\"}],\"scattergl\":[{\"type\":\"scattergl\",\"marker\":{\"colorbar\":{\"outlinewidth\":0,\"ticks\":\"\"}}}],\"scatter3d\":[{\"type\":\"scatter3d\",\"line\":{\"colorbar\":{\"outlinewidth\":0,\"ticks\":\"\"}},\"marker\":{\"colorbar\":{\"outlinewidth\":0,\"ticks\":\"\"}}}],\"scattermapbox\":[{\"type\":\"scattermapbox\",\"marker\":{\"colorbar\":{\"outlinewidth\":0,\"ticks\":\"\"}}}],\"scatterternary\":[{\"type\":\"scatterternary\",\"marker\":{\"colorbar\":{\"outlinewidth\":0,\"ticks\":\"\"}}}],\"scattercarpet\":[{\"type\":\"scattercarpet\",\"marker\":{\"colorbar\":{\"outlinewidth\":0,\"ticks\":\"\"}}}],\"carpet\":[{\"aaxis\":{\"endlinecolor\":\"#2a3f5f\",\"gridcolor\":\"white\",\"linecolor\":\"white\",\"minorgridcolor\":\"white\",\"startlinecolor\":\"#2a3f5f\"},\"baxis\":{\"endlinecolor\":\"#2a3f5f\",\"gridcolor\":\"white\",\"linecolor\":\"white\",\"minorgridcolor\":\"white\",\"startlinecolor\":\"#2a3f5f\"},\"type\":\"carpet\"}],\"table\":[{\"cells\":{\"fill\":{\"color\":\"#EBF0F8\"},\"line\":{\"color\":\"white\"}},\"header\":{\"fill\":{\"color\":\"#C8D4E3\"},\"line\":{\"color\":\"white\"}},\"type\":\"table\"}],\"barpolar\":[{\"marker\":{\"line\":{\"color\":\"#E5ECF6\",\"width\":0.5},\"pattern\":{\"fillmode\":\"overlay\",\"size\":10,\"solidity\":0.2}},\"type\":\"barpolar\"}],\"pie\":[{\"automargin\":true,\"type\":\"pie\"}]},\"layout\":{\"autotypenumbers\":\"strict\",\"colorway\":[\"#636efa\",\"#EF553B\",\"#00cc96\",\"#ab63fa\",\"#FFA15A\",\"#19d3f3\",\"#FF6692\",\"#B6E880\",\"#FF97FF\",\"#FECB52\"],\"font\":{\"color\":\"#2a3f5f\"},\"hovermode\":\"closest\",\"hoverlabel\":{\"align\":\"left\"},\"paper_bgcolor\":\"white\",\"plot_bgcolor\":\"#E5ECF6\",\"polar\":{\"bgcolor\":\"#E5ECF6\",\"angularaxis\":{\"gridcolor\":\"white\",\"linecolor\":\"white\",\"ticks\":\"\"},\"radialaxis\":{\"gridcolor\":\"white\",\"linecolor\":\"white\",\"ticks\":\"\"}},\"ternary\":{\"bgcolor\":\"#E5ECF6\",\"aaxis\":{\"gridcolor\":\"white\",\"linecolor\":\"white\",\"ticks\":\"\"},\"baxis\":{\"gridcolor\":\"white\",\"linecolor\":\"white\",\"ticks\":\"\"},\"caxis\":{\"gridcolor\":\"white\",\"linecolor\":\"white\",\"ticks\":\"\"}},\"coloraxis\":{\"colorbar\":{\"outlinewidth\":0,\"ticks\":\"\"}},\"colorscale\":{\"sequential\":[[0.0,\"#0d0887\"],[0.1111111111111111,\"#46039f\"],[0.2222222222222222,\"#7201a8\"],[0.3333333333333333,\"#9c179e\"],[0.4444444444444444,\"#bd3786\"],[0.5555555555555556,\"#d8576b\"],[0.6666666666666666,\"#ed7953\"],[0.7777777777777778,\"#fb9f3a\"],[0.8888888888888888,\"#fdca26\"],[1.0,\"#f0f921\"]],\"sequentialminus\":[[0.0,\"#0d0887\"],[0.1111111111111111,\"#46039f\"],[0.2222222222222222,\"#7201a8\"],[0.3333333333333333,\"#9c179e\"],[0.4444444444444444,\"#bd3786\"],[0.5555555555555556,\"#d8576b\"],[0.6666666666666666,\"#ed7953\"],[0.7777777777777778,\"#fb9f3a\"],[0.8888888888888888,\"#fdca26\"],[1.0,\"#f0f921\"]],\"diverging\":[[0,\"#8e0152\"],[0.1,\"#c51b7d\"],[0.2,\"#de77ae\"],[0.3,\"#f1b6da\"],[0.4,\"#fde0ef\"],[0.5,\"#f7f7f7\"],[0.6,\"#e6f5d0\"],[0.7,\"#b8e186\"],[0.8,\"#7fbc41\"],[0.9,\"#4d9221\"],[1,\"#276419\"]]},\"xaxis\":{\"gridcolor\":\"white\",\"linecolor\":\"white\",\"ticks\":\"\",\"title\":{\"standoff\":15},\"zerolinecolor\":\"white\",\"automargin\":true,\"zerolinewidth\":2},\"yaxis\":{\"gridcolor\":\"white\",\"linecolor\":\"white\",\"ticks\":\"\",\"title\":{\"standoff\":15},\"zerolinecolor\":\"white\",\"automargin\":true,\"zerolinewidth\":2},\"scene\":{\"xaxis\":{\"backgroundcolor\":\"#E5ECF6\",\"gridcolor\":\"white\",\"linecolor\":\"white\",\"showbackground\":true,\"ticks\":\"\",\"zerolinecolor\":\"white\",\"gridwidth\":2},\"yaxis\":{\"backgroundcolor\":\"#E5ECF6\",\"gridcolor\":\"white\",\"linecolor\":\"white\",\"showbackground\":true,\"ticks\":\"\",\"zerolinecolor\":\"white\",\"gridwidth\":2},\"zaxis\":{\"backgroundcolor\":\"#E5ECF6\",\"gridcolor\":\"white\",\"linecolor\":\"white\",\"showbackground\":true,\"ticks\":\"\",\"zerolinecolor\":\"white\",\"gridwidth\":2}},\"shapedefaults\":{\"line\":{\"color\":\"#2a3f5f\"}},\"annotationdefaults\":{\"arrowcolor\":\"#2a3f5f\",\"arrowhead\":0,\"arrowwidth\":1},\"geo\":{\"bgcolor\":\"white\",\"landcolor\":\"#E5ECF6\",\"subunitcolor\":\"white\",\"showland\":true,\"showlakes\":true,\"lakecolor\":\"white\"},\"title\":{\"x\":0.05},\"mapbox\":{\"style\":\"light\"}}},\"xaxis\":{\"anchor\":\"y\",\"domain\":[0.0,1.0],\"title\":{\"text\":\"Ownership\"},\"categoryorder\":\"array\",\"categoryarray\":[\"Private\",\"Public\\u002fGovt\"]},\"yaxis\":{\"anchor\":\"x\",\"domain\":[0.0,1.0],\"title\":{\"text\":\"Count\"}},\"legend\":{\"title\":{\"text\":\"Ownership\"},\"tracegroupgap\":0},\"title\":{\"text\":\"Count of Ownership Categories\"},\"barmode\":\"relative\",\"height\":400,\"width\":800},                        {\"responsive\": true}                    ).then(function(){\n",
       "                            \n",
       "var gd = document.getElementById('1dd2454f-6614-4607-b977-80f9962bba6d');\n",
       "var x = new MutationObserver(function (mutations, observer) {{\n",
       "        var display = window.getComputedStyle(gd).display;\n",
       "        if (!display || display === 'none') {{\n",
       "            console.log([gd, 'removed!']);\n",
       "            Plotly.purge(gd);\n",
       "            observer.disconnect();\n",
       "        }}\n",
       "}});\n",
       "\n",
       "// Listen for the removal of the full notebook cells\n",
       "var notebookContainer = gd.closest('#notebook-container');\n",
       "if (notebookContainer) {{\n",
       "    x.observe(notebookContainer, {childList: true});\n",
       "}}\n",
       "\n",
       "// Listen for the clearing of the current output cell\n",
       "var outputEl = gd.closest('.output');\n",
       "if (outputEl) {{\n",
       "    x.observe(outputEl, {childList: true});\n",
       "}}\n",
       "\n",
       "                        })                };                });            </script>        </div>"
      ]
     },
     "metadata": {},
     "output_type": "display_data"
    }
   ],
   "source": [
    "# Count occurrences of each category\n",
    "ownership_counts = df['Ownership'].value_counts().reset_index()\n",
    "ownership_counts.columns = ['Ownership', 'Count'] \n",
    "\n",
    "# Create a bar chart\n",
    "fig = px.bar(ownership_counts, x='Ownership', y='Count',\n",
    "             title='Count of Ownership Categories',\n",
    "             color='Ownership', \n",
    "             color_discrete_sequence=px.colors.qualitative.Pastel)\n",
    "\n",
    "# Update layout for better readability and set figure size\n",
    "fig.update_layout(\n",
    "    xaxis_title='Ownership',\n",
    "    yaxis_title='Count',\n",
    "    height=400,  # Set height of the plot\n",
    "    width=800,  # Set width of the plot\n",
    ")\n",
    "\n",
    "\n",
    "fig.write_html(\"ownership_counts.html\")"
   ]
  },
  {
   "cell_type": "markdown",
   "id": "b70bfb71-526e-479e-aef1-c6f232925918",
   "metadata": {},
   "source": [
    "#### Observation :\n",
    "\n",
    "- From the count plot we can see the most of the engineering colleges are privately owned (`339`)."
   ]
  },
  {
   "cell_type": "code",
   "execution_count": 203,
   "id": "9c91e4f1-ff13-4bbf-b66a-91cb5bf18143",
   "metadata": {},
   "outputs": [
    {
     "name": "stdout",
     "output_type": "stream",
     "text": [
      "C:\\Users\\aksha\\Data_Analytics\\1_Python_programing\n"
     ]
    }
   ],
   "source": [
    "import os\n",
    "print(os.getcwd())"
   ]
  },
  {
   "cell_type": "code",
   "execution_count": 365,
   "id": "2de25c8a-b42e-4370-ba77-9b4a0f56ac95",
   "metadata": {},
   "outputs": [
    {
     "data": {
      "image/png": "[encoded data removed]",
      "text/plain": [
       "<Figure size 1500x500 with 1 Axes>"
      ]
     },
     "metadata": {},
     "output_type": "display_data"
    }
   ],
   "source": [
    "plt.figure(figsize=(15, 5))\n",
    "\n",
    "sns.histplot(df['Fees_in_lakhs'], bins=20, kde=True, color='blue')\n",
    "\n",
    "# Adding labels and title\n",
    "plt.title('Fees')\n",
    "plt.xlabel('Fees_in_lakhs')\n",
    "plt.ylabel('Frequency')\n",
    "\n",
    "plt.savefig('Fees.png', bbox_inches='tight')\n",
    "\n",
    "# Display the plot\n",
    "plt.show();"
   ]
  },
  {
   "cell_type": "markdown",
   "id": "c121bc13-3e20-4932-9241-9ca6c7f874b6",
   "metadata": {},
   "source": [
    "## Bivariate analysis"
   ]
  },
  {
   "cell_type": "markdown",
   "id": "571e40bc-675a-4d61-894c-51dc464e58d7",
   "metadata": {},
   "source": [
    "### Scatter plots (Numerical vs Numerical)"
   ]
  },
  {
   "cell_type": "code",
   "execution_count": 363,
   "id": "f96839ae-ce63-4940-ae9f-d8c924abe98f",
   "metadata": {},
   "outputs": [
    {
     "data": {
      "image/png": "[encoded data removed]",
      "text/plain": [
       "<Figure size 1000x600 with 4 Axes>"
      ]
     },
     "metadata": {},
     "output_type": "display_data"
    }
   ],
   "source": [
    "num_cols = ['Reviews','Fees_in_lakhs', 'BTech_Courses', 'MTech_Courses']\n",
    "\n",
    "fig, ax = plt.subplots(nrows=2, ncols=2, figsize = (10,6))\n",
    "\n",
    "# print(ax.flatten())\n",
    "pos_array = ax.flatten()\n",
    "\n",
    "for i in range(len(num_cols)):\n",
    "    sns.scatterplot(data = df,x=num_cols[i],y='Rating',\n",
    "    ax = pos_array[i], color='red')\n",
    "\n",
    "plt.suptitle(\"Scatter plots\", fontsize = 20)\n",
    "plt.tight_layout()\n",
    "\n",
    "plt.savefig('Scatter_plots.png', bbox_inches='tight')\n",
    "\n",
    "plt.show();"
   ]
  },
  {
   "cell_type": "markdown",
   "id": "212071d1-b947-4ade-900d-5609ff2a02d0",
   "metadata": {},
   "source": [
    "#### Observations:\n",
    "- Around 200 people who have given rating between `3.5-5` stars.\n",
    "- Mostly people are preferring engineering collegs are charging below `10 Lakhs` college Fees and thus highly rated.\n",
    "- Most of the Engineering colleges preferred by people (according to the number of ratings) have less than 20 B.Tech and M.Tech courses."
   ]
  },
  {
   "cell_type": "markdown",
   "id": "cae4e5c2-3485-4df5-80ef-eab6826c6dba",
   "metadata": {},
   "source": [
    "### Box plot of Ownership vs. Rating (Numerical vs Categorical)"
   ]
  },
  {
   "cell_type": "code",
   "execution_count": 361,
   "id": "55274343-05f5-4962-a539-3d1395017a12",
   "metadata": {},
   "outputs": [
    {
     "data": {
      "image/png": "[encoded data removed]",
      "text/plain": [
       "<Figure size 800x500 with 1 Axes>"
      ]
     },
     "metadata": {},
     "output_type": "display_data"
    }
   ],
   "source": [
    "# Create a box plot\n",
    "plt.figure(figsize=(8, 5))\n",
    "\n",
    "sns.boxplot(x='Ownership', y='Rating', data=df, palette='pastel')\n",
    "\n",
    "plt.title('Box Plot of Ownership vs. Rating')\n",
    "plt.xlabel('Ownership')\n",
    "plt.ylabel('Rating')\n",
    "\n",
    "plt.savefig('Box_Plot_of_Ownership_vs_Ratingp.png', bbox_inches='tight')\n",
    "\n",
    "plt.show();"
   ]
  },
  {
   "cell_type": "markdown",
   "id": "7417dd0c-24a8-4064-b059-516a61eb21f2",
   "metadata": {},
   "source": [
    "#### Observation:\n",
    "- `Public/Govt` are rated Higher than the Private Engineering colleges."
   ]
  },
  {
   "cell_type": "markdown",
   "id": "9535eee2-a538-48d8-9c0d-34efdf957684",
   "metadata": {},
   "source": [
    "### Box Plot of Fees vs. Ownership (Numerical vs Categorical)"
   ]
  },
  {
   "cell_type": "code",
   "execution_count": 359,
   "id": "ae4963d3-5fb3-4057-ad7b-b2a043714a90",
   "metadata": {},
   "outputs": [
    {
     "data": {
      "image/png": "[encoded data removed]",
      "text/plain": [
       "<Figure size 800x500 with 1 Axes>"
      ]
     },
     "metadata": {},
     "output_type": "display_data"
    }
   ],
   "source": [
    "# Create a box plot\n",
    "plt.figure(figsize=(8, 5))\n",
    "\n",
    "sns.boxplot(x='Fees_in_lakhs', y='Ownership', data=df, palette='viridis')\n",
    "\n",
    "plt.title('Box Plot of Fees vs. Ownership')\n",
    "plt.xlabel('Fees')\n",
    "plt.ylabel('Ownership')\n",
    "\n",
    "plt.savefig('Box_Plot_of_Fees_vs_Ownership.png', bbox_inches='tight')\n",
    "\n",
    "plt.show();"
   ]
  },
  {
   "cell_type": "markdown",
   "id": "d61cfb2c-ee4b-4436-8bb1-da41d27eec24",
   "metadata": {},
   "source": [
    "#### Observation:\n",
    "- Looking at the more outliers in the Privately owned Engineering colleges we can say that they are charging more fees compared to Government colleges."
   ]
  },
  {
   "cell_type": "markdown",
   "id": "37f7bc1a-df3d-4d12-a271-c6aeddd645af",
   "metadata": {},
   "source": [
    "# Average fees state wise"
   ]
  },
  {
   "cell_type": "code",
   "execution_count": 307,
   "id": "afe816da-aeb4-47c0-b075-e5a6a1d189f8",
   "metadata": {},
   "outputs": [
    {
     "data": {
      "text/html": [
       "<div>\n",
       "<style scoped>\n",
       "    .dataframe tbody tr th:only-of-type {\n",
       "        vertical-align: middle;\n",
       "    }\n",
       "\n",
       "    .dataframe tbody tr th {\n",
       "        vertical-align: top;\n",
       "    }\n",
       "\n",
       "    .dataframe thead th {\n",
       "        text-align: right;\n",
       "    }\n",
       "</style>\n",
       "<table border=\"1\" class=\"dataframe\">\n",
       "  <thead>\n",
       "    <tr style=\"text-align: right;\">\n",
       "      <th></th>\n",
       "      <th>State</th>\n",
       "      <th>Average Fees</th>\n",
       "    </tr>\n",
       "  </thead>\n",
       "  <tbody>\n",
       "    <tr>\n",
       "      <th>0</th>\n",
       "      <td>Andhra Pradesh</td>\n",
       "      <td>5.49</td>\n",
       "    </tr>\n",
       "    <tr>\n",
       "      <th>1</th>\n",
       "      <td>Arunachal Pradesh</td>\n",
       "      <td>3.02</td>\n",
       "    </tr>\n",
       "    <tr>\n",
       "      <th>2</th>\n",
       "      <td>Assam</td>\n",
       "      <td>6.70</td>\n",
       "    </tr>\n",
       "    <tr>\n",
       "      <th>3</th>\n",
       "      <td>Bihar</td>\n",
       "      <td>5.77</td>\n",
       "    </tr>\n",
       "    <tr>\n",
       "      <th>4</th>\n",
       "      <td>Chandigarh</td>\n",
       "      <td>7.54</td>\n",
       "    </tr>\n",
       "    <tr>\n",
       "      <th>5</th>\n",
       "      <td>Chhattisgarh</td>\n",
       "      <td>6.49</td>\n",
       "    </tr>\n",
       "    <tr>\n",
       "      <th>6</th>\n",
       "      <td>Delhi</td>\n",
       "      <td>6.34</td>\n",
       "    </tr>\n",
       "    <tr>\n",
       "      <th>7</th>\n",
       "      <td>Goa</td>\n",
       "      <td>5.62</td>\n",
       "    </tr>\n",
       "    <tr>\n",
       "      <th>8</th>\n",
       "      <td>Gujarat</td>\n",
       "      <td>4.86</td>\n",
       "    </tr>\n",
       "    <tr>\n",
       "      <th>9</th>\n",
       "      <td>Haryana</td>\n",
       "      <td>4.71</td>\n",
       "    </tr>\n",
       "    <tr>\n",
       "      <th>10</th>\n",
       "      <td>Himachal Pradesh</td>\n",
       "      <td>5.68</td>\n",
       "    </tr>\n",
       "    <tr>\n",
       "      <th>11</th>\n",
       "      <td>Jammu and</td>\n",
       "      <td>6.22</td>\n",
       "    </tr>\n",
       "    <tr>\n",
       "      <th>12</th>\n",
       "      <td>Jharkhand</td>\n",
       "      <td>4.92</td>\n",
       "    </tr>\n",
       "    <tr>\n",
       "      <th>13</th>\n",
       "      <td>Karnataka</td>\n",
       "      <td>7.22</td>\n",
       "    </tr>\n",
       "    <tr>\n",
       "      <th>14</th>\n",
       "      <td>Kerala</td>\n",
       "      <td>5.13</td>\n",
       "    </tr>\n",
       "    <tr>\n",
       "      <th>15</th>\n",
       "      <td>Madhya Pradesh</td>\n",
       "      <td>5.04</td>\n",
       "    </tr>\n",
       "    <tr>\n",
       "      <th>16</th>\n",
       "      <td>Maharashtra</td>\n",
       "      <td>6.01</td>\n",
       "    </tr>\n",
       "    <tr>\n",
       "      <th>17</th>\n",
       "      <td>Manipur</td>\n",
       "      <td>5.70</td>\n",
       "    </tr>\n",
       "    <tr>\n",
       "      <th>18</th>\n",
       "      <td>Meghalaya</td>\n",
       "      <td>5.78</td>\n",
       "    </tr>\n",
       "    <tr>\n",
       "      <th>19</th>\n",
       "      <td>Mizoram</td>\n",
       "      <td>5.92</td>\n",
       "    </tr>\n",
       "    <tr>\n",
       "      <th>20</th>\n",
       "      <td>Nagaland</td>\n",
       "      <td>5.61</td>\n",
       "    </tr>\n",
       "    <tr>\n",
       "      <th>21</th>\n",
       "      <td>Odisha</td>\n",
       "      <td>6.97</td>\n",
       "    </tr>\n",
       "    <tr>\n",
       "      <th>22</th>\n",
       "      <td>Puducherry</td>\n",
       "      <td>5.76</td>\n",
       "    </tr>\n",
       "    <tr>\n",
       "      <th>23</th>\n",
       "      <td>Punjab</td>\n",
       "      <td>6.94</td>\n",
       "    </tr>\n",
       "    <tr>\n",
       "      <th>24</th>\n",
       "      <td>Rajasthan</td>\n",
       "      <td>8.30</td>\n",
       "    </tr>\n",
       "    <tr>\n",
       "      <th>25</th>\n",
       "      <td>Sikkim</td>\n",
       "      <td>9.65</td>\n",
       "    </tr>\n",
       "    <tr>\n",
       "      <th>26</th>\n",
       "      <td>Tamil Nadu</td>\n",
       "      <td>5.56</td>\n",
       "    </tr>\n",
       "    <tr>\n",
       "      <th>27</th>\n",
       "      <td>Telangana</td>\n",
       "      <td>6.42</td>\n",
       "    </tr>\n",
       "    <tr>\n",
       "      <th>28</th>\n",
       "      <td>Tripura</td>\n",
       "      <td>5.63</td>\n",
       "    </tr>\n",
       "    <tr>\n",
       "      <th>29</th>\n",
       "      <td>Uttar Pradesh</td>\n",
       "      <td>5.33</td>\n",
       "    </tr>\n",
       "    <tr>\n",
       "      <th>30</th>\n",
       "      <td>Uttarakhand</td>\n",
       "      <td>7.37</td>\n",
       "    </tr>\n",
       "    <tr>\n",
       "      <th>31</th>\n",
       "      <td>West Bengal</td>\n",
       "      <td>5.47</td>\n",
       "    </tr>\n",
       "  </tbody>\n",
       "</table>\n",
       "</div>"
      ],
      "text/plain": [
       "                State  Average Fees\n",
       "0      Andhra Pradesh          5.49\n",
       "1   Arunachal Pradesh          3.02\n",
       "2               Assam          6.70\n",
       "3               Bihar          5.77\n",
       "4          Chandigarh          7.54\n",
       "5        Chhattisgarh          6.49\n",
       "6               Delhi          6.34\n",
       "7                 Goa          5.62\n",
       "8             Gujarat          4.86\n",
       "9             Haryana          4.71\n",
       "10   Himachal Pradesh          5.68\n",
       "11          Jammu and          6.22\n",
       "12          Jharkhand          4.92\n",
       "13          Karnataka          7.22\n",
       "14             Kerala          5.13\n",
       "15     Madhya Pradesh          5.04\n",
       "16        Maharashtra          6.01\n",
       "17            Manipur          5.70\n",
       "18          Meghalaya          5.78\n",
       "19            Mizoram          5.92\n",
       "20           Nagaland          5.61\n",
       "21             Odisha          6.97\n",
       "22         Puducherry          5.76\n",
       "23             Punjab          6.94\n",
       "24          Rajasthan          8.30\n",
       "25             Sikkim          9.65\n",
       "26         Tamil Nadu          5.56\n",
       "27          Telangana          6.42\n",
       "28            Tripura          5.63\n",
       "29      Uttar Pradesh          5.33\n",
       "30        Uttarakhand          7.37\n",
       "31        West Bengal          5.47"
      ]
     },
     "execution_count": 307,
     "metadata": {},
     "output_type": "execute_result"
    }
   ],
   "source": [
    "# Group by State and calcuate the average Fees\n",
    "average_fees_by_state = df.groupby('State')['Fees_in_lakhs'].mean().reset_index()\n",
    "\n",
    "average_fees_by_state = (average_fees_by_state).round(2)\n",
    "\n",
    "# Rename the column for clarity\n",
    "average_fees_by_state.columns = ['State', 'Average Fees']\n",
    "\n",
    "# Sort the average fees in descending order\n",
    "df_sorted = average_fees_by_state.sort_values(by='Average Fees', ascending=False).reset_index(drop=True)\n",
    "\n",
    "average_fees_by_state"
   ]
  },
  {
   "cell_type": "code",
   "execution_count": 357,
   "id": "d834590c-a84b-4803-9e62-bb7f5cfb88bb",
   "metadata": {},
   "outputs": [
    {
     "data": {
      "image/png": "[encoded data removed]",
      "text/plain": [
       "<Figure size 1500x600 with 1 Axes>"
      ]
     },
     "metadata": {},
     "output_type": "display_data"
    }
   ],
   "source": [
    "# Create a bar plot\n",
    "plt.figure(figsize=(15, 6))\n",
    "sns.barplot(x='State', y='Average Fees', data=average_fees_by_state, palette='flare')\n",
    "plt.title('Average Fees by State')\n",
    "plt.xlabel('State')\n",
    "plt.ylabel('Average Fees')\n",
    "plt.xticks(rotation=90)  # Rotate x-axis labels if needed\n",
    "\n",
    "plt.savefig('Average_Fees_by_State.png', bbox_inches='tight')  # Save as PNG file\n",
    "\n",
    "plt.show();"
   ]
  },
  {
   "cell_type": "markdown",
   "id": "34af1def-fc82-4176-9714-e07f64b78d91",
   "metadata": {},
   "source": [
    "#### Observation:\n",
    "- `Sikkim` has the highest college fees followed by the `Rajasthan`.\n",
    "- Least college fees has the `Arunachal Pradesh`."
   ]
  },
  {
   "cell_type": "markdown",
   "id": "65a18db9-190f-4134-91f9-af3447d3e3c8",
   "metadata": {},
   "source": [
    "### Cross-tabulation of City and Ownership (Categorical vs Categorical)"
   ]
  },
  {
   "cell_type": "code",
   "execution_count": 331,
   "id": "e92afb8c-4a7e-4158-a420-a9c18044a83f",
   "metadata": {},
   "outputs": [
    {
     "data": {
      "text/html": [
       "<div>\n",
       "<style scoped>\n",
       "    .dataframe tbody tr th:only-of-type {\n",
       "        vertical-align: middle;\n",
       "    }\n",
       "\n",
       "    .dataframe tbody tr th {\n",
       "        vertical-align: top;\n",
       "    }\n",
       "\n",
       "    .dataframe thead th {\n",
       "        text-align: right;\n",
       "    }\n",
       "</style>\n",
       "<table border=\"1\" class=\"dataframe\">\n",
       "  <thead>\n",
       "    <tr style=\"text-align: right;\">\n",
       "      <th>Ownership</th>\n",
       "      <th>Private</th>\n",
       "      <th>Public/Govt</th>\n",
       "    </tr>\n",
       "    <tr>\n",
       "      <th>City</th>\n",
       "      <th></th>\n",
       "      <th></th>\n",
       "    </tr>\n",
       "  </thead>\n",
       "  <tbody>\n",
       "    <tr>\n",
       "      <th>Agartala</th>\n",
       "      <td>0</td>\n",
       "      <td>1</td>\n",
       "    </tr>\n",
       "    <tr>\n",
       "      <th>Agra</th>\n",
       "      <td>0</td>\n",
       "      <td>2</td>\n",
       "    </tr>\n",
       "    <tr>\n",
       "      <th>Ahmedabad</th>\n",
       "      <td>2</td>\n",
       "      <td>2</td>\n",
       "    </tr>\n",
       "    <tr>\n",
       "      <th>Ahmednagar</th>\n",
       "      <td>0</td>\n",
       "      <td>1</td>\n",
       "    </tr>\n",
       "    <tr>\n",
       "      <th>Aizawl</th>\n",
       "      <td>0</td>\n",
       "      <td>1</td>\n",
       "    </tr>\n",
       "    <tr>\n",
       "      <th>Aligarh</th>\n",
       "      <td>1</td>\n",
       "      <td>1</td>\n",
       "    </tr>\n",
       "    <tr>\n",
       "      <th>Alipurduar</th>\n",
       "      <td>0</td>\n",
       "      <td>1</td>\n",
       "    </tr>\n",
       "    <tr>\n",
       "      <th>Allahabad</th>\n",
       "      <td>0</td>\n",
       "      <td>3</td>\n",
       "    </tr>\n",
       "    <tr>\n",
       "      <th>Ambedkar Nagar</th>\n",
       "      <td>1</td>\n",
       "      <td>0</td>\n",
       "    </tr>\n",
       "    <tr>\n",
       "      <th>Amethi</th>\n",
       "      <td>0</td>\n",
       "      <td>2</td>\n",
       "    </tr>\n",
       "    <tr>\n",
       "      <th>Anantapur</th>\n",
       "      <td>0</td>\n",
       "      <td>2</td>\n",
       "    </tr>\n",
       "    <tr>\n",
       "      <th>Araria</th>\n",
       "      <td>0</td>\n",
       "      <td>1</td>\n",
       "    </tr>\n",
       "    <tr>\n",
       "      <th>Asalat Nagar</th>\n",
       "      <td>1</td>\n",
       "      <td>0</td>\n",
       "    </tr>\n",
       "    <tr>\n",
       "      <th>Aurangabad</th>\n",
       "      <td>1</td>\n",
       "      <td>1</td>\n",
       "    </tr>\n",
       "    <tr>\n",
       "      <th>Azamgarh</th>\n",
       "      <td>2</td>\n",
       "      <td>0</td>\n",
       "    </tr>\n",
       "  </tbody>\n",
       "</table>\n",
       "</div>"
      ],
      "text/plain": [
       "Ownership       Private  Public/Govt\n",
       "City                                \n",
       "Agartala              0            1\n",
       "Agra                  0            2\n",
       "Ahmedabad             2            2\n",
       "Ahmednagar            0            1\n",
       "Aizawl                0            1\n",
       "Aligarh               1            1\n",
       "Alipurduar            0            1\n",
       "Allahabad             0            3\n",
       "Ambedkar Nagar        1            0\n",
       "Amethi                0            2\n",
       "Anantapur             0            2\n",
       "Araria                0            1\n",
       "Asalat Nagar          1            0\n",
       "Aurangabad            1            1\n",
       "Azamgarh              2            0"
      ]
     },
     "execution_count": 331,
     "metadata": {},
     "output_type": "execute_result"
    }
   ],
   "source": [
    "# Cross-tabulation\n",
    "cross_tab = pd.crosstab(df['City'], df['Ownership'])\n",
    "cross_tab.head(15)"
   ]
  },
  {
   "cell_type": "markdown",
   "id": "e92e0927-0f39-4693-9a95-095c6ec21e16",
   "metadata": {},
   "source": [
    "### Heatmap of State vs Ownership (Categorical vs Categorical)"
   ]
  },
  {
   "cell_type": "code",
   "execution_count": 355,
   "id": "e0cb6d3d-3644-4b77-8be4-961874f638a4",
   "metadata": {},
   "outputs": [
    {
     "data": {
      "image/png": "[encoded data removed]",
      "text/plain": [
       "<Figure size 2000x1500 with 2 Axes>"
      ]
     },
     "metadata": {},
     "output_type": "display_data"
    }
   ],
   "source": [
    "# Create a cross-tabulation\n",
    "cross_tab = pd.crosstab(df['State'], df['Ownership'])\n",
    "\n",
    "# Create a heatmap\n",
    "plt.figure(figsize=(20, 15))\n",
    "sns.heatmap(cross_tab, annot=True, fmt='d', cmap='YlGnBu')\n",
    "plt.title('Heatmap of City vs. Ownership')\n",
    "plt.xlabel('Ownership')\n",
    "plt.ylabel('State')\n",
    "\n",
    "plt.savefig('heatmap_state_vs_ownership.png', bbox_inches='tight')  # Save as PNG file\n",
    "\n",
    "plt.show();"
   ]
  },
  {
   "cell_type": "markdown",
   "id": "65244130-426f-4b98-88e8-4321d3f48db8",
   "metadata": {},
   "source": [
    "#### Observations:\n",
    "- Highest Private Enigineering colleges are there in the `Tamilnadu` followed by `Maharasthra` and  `Karnataka`.\n",
    "- Highest Governament Enigineering colleges are there in the `Haryana` followed by `Uttar Pradesh` and `West Bengal`.\n",
    "- There are very less Enigineering colleges in few states Like `Nagaland`,`Mizoram`,`Maghalaya`,`Goa` and `Arunachal Pradesh`."
   ]
  },
  {
   "cell_type": "markdown",
   "id": "2b03036e-4d45-45f2-ab58-3e60d2d4d6bd",
   "metadata": {},
   "source": [
    "# Conclusion:\n"
   ]
  },
  {
   "cell_type": "markdown",
   "id": "3c916f70-9c80-441f-a00b-009140790198",
   "metadata": {},
   "source": [
    "# -- END --"
   ]
  }
 ],
 "metadata": {
  "kernelspec": {
   "display_name": "Python 3 (ipykernel)",
   "language": "python",
   "name": "python3"
  },
  "language_info": {
   "codemirror_mode": {
    "name": "ipython",
    "version": 3
   },
   "file_extension": ".py",
   "mimetype": "text/x-python",
   "name": "python",
   "nbconvert_exporter": "python",
   "pygments_lexer": "ipython3",
   "version": "3.12.4"
  }
 },
 "nbformat": 4,
 "nbformat_minor": 5
}
